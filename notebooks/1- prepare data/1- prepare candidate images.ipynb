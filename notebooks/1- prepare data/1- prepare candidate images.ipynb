{
 "cells": [
  {
   "cell_type": "code",
   "execution_count": 1,
   "metadata": {},
   "outputs": [],
   "source": [
    "import pandas as pd\n",
    "import re\n",
    "import requests\n",
    "from tqdm import tqdm_notebook as tqdm"
   ]
  },
  {
   "cell_type": "markdown",
   "metadata": {},
   "source": [
    "## Candidate images"
   ]
  },
  {
   "cell_type": "code",
   "execution_count": 6,
   "metadata": {},
   "outputs": [],
   "source": [
    "images = pd.read_csv('../data/thirdParty_images.csv', dtype=object)"
   ]
  },
  {
   "cell_type": "code",
   "execution_count": 30,
   "metadata": {},
   "outputs": [],
   "source": [
    "popularity = pd.read_csv('../data/community_images.csv', dtype=object)"
   ]
  },
  {
   "cell_type": "code",
   "execution_count": 17,
   "metadata": {},
   "outputs": [],
   "source": [
    "community = pd.read_csv('../data/community_tags.zip', dtype=object)"
   ]
  },
  {
   "cell_type": "code",
   "execution_count": 73,
   "metadata": {},
   "outputs": [],
   "source": [
    "community['image'] = community.apply(lambda d: str(d['slug']).replace('/',':')+':'+str(d['tag']), axis=1)"
   ]
  },
  {
   "cell_type": "code",
   "execution_count": 76,
   "metadata": {},
   "outputs": [],
   "source": [
    "community = community[['image','last_updated']]"
   ]
  },
  {
   "cell_type": "code",
   "execution_count": 10,
   "metadata": {},
   "outputs": [
    {
     "data": {
      "text/html": [
       "<div>\n",
       "<style scoped>\n",
       "    .dataframe tbody tr th:only-of-type {\n",
       "        vertical-align: middle;\n",
       "    }\n",
       "\n",
       "    .dataframe tbody tr th {\n",
       "        vertical-align: top;\n",
       "    }\n",
       "\n",
       "    .dataframe thead th {\n",
       "        text-align: right;\n",
       "    }\n",
       "</style>\n",
       "<table border=\"1\" class=\"dataframe\">\n",
       "  <thead>\n",
       "    <tr style=\"text-align: right;\">\n",
       "      <th></th>\n",
       "      <th>image</th>\n",
       "    </tr>\n",
       "    <tr>\n",
       "      <th>base</th>\n",
       "      <th></th>\n",
       "    </tr>\n",
       "  </thead>\n",
       "  <tbody>\n",
       "    <tr>\n",
       "      <td>node</td>\n",
       "      <td>61007</td>\n",
       "    </tr>\n",
       "    <tr>\n",
       "      <td>python</td>\n",
       "      <td>21774</td>\n",
       "    </tr>\n",
       "    <tr>\n",
       "      <td>ruby</td>\n",
       "      <td>3467</td>\n",
       "    </tr>\n",
       "  </tbody>\n",
       "</table>\n",
       "</div>"
      ],
      "text/plain": [
       "        image\n",
       "base         \n",
       "node    61007\n",
       "python  21774\n",
       "ruby     3467"
      ]
     },
     "execution_count": 10,
     "metadata": {},
     "output_type": "execute_result"
    }
   ],
   "source": [
    "images.groupby('base').count()"
   ]
  },
  {
   "cell_type": "code",
   "execution_count": 14,
   "metadata": {},
   "outputs": [
    {
     "data": {
      "text/html": [
       "<div>\n",
       "<style scoped>\n",
       "    .dataframe tbody tr th:only-of-type {\n",
       "        vertical-align: middle;\n",
       "    }\n",
       "\n",
       "    .dataframe tbody tr th {\n",
       "        vertical-align: top;\n",
       "    }\n",
       "\n",
       "    .dataframe thead th {\n",
       "        text-align: right;\n",
       "    }\n",
       "</style>\n",
       "<table border=\"1\" class=\"dataframe\">\n",
       "  <thead>\n",
       "    <tr style=\"text-align: right;\">\n",
       "      <th></th>\n",
       "      <th>image</th>\n",
       "      <th>base</th>\n",
       "    </tr>\n",
       "  </thead>\n",
       "  <tbody>\n",
       "    <tr>\n",
       "      <td>0</td>\n",
       "      <td>allenday:kiwi:latest</td>\n",
       "      <td>node</td>\n",
       "    </tr>\n",
       "    <tr>\n",
       "      <td>1</td>\n",
       "      <td>amouat:dnmonster:latest</td>\n",
       "      <td>node</td>\n",
       "    </tr>\n",
       "    <tr>\n",
       "      <td>2</td>\n",
       "      <td>base2s:blueprint-mock-server:latest</td>\n",
       "      <td>node</td>\n",
       "    </tr>\n",
       "    <tr>\n",
       "      <td>3</td>\n",
       "      <td>base2s:dredd:latest</td>\n",
       "      <td>node</td>\n",
       "    </tr>\n",
       "    <tr>\n",
       "      <td>4</td>\n",
       "      <td>cdmackie:insight-dash2:latest</td>\n",
       "      <td>node</td>\n",
       "    </tr>\n",
       "    <tr>\n",
       "      <td>...</td>\n",
       "      <td>...</td>\n",
       "      <td>...</td>\n",
       "    </tr>\n",
       "    <tr>\n",
       "      <td>86243</td>\n",
       "      <td>pivotalrabbitmq:ci:latest</td>\n",
       "      <td>ruby</td>\n",
       "    </tr>\n",
       "    <tr>\n",
       "      <td>86244</td>\n",
       "      <td>pivotalrabbitmq:dotnet-legacy:latest</td>\n",
       "      <td>ruby</td>\n",
       "    </tr>\n",
       "    <tr>\n",
       "      <td>86245</td>\n",
       "      <td>vjohnk:redmine:latest</td>\n",
       "      <td>ruby</td>\n",
       "    </tr>\n",
       "    <tr>\n",
       "      <td>86246</td>\n",
       "      <td>wuyue:redmine:latest</td>\n",
       "      <td>ruby</td>\n",
       "    </tr>\n",
       "    <tr>\n",
       "      <td>86247</td>\n",
       "      <td>yukimochi:mastodon-assets-precompiler:latest</td>\n",
       "      <td>ruby</td>\n",
       "    </tr>\n",
       "  </tbody>\n",
       "</table>\n",
       "<p>86248 rows × 2 columns</p>\n",
       "</div>"
      ],
      "text/plain": [
       "                                              image  base\n",
       "0                              allenday:kiwi:latest  node\n",
       "1                           amouat:dnmonster:latest  node\n",
       "2               base2s:blueprint-mock-server:latest  node\n",
       "3                               base2s:dredd:latest  node\n",
       "4                     cdmackie:insight-dash2:latest  node\n",
       "...                                             ...   ...\n",
       "86243                     pivotalrabbitmq:ci:latest  ruby\n",
       "86244          pivotalrabbitmq:dotnet-legacy:latest  ruby\n",
       "86245                         vjohnk:redmine:latest  ruby\n",
       "86246                          wuyue:redmine:latest  ruby\n",
       "86247  yukimochi:mastodon-assets-precompiler:latest  ruby\n",
       "\n",
       "[86248 rows x 2 columns]"
      ]
     },
     "execution_count": 14,
     "metadata": {},
     "output_type": "execute_result"
    }
   ],
   "source": [
    "images"
   ]
  },
  {
   "cell_type": "markdown",
   "metadata": {},
   "source": [
    "### check the popularity of candidate images"
   ]
  },
  {
   "cell_type": "code",
   "execution_count": 18,
   "metadata": {},
   "outputs": [
    {
     "data": {
      "text/plain": [
       "86248"
      ]
     },
     "execution_count": 18,
     "metadata": {},
     "output_type": "execute_result"
    }
   ],
   "source": [
    "images['slug'] = images['image'].apply(lambda x: x.split(':')[0]+'/'+x.split(':')[1])\n",
    "len(images)"
   ]
  },
  {
   "cell_type": "code",
   "execution_count": 19,
   "metadata": {},
   "outputs": [
    {
     "data": {
      "text/plain": [
       "86248"
      ]
     },
     "execution_count": 19,
     "metadata": {},
     "output_type": "execute_result"
    }
   ],
   "source": [
    "images = (images\n",
    "         .merge(popularity,\n",
    "               on = 'slug',\n",
    "               how = 'left'))\n",
    "images['popularity'] = images['popularity'].apply(int)\n",
    "len(images)"
   ]
  },
  {
   "cell_type": "code",
   "execution_count": 7,
   "metadata": {},
   "outputs": [],
   "source": [
    "# images = (images\n",
    "#          .merge(community,\n",
    "#                on = 'image',\n",
    "#                how = 'left'))\n",
    "# images = images.query('last_updated > \"2019\"')\n",
    "# len(images)\n",
    "\n",
    "# FOR NOW THIS IS SKIPPED"
   ]
  },
  {
   "cell_type": "code",
   "execution_count": 8,
   "metadata": {},
   "outputs": [
    {
     "data": {
      "text/html": [
       "<div>\n",
       "<style scoped>\n",
       "    .dataframe tbody tr th:only-of-type {\n",
       "        vertical-align: middle;\n",
       "    }\n",
       "\n",
       "    .dataframe tbody tr th {\n",
       "        vertical-align: top;\n",
       "    }\n",
       "\n",
       "    .dataframe thead th {\n",
       "        text-align: right;\n",
       "    }\n",
       "</style>\n",
       "<table border=\"1\" class=\"dataframe\">\n",
       "  <thead>\n",
       "    <tr style=\"text-align: right;\">\n",
       "      <th></th>\n",
       "      <th>image</th>\n",
       "      <th>slug</th>\n",
       "      <th>popularity</th>\n",
       "    </tr>\n",
       "    <tr>\n",
       "      <th>base</th>\n",
       "      <th></th>\n",
       "      <th></th>\n",
       "      <th></th>\n",
       "    </tr>\n",
       "  </thead>\n",
       "  <tbody>\n",
       "    <tr>\n",
       "      <td>node</td>\n",
       "      <td>61007</td>\n",
       "      <td>61007</td>\n",
       "      <td>61007</td>\n",
       "    </tr>\n",
       "    <tr>\n",
       "      <td>python</td>\n",
       "      <td>21774</td>\n",
       "      <td>21774</td>\n",
       "      <td>21774</td>\n",
       "    </tr>\n",
       "    <tr>\n",
       "      <td>ruby</td>\n",
       "      <td>3467</td>\n",
       "      <td>3467</td>\n",
       "      <td>3467</td>\n",
       "    </tr>\n",
       "  </tbody>\n",
       "</table>\n",
       "</div>"
      ],
      "text/plain": [
       "        image   slug  popularity\n",
       "base                            \n",
       "node    61007  61007       61007\n",
       "python  21774  21774       21774\n",
       "ruby     3467   3467        3467"
      ]
     },
     "execution_count": 8,
     "metadata": {},
     "output_type": "execute_result"
    }
   ],
   "source": [
    "images.groupby('base').count()"
   ]
  },
  {
   "cell_type": "code",
   "execution_count": 29,
   "metadata": {},
   "outputs": [
    {
     "data": {
      "text/plain": [
       "971906843"
      ]
     },
     "execution_count": 29,
     "metadata": {},
     "output_type": "execute_result"
    }
   ],
   "source": [
    "images.popularity.sum()"
   ]
  },
  {
   "cell_type": "code",
   "execution_count": 22,
   "metadata": {},
   "outputs": [
    {
     "data": {
      "text/plain": [
       "(3300, 3)"
      ]
     },
     "execution_count": 22,
     "metadata": {},
     "output_type": "execute_result"
    }
   ],
   "source": [
    "images2 = (images\n",
    "          .sort_values('popularity', ascending=False)\n",
    "          .groupby('base')\n",
    "          .head(1100)\n",
    "          .drop('image', axis=1)\n",
    "          .rename(columns={'slug':'image'})\n",
    "         )\n",
    "images2.shape"
   ]
  },
  {
   "cell_type": "code",
   "execution_count": 23,
   "metadata": {},
   "outputs": [
    {
     "data": {
      "text/plain": [
       "(4500, 3)"
      ]
     },
     "execution_count": 23,
     "metadata": {},
     "output_type": "execute_result"
    }
   ],
   "source": [
    "images3 = (images\n",
    "          .sort_values('popularity', ascending=False)\n",
    "          .groupby('base')\n",
    "          .head(1500)\n",
    "          .drop('image', axis=1)\n",
    "          .rename(columns={'slug':'image'})\n",
    "         )\n",
    "images3.shape"
   ]
  },
  {
   "cell_type": "code",
   "execution_count": 123,
   "metadata": {},
   "outputs": [],
   "source": [
    "images = images3[~images3.image.isin(images2.image)]"
   ]
  },
  {
   "cell_type": "code",
   "execution_count": 125,
   "metadata": {},
   "outputs": [
    {
     "data": {
      "text/plain": [
       "1200"
      ]
     },
     "execution_count": 125,
     "metadata": {},
     "output_type": "execute_result"
    }
   ],
   "source": [
    "len(images)"
   ]
  },
  {
   "cell_type": "code",
   "execution_count": 10,
   "metadata": {},
   "outputs": [],
   "source": [
    "images3.to_csv('../data/to_pull.csv', index=False)"
   ]
  },
  {
   "cell_type": "markdown",
   "metadata": {},
   "source": [
    "## Use the DockerHub Api to know when they were last updated"
   ]
  },
  {
   "cell_type": "code",
   "execution_count": 12,
   "metadata": {},
   "outputs": [],
   "source": [
    "def download_url(url):\n",
    "    ''' Download an url and returns the content'''\n",
    "    \n",
    "    response = requests.get(url)\n",
    "    webContent  = response.json()\n",
    "    return webContent"
   ]
  },
  {
   "cell_type": "code",
   "execution_count": 13,
   "metadata": {},
   "outputs": [],
   "source": [
    "def image_metadata(url):\n",
    "    ''' Parse a json file from url  '''\n",
    "    data  = download_url(url)\n",
    "    return data['last_updated']"
   ]
  },
  {
   "cell_type": "code",
   "execution_count": null,
   "metadata": {},
   "outputs": [],
   "source": [
    "if False:\n",
    "    images['last_updated'] = ''\n",
    "    for image in tqdm(images.image, total= len(images)) :\n",
    "        url = \"https://registry.hub.docker.com/v2/repositories/\"+image+\"/tags/latest\"\n",
    "        try:\n",
    "            date = image_metadata(url)\n",
    "            images.loc[images.image==image, 'last_updated'] = date\n",
    "        except:\n",
    "            images.loc[images.image==image, 'last_updated'] = pd.np.nan"
   ]
  },
  {
   "cell_type": "code",
   "execution_count": null,
   "metadata": {},
   "outputs": [],
   "source": [
    "images.to_csv('../data/to_pull.csv', index=False)"
   ]
  }
 ],
 "metadata": {
  "kernelspec": {
   "display_name": "Python 3",
   "language": "python",
   "name": "python3"
  },
  "language_info": {
   "codemirror_mode": {
    "name": "ipython",
    "version": 3
   },
   "file_extension": ".py",
   "mimetype": "text/x-python",
   "name": "python",
   "nbconvert_exporter": "python",
   "pygments_lexer": "ipython3",
   "version": "3.6.9"
  }
 },
 "nbformat": 4,
 "nbformat_minor": 2
}
