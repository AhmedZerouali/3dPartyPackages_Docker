{
 "cells": [
  {
   "cell_type": "code",
   "execution_count": 190,
   "metadata": {},
   "outputs": [],
   "source": [
    "import pandas as pd\n",
    "from tqdm.notebook import tqdm"
   ]
  },
  {
   "cell_type": "code",
   "execution_count": 191,
   "metadata": {},
   "outputs": [],
   "source": [
    "packages  = pd.read_csv('../data/cleaned_installed_packages.csv')\n",
    "packages.drop_duplicates(inplace=True)\n",
    "packages.dropna(inplace=True)"
   ]
  },
  {
   "cell_type": "code",
   "execution_count": 220,
   "metadata": {},
   "outputs": [],
   "source": [
    "df  = pd.read_csv('../data/package_dependencies.csv')\n",
    "df = df.query('package!=dependency')\n",
    "df = df.query('docker == True')\n",
    "df.drop('docker', axis=1, inplace=True)"
   ]
  },
  {
   "cell_type": "code",
   "execution_count": null,
   "metadata": {},
   "outputs": [],
   "source": [
    "packs = packages.query('image == \"library/node\"').package.unique()\n",
    "image  = packages.query('package == \"strongloop\"').iloc[0].image\n",
    "packs = packages.query('image == \"'+image+'\"').package.unique()\n",
    "\n",
    "mask1 = df.package.isin(packs)\n",
    "mask2 = df.dependency.isin(packs)\n",
    "node = df[mask1*mask2]\n",
    "\n",
    "node['FromType'] = node['base']\n",
    "node['FromName'] = node['dependency']\n",
    "node['Edge'] = 'requiredBy'\n",
    "node['ToType'] = node['base']\n",
    "node['ToName'] = node['package']\n",
    "node.drop(['base','package','dependency'], axis=1, inplace=True)"
   ]
  },
  {
   "cell_type": "code",
   "execution_count": 91,
   "metadata": {},
   "outputs": [],
   "source": [
    "#mask1 = df.package.isin(df.dependency)\n",
    "#mask2 = df.dependency.isin(df.package)\n",
    "#df = df[mask1+mask2]"
   ]
  },
  {
   "cell_type": "code",
   "execution_count": 196,
   "metadata": {},
   "outputs": [],
   "source": [
    "df['FromType'] = df['base']\n",
    "df['FromName'] = df['package']\n",
    "df['Edge'] = 'dependsOn'\n",
    "df['ToType'] = df['base']\n",
    "df['ToName'] = df['dependency']\n",
    "df.drop(['base','package','dependency','docker'], axis=1, inplace=True)"
   ]
  },
  {
   "cell_type": "code",
   "execution_count": 198,
   "metadata": {},
   "outputs": [
    {
     "data": {
      "text/html": [
       "<div>\n",
       "<style scoped>\n",
       "    .dataframe tbody tr th:only-of-type {\n",
       "        vertical-align: middle;\n",
       "    }\n",
       "\n",
       "    .dataframe tbody tr th {\n",
       "        vertical-align: top;\n",
       "    }\n",
       "\n",
       "    .dataframe thead th {\n",
       "        text-align: right;\n",
       "    }\n",
       "</style>\n",
       "<table border=\"1\" class=\"dataframe\">\n",
       "  <thead>\n",
       "    <tr style=\"text-align: right;\">\n",
       "      <th></th>\n",
       "      <th>FromName</th>\n",
       "      <th>Edge</th>\n",
       "      <th>ToType</th>\n",
       "      <th>ToName</th>\n",
       "    </tr>\n",
       "    <tr>\n",
       "      <th>FromType</th>\n",
       "      <th></th>\n",
       "      <th></th>\n",
       "      <th></th>\n",
       "      <th></th>\n",
       "    </tr>\n",
       "  </thead>\n",
       "  <tbody>\n",
       "    <tr>\n",
       "      <td>node</td>\n",
       "      <td>30928</td>\n",
       "      <td>30928</td>\n",
       "      <td>30928</td>\n",
       "      <td>30928</td>\n",
       "    </tr>\n",
       "    <tr>\n",
       "      <td>python</td>\n",
       "      <td>4709</td>\n",
       "      <td>4709</td>\n",
       "      <td>4709</td>\n",
       "      <td>4709</td>\n",
       "    </tr>\n",
       "    <tr>\n",
       "      <td>ruby</td>\n",
       "      <td>15101</td>\n",
       "      <td>15101</td>\n",
       "      <td>15101</td>\n",
       "      <td>15101</td>\n",
       "    </tr>\n",
       "  </tbody>\n",
       "</table>\n",
       "</div>"
      ],
      "text/plain": [
       "          FromName   Edge  ToType  ToName\n",
       "FromType                                 \n",
       "node         30928  30928   30928   30928\n",
       "python        4709   4709    4709    4709\n",
       "ruby         15101  15101   15101   15101"
      ]
     },
     "execution_count": 198,
     "metadata": {},
     "output_type": "execute_result"
    }
   ],
   "source": [
    "df.groupby(['FromType']).count()"
   ]
  },
  {
   "cell_type": "code",
   "execution_count": 199,
   "metadata": {},
   "outputs": [
    {
     "data": {
      "text/html": [
       "<div>\n",
       "<style scoped>\n",
       "    .dataframe tbody tr th:only-of-type {\n",
       "        vertical-align: middle;\n",
       "    }\n",
       "\n",
       "    .dataframe tbody tr th {\n",
       "        vertical-align: top;\n",
       "    }\n",
       "\n",
       "    .dataframe thead th {\n",
       "        text-align: right;\n",
       "    }\n",
       "</style>\n",
       "<table border=\"1\" class=\"dataframe\">\n",
       "  <thead>\n",
       "    <tr style=\"text-align: right;\">\n",
       "      <th></th>\n",
       "      <th>FromName</th>\n",
       "      <th>Edge</th>\n",
       "      <th>ToType</th>\n",
       "      <th>ToName</th>\n",
       "    </tr>\n",
       "    <tr>\n",
       "      <th>FromType</th>\n",
       "      <th></th>\n",
       "      <th></th>\n",
       "      <th></th>\n",
       "      <th></th>\n",
       "    </tr>\n",
       "  </thead>\n",
       "  <tbody>\n",
       "    <tr>\n",
       "      <td>node</td>\n",
       "      <td>4044</td>\n",
       "      <td>4044</td>\n",
       "      <td>4044</td>\n",
       "      <td>4044</td>\n",
       "    </tr>\n",
       "    <tr>\n",
       "      <td>python</td>\n",
       "      <td>3022</td>\n",
       "      <td>3022</td>\n",
       "      <td>3022</td>\n",
       "      <td>3022</td>\n",
       "    </tr>\n",
       "    <tr>\n",
       "      <td>ruby</td>\n",
       "      <td>6470</td>\n",
       "      <td>6470</td>\n",
       "      <td>6470</td>\n",
       "      <td>6470</td>\n",
       "    </tr>\n",
       "  </tbody>\n",
       "</table>\n",
       "</div>"
      ],
      "text/plain": [
       "          FromName  Edge  ToType  ToName\n",
       "FromType                                \n",
       "node          4044  4044    4044    4044\n",
       "python        3022  3022    3022    3022\n",
       "ruby          6470  6470    6470    6470"
      ]
     },
     "execution_count": 199,
     "metadata": {},
     "output_type": "execute_result"
    }
   ],
   "source": [
    "mask = df.FromName.isin(df.ToName)\n",
    "df[~mask].groupby(['FromType']).count()"
   ]
  },
  {
   "cell_type": "code",
   "execution_count": 98,
   "metadata": {},
   "outputs": [
    {
     "data": {
      "text/html": [
       "<div>\n",
       "<style scoped>\n",
       "    .dataframe tbody tr th:only-of-type {\n",
       "        vertical-align: middle;\n",
       "    }\n",
       "\n",
       "    .dataframe tbody tr th {\n",
       "        vertical-align: top;\n",
       "    }\n",
       "\n",
       "    .dataframe thead th {\n",
       "        text-align: right;\n",
       "    }\n",
       "</style>\n",
       "<table border=\"1\" class=\"dataframe\">\n",
       "  <thead>\n",
       "    <tr style=\"text-align: right;\">\n",
       "      <th></th>\n",
       "      <th>FromName</th>\n",
       "      <th>Edge</th>\n",
       "      <th>ToType</th>\n",
       "      <th>ToName</th>\n",
       "    </tr>\n",
       "    <tr>\n",
       "      <th>FromType</th>\n",
       "      <th></th>\n",
       "      <th></th>\n",
       "      <th></th>\n",
       "      <th></th>\n",
       "    </tr>\n",
       "  </thead>\n",
       "  <tbody>\n",
       "    <tr>\n",
       "      <td>node</td>\n",
       "      <td>2979</td>\n",
       "      <td>2979</td>\n",
       "      <td>2979</td>\n",
       "      <td>2979</td>\n",
       "    </tr>\n",
       "    <tr>\n",
       "      <td>python</td>\n",
       "      <td>745</td>\n",
       "      <td>745</td>\n",
       "      <td>745</td>\n",
       "      <td>745</td>\n",
       "    </tr>\n",
       "    <tr>\n",
       "      <td>ruby</td>\n",
       "      <td>244</td>\n",
       "      <td>244</td>\n",
       "      <td>244</td>\n",
       "      <td>244</td>\n",
       "    </tr>\n",
       "  </tbody>\n",
       "</table>\n",
       "</div>"
      ],
      "text/plain": [
       "          FromName  Edge  ToType  ToName\n",
       "FromType                                \n",
       "node          2979  2979    2979    2979\n",
       "python         745   745     745     745\n",
       "ruby           244   244     244     244"
      ]
     },
     "execution_count": 98,
     "metadata": {},
     "output_type": "execute_result"
    }
   ],
   "source": [
    "mask = df.ToName.isin(df.FromName)\n",
    "df[~mask].groupby(['FromType']).count()"
   ]
  },
  {
   "cell_type": "code",
   "execution_count": 205,
   "metadata": {},
   "outputs": [
    {
     "data": {
      "text/plain": [
       "13536"
      ]
     },
     "execution_count": 205,
     "metadata": {},
     "output_type": "execute_result"
    }
   ],
   "source": [
    "len(assl)"
   ]
  },
  {
   "cell_type": "code",
   "execution_count": null,
   "metadata": {},
   "outputs": [],
   "source": [
    "# Compute \n",
    "mask = df.package.isin(df.dependency)\n",
    "i=0\n",
    "assl = df[~mask]\n",
    "assl['level'] = 0\n",
    "while (True):\n",
    "    print(assl[['base','package']].drop_duplicates().size)\n",
    "    new_df = assl.query('level=='+str(i))[['base','dependency']].drop_duplicates()\n",
    "    new_df = (new_df\n",
    "              .rename(columns={'dependency':'package'})\n",
    "              .merge(df,\n",
    "                     on = ['package','base']                    )\n",
    "             )\n",
    "    \n",
    "    new_df.dropna(inplace=True)\n",
    "        \n",
    "    new_df = (assl.query('level=='+str(i))\n",
    "          .merge(new_df\n",
    "                .rename(columns={'dependency':'dependency2', 'package':'dependency'}),\n",
    "                 on = ['dependency','base']\n",
    "                )\n",
    "         )\n",
    "    \n",
    "    new_df = new_df[['base','package','dependency2']].drop_duplicates()\n",
    "    new_df.rename(columns={'dependency2':'dependency'}, inplace=True)\n",
    "    new_df.dropna(inplace=True)\n",
    "    \n",
    "    i=i+1\n",
    "    new_df['level'] = i\n",
    "    size_dfs = len(assl[['base','package','dependency']].drop_duplicates())\n",
    "    size_dfs_compare = len(pd.concat([assl,new_df])[['base','package','dependency']].drop_duplicates())\n",
    "    print(i,size_dfs, size_dfs_compare)\n",
    "    if size_dfs == size_dfs_compare:\n",
    "        break\n",
    "    assl = pd.concat([assl,new_df])\n",
    "    assl = assl.sort_values('level').groupby(['package','dependency']).first().reset_index()\n"
   ]
  },
  {
   "cell_type": "code",
   "execution_count": 207,
   "metadata": {},
   "outputs": [],
   "source": [
    "test = assl.sort_values('level', ascending=False).groupby(['base','package']).first().reset_index()"
   ]
  },
  {
   "cell_type": "code",
   "execution_count": 218,
   "metadata": {},
   "outputs": [
    {
     "data": {
      "text/plain": [
       "1398"
      ]
     },
     "execution_count": 218,
     "metadata": {},
     "output_type": "execute_result"
    }
   ],
   "source": [
    "image  = packages.query('package == \"strongloop\"').iloc[0].image\n",
    "len(packages.query('image == \"'+image+'\"'))"
   ]
  },
  {
   "cell_type": "code",
   "execution_count": 208,
   "metadata": {},
   "outputs": [
    {
     "data": {
      "text/html": [
       "<div>\n",
       "<style scoped>\n",
       "    .dataframe tbody tr th:only-of-type {\n",
       "        vertical-align: middle;\n",
       "    }\n",
       "\n",
       "    .dataframe tbody tr th {\n",
       "        vertical-align: top;\n",
       "    }\n",
       "\n",
       "    .dataframe thead th {\n",
       "        text-align: right;\n",
       "    }\n",
       "</style>\n",
       "<table border=\"1\" class=\"dataframe\">\n",
       "  <thead>\n",
       "    <tr style=\"text-align: right;\">\n",
       "      <th></th>\n",
       "      <th></th>\n",
       "      <th>package</th>\n",
       "      <th>level</th>\n",
       "    </tr>\n",
       "    <tr>\n",
       "      <th>base</th>\n",
       "      <th>dependency</th>\n",
       "      <th></th>\n",
       "      <th></th>\n",
       "    </tr>\n",
       "  </thead>\n",
       "  <tbody>\n",
       "    <tr>\n",
       "      <td>node</td>\n",
       "      <td>7zip-bin</td>\n",
       "      <td>1</td>\n",
       "      <td>1</td>\n",
       "    </tr>\n",
       "    <tr>\n",
       "      <td>python</td>\n",
       "      <td>click-log</td>\n",
       "      <td>1</td>\n",
       "      <td>1</td>\n",
       "    </tr>\n",
       "    <tr>\n",
       "      <td rowspan=\"2\" valign=\"top\">node</td>\n",
       "      <td>frameguard</td>\n",
       "      <td>1</td>\n",
       "      <td>1</td>\n",
       "    </tr>\n",
       "    <tr>\n",
       "      <td>freeport</td>\n",
       "      <td>1</td>\n",
       "      <td>1</td>\n",
       "    </tr>\n",
       "    <tr>\n",
       "      <td>python</td>\n",
       "      <td>click-datetime</td>\n",
       "      <td>1</td>\n",
       "      <td>1</td>\n",
       "    </tr>\n",
       "    <tr>\n",
       "      <td>...</td>\n",
       "      <td>...</td>\n",
       "      <td>...</td>\n",
       "      <td>...</td>\n",
       "    </tr>\n",
       "    <tr>\n",
       "      <td rowspan=\"5\" valign=\"top\">ruby</td>\n",
       "      <td>pdf-reader</td>\n",
       "      <td>1509</td>\n",
       "      <td>1509</td>\n",
       "    </tr>\n",
       "    <tr>\n",
       "      <td>yard</td>\n",
       "      <td>1510</td>\n",
       "      <td>1510</td>\n",
       "    </tr>\n",
       "    <tr>\n",
       "      <td>parallel</td>\n",
       "      <td>1510</td>\n",
       "      <td>1510</td>\n",
       "    </tr>\n",
       "    <tr>\n",
       "      <td>erubis</td>\n",
       "      <td>1510</td>\n",
       "      <td>1510</td>\n",
       "    </tr>\n",
       "    <tr>\n",
       "      <td>concurrent-ruby</td>\n",
       "      <td>1510</td>\n",
       "      <td>1510</td>\n",
       "    </tr>\n",
       "  </tbody>\n",
       "</table>\n",
       "<p>7653 rows × 2 columns</p>\n",
       "</div>"
      ],
      "text/plain": [
       "                        package  level\n",
       "base   dependency                     \n",
       "node   7zip-bin               1      1\n",
       "python click-log              1      1\n",
       "node   frameguard             1      1\n",
       "       freeport               1      1\n",
       "python click-datetime         1      1\n",
       "...                         ...    ...\n",
       "ruby   pdf-reader          1509   1509\n",
       "       yard                1510   1510\n",
       "       parallel            1510   1510\n",
       "       erubis              1510   1510\n",
       "       concurrent-ruby     1510   1510\n",
       "\n",
       "[7653 rows x 2 columns]"
      ]
     },
     "execution_count": 208,
     "metadata": {},
     "output_type": "execute_result"
    }
   ],
   "source": [
    "assl.groupby(['base','dependency']).count().sort_values('package')"
   ]
  },
  {
   "cell_type": "code",
   "execution_count": 217,
   "metadata": {},
   "outputs": [
    {
     "data": {
      "text/html": [
       "<div>\n",
       "<style scoped>\n",
       "    .dataframe tbody tr th:only-of-type {\n",
       "        vertical-align: middle;\n",
       "    }\n",
       "\n",
       "    .dataframe tbody tr th {\n",
       "        vertical-align: top;\n",
       "    }\n",
       "\n",
       "    .dataframe thead th {\n",
       "        text-align: right;\n",
       "    }\n",
       "</style>\n",
       "<table border=\"1\" class=\"dataframe\">\n",
       "  <thead>\n",
       "    <tr style=\"text-align: right;\">\n",
       "      <th></th>\n",
       "      <th></th>\n",
       "      <th>dependency</th>\n",
       "      <th>level</th>\n",
       "    </tr>\n",
       "    <tr>\n",
       "      <th>base</th>\n",
       "      <th>package</th>\n",
       "      <th></th>\n",
       "      <th></th>\n",
       "    </tr>\n",
       "  </thead>\n",
       "  <tbody>\n",
       "    <tr>\n",
       "      <td rowspan=\"5\" valign=\"top\">python</td>\n",
       "      <td>django-watchman</td>\n",
       "      <td>1</td>\n",
       "      <td>1</td>\n",
       "    </tr>\n",
       "    <tr>\n",
       "      <td>rabbitpy</td>\n",
       "      <td>1</td>\n",
       "      <td>1</td>\n",
       "    </tr>\n",
       "    <tr>\n",
       "      <td>hdate</td>\n",
       "      <td>1</td>\n",
       "      <td>1</td>\n",
       "    </tr>\n",
       "    <tr>\n",
       "      <td>django-statsd-mozilla</td>\n",
       "      <td>1</td>\n",
       "      <td>1</td>\n",
       "    </tr>\n",
       "    <tr>\n",
       "      <td>hgijson</td>\n",
       "      <td>1</td>\n",
       "      <td>1</td>\n",
       "    </tr>\n",
       "    <tr>\n",
       "      <td>...</td>\n",
       "      <td>...</td>\n",
       "      <td>...</td>\n",
       "      <td>...</td>\n",
       "    </tr>\n",
       "    <tr>\n",
       "      <td rowspan=\"5\" valign=\"top\">node</td>\n",
       "      <td>polymer-cli</td>\n",
       "      <td>2735</td>\n",
       "      <td>2735</td>\n",
       "    </tr>\n",
       "    <tr>\n",
       "      <td>@luminati-io/luminati-proxy</td>\n",
       "      <td>2736</td>\n",
       "      <td>2736</td>\n",
       "    </tr>\n",
       "    <tr>\n",
       "      <td>sfdx-cli</td>\n",
       "      <td>2763</td>\n",
       "      <td>2763</td>\n",
       "    </tr>\n",
       "    <tr>\n",
       "      <td>@vue/cli</td>\n",
       "      <td>2800</td>\n",
       "      <td>2800</td>\n",
       "    </tr>\n",
       "    <tr>\n",
       "      <td>strongloop</td>\n",
       "      <td>2814</td>\n",
       "      <td>2814</td>\n",
       "    </tr>\n",
       "  </tbody>\n",
       "</table>\n",
       "<p>3053 rows × 2 columns</p>\n",
       "</div>"
      ],
      "text/plain": [
       "                                    dependency  level\n",
       "base   package                                       \n",
       "python django-watchman                       1      1\n",
       "       rabbitpy                              1      1\n",
       "       hdate                                 1      1\n",
       "       django-statsd-mozilla                 1      1\n",
       "       hgijson                               1      1\n",
       "...                                        ...    ...\n",
       "node   polymer-cli                        2735   2735\n",
       "       @luminati-io/luminati-proxy        2736   2736\n",
       "       sfdx-cli                           2763   2763\n",
       "       @vue/cli                           2800   2800\n",
       "       strongloop                         2814   2814\n",
       "\n",
       "[3053 rows x 2 columns]"
      ]
     },
     "execution_count": 217,
     "metadata": {},
     "output_type": "execute_result"
    }
   ],
   "source": [
    "assl.groupby(['base','package']).count().sort_values('dependency')"
   ]
  },
  {
   "cell_type": "code",
   "execution_count": 115,
   "metadata": {},
   "outputs": [
    {
     "data": {
      "text/html": [
       "<div>\n",
       "<style scoped>\n",
       "    .dataframe tbody tr th:only-of-type {\n",
       "        vertical-align: middle;\n",
       "    }\n",
       "\n",
       "    .dataframe tbody tr th {\n",
       "        vertical-align: top;\n",
       "    }\n",
       "\n",
       "    .dataframe thead th {\n",
       "        text-align: right;\n",
       "    }\n",
       "</style>\n",
       "<table border=\"1\" class=\"dataframe\">\n",
       "  <thead>\n",
       "    <tr style=\"text-align: right;\">\n",
       "      <th></th>\n",
       "      <th>package</th>\n",
       "      <th>dependency</th>\n",
       "      <th>base</th>\n",
       "      <th>level</th>\n",
       "    </tr>\n",
       "  </thead>\n",
       "  <tbody>\n",
       "    <tr>\n",
       "      <td>2253</td>\n",
       "      <td>@adonisjs/cli</td>\n",
       "      <td>npm</td>\n",
       "      <td>node</td>\n",
       "      <td>2</td>\n",
       "    </tr>\n",
       "    <tr>\n",
       "      <td>5673</td>\n",
       "      <td>@angular/cli</td>\n",
       "      <td>npm</td>\n",
       "      <td>node</td>\n",
       "      <td>2</td>\n",
       "    </tr>\n",
       "    <tr>\n",
       "      <td>9046</td>\n",
       "      <td>@cloudant/couchbackup</td>\n",
       "      <td>npm</td>\n",
       "      <td>node</td>\n",
       "      <td>2</td>\n",
       "    </tr>\n",
       "    <tr>\n",
       "      <td>12422</td>\n",
       "      <td>@graphile/postgis</td>\n",
       "      <td>npm</td>\n",
       "      <td>node</td>\n",
       "      <td>1</td>\n",
       "    </tr>\n",
       "    <tr>\n",
       "      <td>15936</td>\n",
       "      <td>@luminati-io/luminati-proxy</td>\n",
       "      <td>npm</td>\n",
       "      <td>node</td>\n",
       "      <td>1</td>\n",
       "    </tr>\n",
       "    <tr>\n",
       "      <td>...</td>\n",
       "      <td>...</td>\n",
       "      <td>...</td>\n",
       "      <td>...</td>\n",
       "      <td>...</td>\n",
       "    </tr>\n",
       "    <tr>\n",
       "      <td>2642721</td>\n",
       "      <td>yaml2json</td>\n",
       "      <td>npm</td>\n",
       "      <td>node</td>\n",
       "      <td>2</td>\n",
       "    </tr>\n",
       "    <tr>\n",
       "      <td>2647248</td>\n",
       "      <td>ynab</td>\n",
       "      <td>npm</td>\n",
       "      <td>node</td>\n",
       "      <td>1</td>\n",
       "    </tr>\n",
       "    <tr>\n",
       "      <td>2652584</td>\n",
       "      <td>yq</td>\n",
       "      <td>npm</td>\n",
       "      <td>node</td>\n",
       "      <td>2</td>\n",
       "    </tr>\n",
       "    <tr>\n",
       "      <td>2656285</td>\n",
       "      <td>yt</td>\n",
       "      <td>npm</td>\n",
       "      <td>node</td>\n",
       "      <td>2</td>\n",
       "    </tr>\n",
       "    <tr>\n",
       "      <td>2662845</td>\n",
       "      <td>zold</td>\n",
       "      <td>npm</td>\n",
       "      <td>node</td>\n",
       "      <td>2</td>\n",
       "    </tr>\n",
       "  </tbody>\n",
       "</table>\n",
       "<p>603 rows × 4 columns</p>\n",
       "</div>"
      ],
      "text/plain": [
       "                             package dependency  base  level\n",
       "2253                   @adonisjs/cli        npm  node      2\n",
       "5673                    @angular/cli        npm  node      2\n",
       "9046           @cloudant/couchbackup        npm  node      2\n",
       "12422              @graphile/postgis        npm  node      1\n",
       "15936    @luminati-io/luminati-proxy        npm  node      1\n",
       "...                              ...        ...   ...    ...\n",
       "2642721                    yaml2json        npm  node      2\n",
       "2647248                         ynab        npm  node      1\n",
       "2652584                           yq        npm  node      2\n",
       "2656285                           yt        npm  node      2\n",
       "2662845                         zold        npm  node      2\n",
       "\n",
       "[603 rows x 4 columns]"
      ]
     },
     "execution_count": 115,
     "metadata": {},
     "output_type": "execute_result"
    }
   ],
   "source": [
    "assl.query('dependency ==\"npm\"')"
   ]
  },
  {
   "cell_type": "code",
   "execution_count": 103,
   "metadata": {},
   "outputs": [
    {
     "data": {
      "text/plain": [
       "934"
      ]
     },
     "execution_count": 103,
     "metadata": {},
     "output_type": "execute_result"
    }
   ],
   "source": [
    "len(packages.query('image == \"luminati/luminati-proxy\"'))"
   ]
  },
  {
   "cell_type": "code",
   "execution_count": 111,
   "metadata": {},
   "outputs": [
    {
     "data": {
      "text/html": [
       "<div>\n",
       "<style scoped>\n",
       "    .dataframe tbody tr th:only-of-type {\n",
       "        vertical-align: middle;\n",
       "    }\n",
       "\n",
       "    .dataframe tbody tr th {\n",
       "        vertical-align: top;\n",
       "    }\n",
       "\n",
       "    .dataframe thead th {\n",
       "        text-align: right;\n",
       "    }\n",
       "</style>\n",
       "<table border=\"1\" class=\"dataframe\">\n",
       "  <thead>\n",
       "    <tr style=\"text-align: right;\">\n",
       "      <th></th>\n",
       "      <th>base</th>\n",
       "      <th>package</th>\n",
       "      <th>dependency</th>\n",
       "    </tr>\n",
       "  </thead>\n",
       "  <tbody>\n",
       "    <tr>\n",
       "      <td>77330</td>\n",
       "      <td>node</td>\n",
       "      <td>@luminati-io/luminati-proxy</td>\n",
       "      <td>webpack</td>\n",
       "    </tr>\n",
       "  </tbody>\n",
       "</table>\n",
       "</div>"
      ],
      "text/plain": [
       "       base                      package dependency\n",
       "77330  node  @luminati-io/luminati-proxy    webpack"
      ]
     },
     "execution_count": 111,
     "metadata": {},
     "output_type": "execute_result"
    }
   ],
   "source": [
    "df.query('package ==\"@luminati-io/luminati-proxy\" and dependency==\"webpack\"')"
   ]
  },
  {
   "cell_type": "code",
   "execution_count": 118,
   "metadata": {},
   "outputs": [],
   "source": [
    "core = packages.query('core==True')[['package','base']].drop_duplicates()"
   ]
  },
  {
   "cell_type": "code",
   "execution_count": 120,
   "metadata": {},
   "outputs": [
    {
     "data": {
      "text/html": [
       "<div>\n",
       "<style scoped>\n",
       "    .dataframe tbody tr th:only-of-type {\n",
       "        vertical-align: middle;\n",
       "    }\n",
       "\n",
       "    .dataframe tbody tr th {\n",
       "        vertical-align: top;\n",
       "    }\n",
       "\n",
       "    .dataframe thead th {\n",
       "        text-align: right;\n",
       "    }\n",
       "</style>\n",
       "<table border=\"1\" class=\"dataframe\">\n",
       "  <thead>\n",
       "    <tr style=\"text-align: right;\">\n",
       "      <th></th>\n",
       "      <th>package</th>\n",
       "    </tr>\n",
       "    <tr>\n",
       "      <th>base</th>\n",
       "      <th></th>\n",
       "    </tr>\n",
       "  </thead>\n",
       "  <tbody>\n",
       "    <tr>\n",
       "      <td>node</td>\n",
       "      <td>370</td>\n",
       "    </tr>\n",
       "    <tr>\n",
       "      <td>ruby</td>\n",
       "      <td>41</td>\n",
       "    </tr>\n",
       "  </tbody>\n",
       "</table>\n",
       "</div>"
      ],
      "text/plain": [
       "      package\n",
       "base         \n",
       "node      370\n",
       "ruby       41"
      ]
     },
     "execution_count": 120,
     "metadata": {},
     "output_type": "execute_result"
    }
   ],
   "source": [
    "core.groupby(['base']).count()"
   ]
  },
  {
   "cell_type": "code",
   "execution_count": 124,
   "metadata": {},
   "outputs": [
    {
     "data": {
      "text/html": [
       "<div>\n",
       "<style scoped>\n",
       "    .dataframe tbody tr th:only-of-type {\n",
       "        vertical-align: middle;\n",
       "    }\n",
       "\n",
       "    .dataframe tbody tr th {\n",
       "        vertical-align: top;\n",
       "    }\n",
       "\n",
       "    .dataframe thead th {\n",
       "        text-align: right;\n",
       "    }\n",
       "</style>\n",
       "<table border=\"1\" class=\"dataframe\">\n",
       "  <thead>\n",
       "    <tr style=\"text-align: right;\">\n",
       "      <th></th>\n",
       "      <th>package</th>\n",
       "    </tr>\n",
       "    <tr>\n",
       "      <th>base</th>\n",
       "      <th></th>\n",
       "    </tr>\n",
       "  </thead>\n",
       "  <tbody>\n",
       "    <tr>\n",
       "      <td>node</td>\n",
       "      <td>370</td>\n",
       "    </tr>\n",
       "    <tr>\n",
       "      <td>ruby</td>\n",
       "      <td>21</td>\n",
       "    </tr>\n",
       "  </tbody>\n",
       "</table>\n",
       "</div>"
      ],
      "text/plain": [
       "      package\n",
       "base         \n",
       "node      370\n",
       "ruby       21"
      ]
     },
     "execution_count": 124,
     "metadata": {},
     "output_type": "execute_result"
    }
   ],
   "source": [
    "core[core.package.isin(df.dependency)].groupby(['base']).count()"
   ]
  },
  {
   "cell_type": "code",
   "execution_count": 126,
   "metadata": {},
   "outputs": [
    {
     "data": {
      "text/plain": [
       "(599458, 85327)"
      ]
     },
     "execution_count": 126,
     "metadata": {},
     "output_type": "execute_result"
    }
   ],
   "source": [
    "len(packages), len(df)"
   ]
  },
  {
   "cell_type": "code",
   "execution_count": 179,
   "metadata": {},
   "outputs": [
    {
     "data": {
      "application/vnd.jupyter.widget-view+json": {
       "model_id": "427059467c2041b1aad537da3505bbd9",
       "version_major": 2,
       "version_minor": 0
      },
      "text/plain": [
       "HBox(children=(IntProgress(value=0, max=85253), HTML(value='')))"
      ]
     },
     "metadata": {},
     "output_type": "display_data"
    },
    {
     "name": "stdout",
     "output_type": "stream",
     "text": [
      "\n"
     ]
    }
   ],
   "source": [
    "# check if both packages exist in the images\n",
    "if False:\n",
    "    packages  = pd.read_csv('../data/cleaned_installed_packages.csv', \n",
    "                            usecols=['image','base','package'])\n",
    "    packages.drop_duplicates(inplace=True)\n",
    "    packages.dropna(inplace=True)\n",
    "\n",
    "    df  = pd.read_csv('../data/package_dependencies.csv')\n",
    "    df = df.query('package!=dependency')\n",
    "    df.dropna(inplace=True)\n",
    "\n",
    "    packages = packages.set_index('package')\n",
    "\n",
    "    def intersection(lst1, lst2): \n",
    "        lst3 = [value for value in lst1 if value in lst2] \n",
    "        return lst3 \n",
    "\n",
    "    results = []\n",
    "    for row in tqdm(df.iterrows(), total=len(df)):\n",
    "        package = row[1]['package']\n",
    "        dependency = row[1]['dependency']\n",
    "        try:\n",
    "            l1 = packages.loc[package].image.unique().tolist()\n",
    "        except:\n",
    "            l1 = [packages.loc[package].image]\n",
    "        try:\n",
    "            l2 = packages.loc[dependency].image.unique().tolist()\n",
    "        except:\n",
    "            l1 = [packages.loc[dependency].image]\n",
    "\n",
    "        if len(intersection(l1,l2))>0:\n",
    "            results.append(True)\n",
    "        else:\n",
    "            results.append(False)\n"
   ]
  },
  {
   "cell_type": "code",
   "execution_count": null,
   "metadata": {},
   "outputs": [],
   "source": []
  }
 ],
 "metadata": {
  "kernelspec": {
   "display_name": "Python 3",
   "language": "python",
   "name": "python3"
  },
  "language_info": {
   "codemirror_mode": {
    "name": "ipython",
    "version": 3
   },
   "file_extension": ".py",
   "mimetype": "text/x-python",
   "name": "python",
   "nbconvert_exporter": "python",
   "pygments_lexer": "ipython3",
   "version": "3.6.9"
  }
 },
 "nbformat": 4,
 "nbformat_minor": 2
}
