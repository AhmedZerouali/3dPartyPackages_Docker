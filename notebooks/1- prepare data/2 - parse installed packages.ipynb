{
 "cells": [
  {
   "cell_type": "code",
   "execution_count": 65,
   "metadata": {},
   "outputs": [],
   "source": [
    "import pandas as pd\n",
    "import re\n",
    "from tqdm import tqdm_notebook as tqdm\n",
    "import os"
   ]
  },
  {
   "cell_type": "markdown",
   "metadata": {},
   "source": [
    "### let's start with parsing the operating system"
   ]
  },
  {
   "cell_type": "code",
   "execution_count": 66,
   "metadata": {},
   "outputs": [
    {
     "data": {
      "text/plain": [
       "(4376, 3)"
      ]
     },
     "execution_count": 66,
     "metadata": {},
     "output_type": "execute_result"
    }
   ],
   "source": [
    "images = pd.read_csv('../data/to_pull.csv', dtype=object)\n",
    "images  = images.drop('base', axis=1).drop_duplicates()\n",
    "images['last_updated'] = images['last_updated'].apply(lambda x: str(x).split('T')[0])\n",
    "images.shape"
   ]
  },
  {
   "cell_type": "code",
   "execution_count": 67,
   "metadata": {},
   "outputs": [
    {
     "data": {
      "text/html": [
       "<div>\n",
       "<style scoped>\n",
       "    .dataframe tbody tr th:only-of-type {\n",
       "        vertical-align: middle;\n",
       "    }\n",
       "\n",
       "    .dataframe tbody tr th {\n",
       "        vertical-align: top;\n",
       "    }\n",
       "\n",
       "    .dataframe thead th {\n",
       "        text-align: right;\n",
       "    }\n",
       "</style>\n",
       "<table border=\"1\" class=\"dataframe\">\n",
       "  <thead>\n",
       "    <tr style=\"text-align: right;\">\n",
       "      <th></th>\n",
       "      <th>image</th>\n",
       "      <th>popularity</th>\n",
       "      <th>last_updated</th>\n",
       "    </tr>\n",
       "  </thead>\n",
       "  <tbody>\n",
       "    <tr>\n",
       "      <td>4496</td>\n",
       "      <td>dgarros/gitlab-getcitoken</td>\n",
       "      <td>83</td>\n",
       "      <td>2016-11-09</td>\n",
       "    </tr>\n",
       "    <tr>\n",
       "      <td>4497</td>\n",
       "      <td>greyblake/sinatra</td>\n",
       "      <td>82</td>\n",
       "      <td>2016-07-06</td>\n",
       "    </tr>\n",
       "    <tr>\n",
       "      <td>4498</td>\n",
       "      <td>maicatus/loghouse</td>\n",
       "      <td>82</td>\n",
       "      <td>2018-04-03</td>\n",
       "    </tr>\n",
       "    <tr>\n",
       "      <td>4499</td>\n",
       "      <td>sider/goodcheck</td>\n",
       "      <td>82</td>\n",
       "      <td>2019-11-19</td>\n",
       "    </tr>\n",
       "    <tr>\n",
       "      <td>4500</td>\n",
       "      <td>library/node</td>\n",
       "      <td>1000000</td>\n",
       "      <td>2019-11-19</td>\n",
       "    </tr>\n",
       "  </tbody>\n",
       "</table>\n",
       "</div>"
      ],
      "text/plain": [
       "                          image popularity last_updated\n",
       "4496  dgarros/gitlab-getcitoken         83   2016-11-09\n",
       "4497          greyblake/sinatra         82   2016-07-06\n",
       "4498          maicatus/loghouse         82   2018-04-03\n",
       "4499            sider/goodcheck         82   2019-11-19\n",
       "4500               library/node    1000000   2019-11-19"
      ]
     },
     "execution_count": 67,
     "metadata": {},
     "output_type": "execute_result"
    }
   ],
   "source": [
    "images.tail()"
   ]
  },
  {
   "cell_type": "code",
   "execution_count": 68,
   "metadata": {},
   "outputs": [],
   "source": [
    "operating = {}\n",
    "\n",
    "# parse operating system\n",
    "path = '../data/pulled/os/r1/'\n",
    "for file in os.listdir (path):\n",
    "    operating[file] = []\n",
    "    with open(path+file) as lines:\n",
    "        for line in lines.readlines():\n",
    "            if 'alpine' in line.lower():\n",
    "                operating[file].append('Alpine')\n",
    "            elif 'debian' in line.lower():\n",
    "                operating[file].append('Debian')\n",
    "            elif 'ubuntu' in line.lower():\n",
    "                operating[file].append('Ubuntu')\n",
    "            break\n",
    "            \n",
    "# parse operating system in case it couldn't be identified with the first command   \n",
    "path = '../data/pulled/os/r2/'\n",
    "for file in os.listdir (path):\n",
    "    if file not in operating:\n",
    "        operating[file] = []\n",
    "        with open(path+file) as lines:\n",
    "            for line in lines.readlines():\n",
    "                if 'alpine' in line.lower():\n",
    "                    operating[file].append('Alpine')\n",
    "                elif 'debian' in line.lower():\n",
    "                    operating[file].append('Debian')\n",
    "                elif 'ubuntu' in line.lower():\n",
    "                    operating[file].append('Ubuntu')\n",
    "                break\n",
    "operating = (pd\n",
    "             .DataFrame\n",
    "             .from_dict(operating, \n",
    "                        orient='index', \n",
    "                        columns=['operating'])\n",
    "             .reset_index()\n",
    "             .rename(columns={'index':'image'})\n",
    "            )\n",
    "operating['image'] = operating['image'].apply(lambda x: x.split(':')[0]+'/'+x.split(':')[1])"
   ]
  },
  {
   "cell_type": "code",
   "execution_count": 69,
   "metadata": {},
   "outputs": [
    {
     "data": {
      "application/vnd.jupyter.widget-view+json": {
       "model_id": "1e96112b5c1e4eae8b02bc21371b0e6f",
       "version_major": 2,
       "version_minor": 0
      },
      "text/plain": [
       "HBox(children=(IntProgress(value=0, max=2934), HTML(value='')))"
      ]
     },
     "metadata": {},
     "output_type": "display_data"
    },
    {
     "name": "stdout",
     "output_type": "stream",
     "text": [
      "\n",
      "(60396, 4)\n"
     ]
    },
    {
     "data": {
      "text/html": [
       "<div>\n",
       "<style scoped>\n",
       "    .dataframe tbody tr th:only-of-type {\n",
       "        vertical-align: middle;\n",
       "    }\n",
       "\n",
       "    .dataframe tbody tr th {\n",
       "        vertical-align: top;\n",
       "    }\n",
       "\n",
       "    .dataframe thead th {\n",
       "        text-align: right;\n",
       "    }\n",
       "</style>\n",
       "<table border=\"1\" class=\"dataframe\">\n",
       "  <thead>\n",
       "    <tr style=\"text-align: right;\">\n",
       "      <th></th>\n",
       "      <th>image</th>\n",
       "      <th>package</th>\n",
       "      <th>version</th>\n",
       "      <th>base</th>\n",
       "    </tr>\n",
       "  </thead>\n",
       "  <tbody>\n",
       "    <tr>\n",
       "      <td>0</td>\n",
       "      <td>naorlivne:mesos-cloudwatch-autoscale:latest</td>\n",
       "      <td>boto3</td>\n",
       "      <td>1.7.26</td>\n",
       "      <td>python2</td>\n",
       "    </tr>\n",
       "    <tr>\n",
       "      <td>1</td>\n",
       "      <td>naorlivne:mesos-cloudwatch-autoscale:latest</td>\n",
       "      <td>botocore</td>\n",
       "      <td>1.10.26</td>\n",
       "      <td>python2</td>\n",
       "    </tr>\n",
       "  </tbody>\n",
       "</table>\n",
       "</div>"
      ],
      "text/plain": [
       "                                         image   package  version     base\n",
       "0  naorlivne:mesos-cloudwatch-autoscale:latest     boto3   1.7.26  python2\n",
       "1  naorlivne:mesos-cloudwatch-autoscale:latest  botocore  1.10.26  python2"
      ]
     },
     "execution_count": 69,
     "metadata": {},
     "output_type": "execute_result"
    }
   ],
   "source": [
    "# parse python packages\n",
    "path = '../data/pulled/packages/python/'\n",
    "packages = []\n",
    "versions = []\n",
    "files = []\n",
    "for file in tqdm(os.listdir (path)):\n",
    "    with open(path+file) as lines:\n",
    "        for line in lines.readlines():\n",
    "            packages.append(line.split('=')[0])\n",
    "            versions.append(line.split('=')[-1].rstrip('\\n'))\n",
    "            files.append(file)\n",
    "\n",
    "python = pd.DataFrame({'image': files, 'package': packages, 'version': versions} )\n",
    "python['base'] = python['image'].apply(lambda x: 'python'+x[-1])\n",
    "python['image'] = python['image'].apply(lambda x: x[0:-2])\n",
    "print(python.shape)\n",
    "python.head(2)"
   ]
  },
  {
   "cell_type": "code",
   "execution_count": 70,
   "metadata": {},
   "outputs": [
    {
     "data": {
      "application/vnd.jupyter.widget-view+json": {
       "model_id": "81b626a24ea6402585b55d3f5dcdbaee",
       "version_major": 2,
       "version_minor": 0
      },
      "text/plain": [
       "HBox(children=(IntProgress(value=0, max=1429), HTML(value='')))"
      ]
     },
     "metadata": {},
     "output_type": "display_data"
    },
    {
     "name": "stdout",
     "output_type": "stream",
     "text": [
      "\n",
      "(846851, 4)\n"
     ]
    },
    {
     "data": {
      "text/html": [
       "<div>\n",
       "<style scoped>\n",
       "    .dataframe tbody tr th:only-of-type {\n",
       "        vertical-align: middle;\n",
       "    }\n",
       "\n",
       "    .dataframe tbody tr th {\n",
       "        vertical-align: top;\n",
       "    }\n",
       "\n",
       "    .dataframe thead th {\n",
       "        text-align: right;\n",
       "    }\n",
       "</style>\n",
       "<table border=\"1\" class=\"dataframe\">\n",
       "  <thead>\n",
       "    <tr style=\"text-align: right;\">\n",
       "      <th></th>\n",
       "      <th>image</th>\n",
       "      <th>package</th>\n",
       "      <th>version</th>\n",
       "      <th>base</th>\n",
       "    </tr>\n",
       "  </thead>\n",
       "  <tbody>\n",
       "    <tr>\n",
       "      <td>0</td>\n",
       "      <td>centralci:alpine-node:latest</td>\n",
       "      <td>bower</td>\n",
       "      <td>1.8.8</td>\n",
       "      <td>node</td>\n",
       "    </tr>\n",
       "    <tr>\n",
       "      <td>1</td>\n",
       "      <td>centralci:alpine-node:latest</td>\n",
       "      <td>gulp</td>\n",
       "      <td>4.0.2</td>\n",
       "      <td>node</td>\n",
       "    </tr>\n",
       "  </tbody>\n",
       "</table>\n",
       "</div>"
      ],
      "text/plain": [
       "                          image package version  base\n",
       "0  centralci:alpine-node:latest   bower   1.8.8  node\n",
       "1  centralci:alpine-node:latest    gulp   4.0.2  node"
      ]
     },
     "execution_count": 70,
     "metadata": {},
     "output_type": "execute_result"
    }
   ],
   "source": [
    "# parse node packages\n",
    "path = '../data/pulled/packages/node/'\n",
    "packages = []\n",
    "versions = []\n",
    "files = []\n",
    "for file in tqdm(os.listdir (path)):\n",
    "    with open(path+file) as lines:\n",
    "        for line in lines.readlines():\n",
    "            line = line.split()\n",
    "            for element in line:\n",
    "                if '@' in element:\n",
    "                    if element.count('@')==1:\n",
    "                        packages.append(element.split('@')[0])\n",
    "                        versions.append(element.split('@')[1])\n",
    "                        files.append(file)\n",
    "                    elif element.count('@')==2:\n",
    "                        packages.append('@'+element.split('@')[1])\n",
    "                        versions.append(element.split('@')[2])\n",
    "                        files.append(file)\n",
    "\n",
    "node = pd.DataFrame({'image': files, 'package': packages, 'version': versions, 'base': 'node'}  )\n",
    "print(node.shape)\n",
    "node.head(2)"
   ]
  },
  {
   "cell_type": "code",
   "execution_count": 74,
   "metadata": {},
   "outputs": [
    {
     "data": {
      "text/html": [
       "<div>\n",
       "<style scoped>\n",
       "    .dataframe tbody tr th:only-of-type {\n",
       "        vertical-align: middle;\n",
       "    }\n",
       "\n",
       "    .dataframe tbody tr th {\n",
       "        vertical-align: top;\n",
       "    }\n",
       "\n",
       "    .dataframe thead th {\n",
       "        text-align: right;\n",
       "    }\n",
       "</style>\n",
       "<table border=\"1\" class=\"dataframe\">\n",
       "  <thead>\n",
       "    <tr style=\"text-align: right;\">\n",
       "      <th></th>\n",
       "      <th>image</th>\n",
       "      <th>package</th>\n",
       "      <th>version</th>\n",
       "      <th>base</th>\n",
       "    </tr>\n",
       "  </thead>\n",
       "  <tbody>\n",
       "    <tr>\n",
       "      <td>279124</td>\n",
       "      <td>library:node:latest</td>\n",
       "      <td>npm</td>\n",
       "      <td>6.13.1</td>\n",
       "      <td>node</td>\n",
       "    </tr>\n",
       "    <tr>\n",
       "      <td>279125</td>\n",
       "      <td>library:node:latest</td>\n",
       "      <td>abbrev</td>\n",
       "      <td>1.1.1</td>\n",
       "      <td>node</td>\n",
       "    </tr>\n",
       "    <tr>\n",
       "      <td>279126</td>\n",
       "      <td>library:node:latest</td>\n",
       "      <td>ansicolors</td>\n",
       "      <td>0.3.2</td>\n",
       "      <td>node</td>\n",
       "    </tr>\n",
       "    <tr>\n",
       "      <td>279127</td>\n",
       "      <td>library:node:latest</td>\n",
       "      <td>ansistyles</td>\n",
       "      <td>0.1.3</td>\n",
       "      <td>node</td>\n",
       "    </tr>\n",
       "    <tr>\n",
       "      <td>279128</td>\n",
       "      <td>library:node:latest</td>\n",
       "      <td>aproba</td>\n",
       "      <td>2.0.0</td>\n",
       "      <td>node</td>\n",
       "    </tr>\n",
       "    <tr>\n",
       "      <td>...</td>\n",
       "      <td>...</td>\n",
       "      <td>...</td>\n",
       "      <td>...</td>\n",
       "      <td>...</td>\n",
       "    </tr>\n",
       "    <tr>\n",
       "      <td>279929</td>\n",
       "      <td>library:node:latest</td>\n",
       "      <td>prr</td>\n",
       "      <td>1.0.1</td>\n",
       "      <td>node</td>\n",
       "    </tr>\n",
       "    <tr>\n",
       "      <td>279930</td>\n",
       "      <td>library:node:latest</td>\n",
       "      <td>write-file-atomic</td>\n",
       "      <td>2.4.3</td>\n",
       "      <td>node</td>\n",
       "    </tr>\n",
       "    <tr>\n",
       "      <td>279931</td>\n",
       "      <td>library:node:latest</td>\n",
       "      <td>graceful-fs</td>\n",
       "      <td>4.2.3</td>\n",
       "      <td>node</td>\n",
       "    </tr>\n",
       "    <tr>\n",
       "      <td>279932</td>\n",
       "      <td>library:node:latest</td>\n",
       "      <td>imurmurhash</td>\n",
       "      <td>0.1.4</td>\n",
       "      <td>node</td>\n",
       "    </tr>\n",
       "    <tr>\n",
       "      <td>279933</td>\n",
       "      <td>library:node:latest</td>\n",
       "      <td>signal-exit</td>\n",
       "      <td>3.0.2</td>\n",
       "      <td>node</td>\n",
       "    </tr>\n",
       "  </tbody>\n",
       "</table>\n",
       "<p>810 rows × 4 columns</p>\n",
       "</div>"
      ],
      "text/plain": [
       "                      image            package version  base\n",
       "279124  library:node:latest                npm  6.13.1  node\n",
       "279125  library:node:latest             abbrev   1.1.1  node\n",
       "279126  library:node:latest         ansicolors   0.3.2  node\n",
       "279127  library:node:latest         ansistyles   0.1.3  node\n",
       "279128  library:node:latest             aproba   2.0.0  node\n",
       "...                     ...                ...     ...   ...\n",
       "279929  library:node:latest                prr   1.0.1  node\n",
       "279930  library:node:latest  write-file-atomic   2.4.3  node\n",
       "279931  library:node:latest        graceful-fs   4.2.3  node\n",
       "279932  library:node:latest        imurmurhash   0.1.4  node\n",
       "279933  library:node:latest        signal-exit   3.0.2  node\n",
       "\n",
       "[810 rows x 4 columns]"
      ]
     },
     "execution_count": 74,
     "metadata": {},
     "output_type": "execute_result"
    }
   ],
   "source": [
    "node.query('image == \"library:node:latest\"')"
   ]
  },
  {
   "cell_type": "code",
   "execution_count": 75,
   "metadata": {},
   "outputs": [
    {
     "data": {
      "application/vnd.jupyter.widget-view+json": {
       "model_id": "8553f4438a68435a8d48f252e2f4adb4",
       "version_major": 2,
       "version_minor": 0
      },
      "text/plain": [
       "HBox(children=(IntProgress(value=0, max=1482), HTML(value='')))"
      ]
     },
     "metadata": {},
     "output_type": "display_data"
    },
    {
     "name": "stdout",
     "output_type": "stream",
     "text": [
      "\n",
      "(90241, 4)\n"
     ]
    },
    {
     "data": {
      "text/html": [
       "<div>\n",
       "<style scoped>\n",
       "    .dataframe tbody tr th:only-of-type {\n",
       "        vertical-align: middle;\n",
       "    }\n",
       "\n",
       "    .dataframe tbody tr th {\n",
       "        vertical-align: top;\n",
       "    }\n",
       "\n",
       "    .dataframe thead th {\n",
       "        text-align: right;\n",
       "    }\n",
       "</style>\n",
       "<table border=\"1\" class=\"dataframe\">\n",
       "  <thead>\n",
       "    <tr style=\"text-align: right;\">\n",
       "      <th></th>\n",
       "      <th>image</th>\n",
       "      <th>package</th>\n",
       "      <th>version</th>\n",
       "      <th>base</th>\n",
       "    </tr>\n",
       "  </thead>\n",
       "  <tbody>\n",
       "    <tr>\n",
       "      <td>0</td>\n",
       "      <td>icalialabs:belugas-python:latest</td>\n",
       "      <td>bigdecimal</td>\n",
       "      <td>default: 1.2.8</td>\n",
       "      <td>ruby</td>\n",
       "    </tr>\n",
       "    <tr>\n",
       "      <td>1</td>\n",
       "      <td>icalialabs:belugas-python:latest</td>\n",
       "      <td>bundler</td>\n",
       "      <td>1.14.6</td>\n",
       "      <td>ruby</td>\n",
       "    </tr>\n",
       "  </tbody>\n",
       "</table>\n",
       "</div>"
      ],
      "text/plain": [
       "                              image     package         version  base\n",
       "0  icalialabs:belugas-python:latest  bigdecimal  default: 1.2.8  ruby\n",
       "1  icalialabs:belugas-python:latest     bundler          1.14.6  ruby"
      ]
     },
     "execution_count": 75,
     "metadata": {},
     "output_type": "execute_result"
    }
   ],
   "source": [
    "# parse ruby packages\n",
    "path = '../data/pulled/packages/ruby/'\n",
    "packages = []\n",
    "versions = []\n",
    "files = []\n",
    "for file in tqdm(os.listdir (path)):\n",
    "    with open(path+file) as lines:\n",
    "        for line in lines.readlines():\n",
    "            packages.append(line.split()[0])\n",
    "            versions.append(line[line.find(\"(\")+1:line.find(\")\")])\n",
    "            files.append(file)\n",
    "\n",
    "ruby = pd.DataFrame({'image': files, 'package': packages, 'version': versions, 'base': 'ruby'}  )\n",
    "print(ruby.shape)\n",
    "ruby.head(2)"
   ]
  },
  {
   "cell_type": "code",
   "execution_count": 76,
   "metadata": {},
   "outputs": [
    {
     "data": {
      "text/plain": [
       "(997488, 4)"
      ]
     },
     "execution_count": 76,
     "metadata": {},
     "output_type": "execute_result"
    }
   ],
   "source": [
    "all_images  = pd.concat([node, python, ruby])\n",
    "all_images['image'] = all_images['image'].apply(lambda x: x.split(':')[0]+'/'+x.split(':')[1])\n",
    "all_images.shape"
   ]
  },
  {
   "cell_type": "code",
   "execution_count": 77,
   "metadata": {},
   "outputs": [
    {
     "data": {
      "text/plain": [
       "(997488, 7)"
      ]
     },
     "execution_count": 77,
     "metadata": {},
     "output_type": "execute_result"
    }
   ],
   "source": [
    "all_images = (all_images\n",
    "              .merge(operating,\n",
    "                    on='image',\n",
    "                    how='left')\n",
    "              .merge(images,\n",
    "                    on='image',\n",
    "                    how='left')\n",
    "             )\n",
    "all_images.shape"
   ]
  },
  {
   "cell_type": "code",
   "execution_count": 85,
   "metadata": {},
   "outputs": [],
   "source": [
    "all_images = all_images.dropna()"
   ]
  },
  {
   "cell_type": "code",
   "execution_count": 86,
   "metadata": {},
   "outputs": [
    {
     "data": {
      "text/html": [
       "<div>\n",
       "<style scoped>\n",
       "    .dataframe tbody tr th:only-of-type {\n",
       "        vertical-align: middle;\n",
       "    }\n",
       "\n",
       "    .dataframe tbody tr th {\n",
       "        vertical-align: top;\n",
       "    }\n",
       "\n",
       "    .dataframe thead th {\n",
       "        text-align: right;\n",
       "    }\n",
       "</style>\n",
       "<table border=\"1\" class=\"dataframe\">\n",
       "  <thead>\n",
       "    <tr style=\"text-align: right;\">\n",
       "      <th></th>\n",
       "      <th>image</th>\n",
       "      <th>base</th>\n",
       "    </tr>\n",
       "    <tr>\n",
       "      <th>operating</th>\n",
       "      <th></th>\n",
       "      <th></th>\n",
       "    </tr>\n",
       "  </thead>\n",
       "  <tbody>\n",
       "    <tr>\n",
       "      <td>Alpine</td>\n",
       "      <td>1434</td>\n",
       "      <td>1434</td>\n",
       "    </tr>\n",
       "    <tr>\n",
       "      <td>Debian</td>\n",
       "      <td>2540</td>\n",
       "      <td>2540</td>\n",
       "    </tr>\n",
       "    <tr>\n",
       "      <td>Ubuntu</td>\n",
       "      <td>9</td>\n",
       "      <td>9</td>\n",
       "    </tr>\n",
       "  </tbody>\n",
       "</table>\n",
       "</div>"
      ],
      "text/plain": [
       "           image  base\n",
       "operating             \n",
       "Alpine      1434  1434\n",
       "Debian      2540  2540\n",
       "Ubuntu         9     9"
      ]
     },
     "execution_count": 86,
     "metadata": {},
     "output_type": "execute_result"
    }
   ],
   "source": [
    "all_images[['image','base','operating']].drop_duplicates().groupby('operating').count()"
   ]
  },
  {
   "cell_type": "code",
   "execution_count": 87,
   "metadata": {},
   "outputs": [],
   "source": [
    "all_images = all_images.query('last_updated != \"nan\"')"
   ]
  },
  {
   "cell_type": "code",
   "execution_count": 88,
   "metadata": {},
   "outputs": [],
   "source": [
    "all_images.to_csv('../data/installed_packages.csv', index=False )"
   ]
  },
  {
   "cell_type": "code",
   "execution_count": 27,
   "metadata": {},
   "outputs": [
    {
     "data": {
      "text/html": [
       "<div>\n",
       "<style scoped>\n",
       "    .dataframe tbody tr th:only-of-type {\n",
       "        vertical-align: middle;\n",
       "    }\n",
       "\n",
       "    .dataframe tbody tr th {\n",
       "        vertical-align: top;\n",
       "    }\n",
       "\n",
       "    .dataframe thead th {\n",
       "        text-align: right;\n",
       "    }\n",
       "</style>\n",
       "<table border=\"1\" class=\"dataframe\">\n",
       "  <thead>\n",
       "    <tr style=\"text-align: right;\">\n",
       "      <th></th>\n",
       "      <th>image</th>\n",
       "      <th>package</th>\n",
       "      <th>version</th>\n",
       "      <th>base</th>\n",
       "      <th>operating</th>\n",
       "      <th>popularity</th>\n",
       "      <th>last_updated</th>\n",
       "    </tr>\n",
       "  </thead>\n",
       "  <tbody>\n",
       "    <tr>\n",
       "      <td>0</td>\n",
       "      <td>centralci/alpine-node</td>\n",
       "      <td>bower</td>\n",
       "      <td>1.8.8</td>\n",
       "      <td>node</td>\n",
       "      <td>Alpine</td>\n",
       "      <td>406310</td>\n",
       "      <td>2019-10-28</td>\n",
       "    </tr>\n",
       "    <tr>\n",
       "      <td>1</td>\n",
       "      <td>centralci/alpine-node</td>\n",
       "      <td>gulp</td>\n",
       "      <td>4.0.2</td>\n",
       "      <td>node</td>\n",
       "      <td>Alpine</td>\n",
       "      <td>406310</td>\n",
       "      <td>2019-10-28</td>\n",
       "    </tr>\n",
       "    <tr>\n",
       "      <td>2</td>\n",
       "      <td>centralci/alpine-node</td>\n",
       "      <td>glob-watcher</td>\n",
       "      <td>5.0.3</td>\n",
       "      <td>node</td>\n",
       "      <td>Alpine</td>\n",
       "      <td>406310</td>\n",
       "      <td>2019-10-28</td>\n",
       "    </tr>\n",
       "    <tr>\n",
       "      <td>3</td>\n",
       "      <td>centralci/alpine-node</td>\n",
       "      <td>anymatch</td>\n",
       "      <td>2.0.0</td>\n",
       "      <td>node</td>\n",
       "      <td>Alpine</td>\n",
       "      <td>406310</td>\n",
       "      <td>2019-10-28</td>\n",
       "    </tr>\n",
       "    <tr>\n",
       "      <td>4</td>\n",
       "      <td>centralci/alpine-node</td>\n",
       "      <td>micromatch</td>\n",
       "      <td>3.1.10</td>\n",
       "      <td>node</td>\n",
       "      <td>Alpine</td>\n",
       "      <td>406310</td>\n",
       "      <td>2019-10-28</td>\n",
       "    </tr>\n",
       "  </tbody>\n",
       "</table>\n",
       "</div>"
      ],
      "text/plain": [
       "                   image       package version  base operating popularity  \\\n",
       "0  centralci/alpine-node         bower   1.8.8  node    Alpine     406310   \n",
       "1  centralci/alpine-node          gulp   4.0.2  node    Alpine     406310   \n",
       "2  centralci/alpine-node  glob-watcher   5.0.3  node    Alpine     406310   \n",
       "3  centralci/alpine-node      anymatch   2.0.0  node    Alpine     406310   \n",
       "4  centralci/alpine-node    micromatch  3.1.10  node    Alpine     406310   \n",
       "\n",
       "  last_updated  \n",
       "0   2019-10-28  \n",
       "1   2019-10-28  \n",
       "2   2019-10-28  \n",
       "3   2019-10-28  \n",
       "4   2019-10-28  "
      ]
     },
     "execution_count": 27,
     "metadata": {},
     "output_type": "execute_result"
    }
   ],
   "source": [
    "all_images.head()"
   ]
  },
  {
   "cell_type": "code",
   "execution_count": null,
   "metadata": {},
   "outputs": [],
   "source": []
  }
 ],
 "metadata": {
  "kernelspec": {
   "display_name": "Python 3",
   "language": "python",
   "name": "python3"
  },
  "language_info": {
   "codemirror_mode": {
    "name": "ipython",
    "version": 3
   },
   "file_extension": ".py",
   "mimetype": "text/x-python",
   "name": "python",
   "nbconvert_exporter": "python",
   "pygments_lexer": "ipython3",
   "version": "3.6.9"
  }
 },
 "nbformat": 4,
 "nbformat_minor": 2
}
