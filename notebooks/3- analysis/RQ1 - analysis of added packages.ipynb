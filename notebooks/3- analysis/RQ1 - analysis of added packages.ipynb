{
 "cells": [
  {
   "cell_type": "code",
   "execution_count": 66,
   "metadata": {},
   "outputs": [],
   "source": [
    "%matplotlib inline\n",
    "from imports import *\n",
    "font = {'family' : 'Times New Roman',\n",
    "        'weight' : 'bold',\n",
    "        'size'   : 16}\n",
    "plt.rc('font', **font)\n",
    "order = ['node','Python','Ruby']\n",
    "d = {'python':'Python','ruby':'Ruby'}\n",
    "import effect_size\n",
    "from tqdm.notebook import tqdm"
   ]
  },
  {
   "cell_type": "markdown",
   "metadata": {},
   "source": [
    "## Load installed packages"
   ]
  },
  {
   "cell_type": "code",
   "execution_count": 25,
   "metadata": {},
   "outputs": [
    {
     "data": {
      "text/plain": [
       "998727"
      ]
     },
     "execution_count": 25,
     "metadata": {},
     "output_type": "execute_result"
    }
   ],
   "source": [
    "packages = pd.read_csv('../data/cleaned_installed_packages.csv')\n",
    "packages.package.fillna('nan', inplace=True)\n",
    "packages['last_updated'] = pd.to_datetime(packages['last_updated'])\n",
    "packages.rename(columns = {'operating':'os'}, inplace=True)\n",
    "len(packages)"
   ]
  },
  {
   "cell_type": "code",
   "execution_count": 26,
   "metadata": {},
   "outputs": [],
   "source": [
    "npm = pd.read_csv('../data/npm_versions.csv', dtype=str)\n",
    "python = pd.read_csv('../data/pypi_versions.csv', dtype=str)\n",
    "ruby = pd.read_csv('../data/ruby_versions.csv', dtype=str)\n",
    "available = pd.concat([npm, python, ruby])\n",
    "available.package.fillna('nan', inplace=True)\n",
    "\n",
    "packages = packages[packages.package.isin(available.package)]"
   ]
  },
  {
   "cell_type": "code",
   "execution_count": 27,
   "metadata": {},
   "outputs": [
    {
     "data": {
      "text/plain": [
       "816151"
      ]
     },
     "execution_count": 27,
     "metadata": {},
     "output_type": "execute_result"
    }
   ],
   "source": [
    "# Filter on 3000 images\n",
    "candidates_3000 = pd.read_csv('../data/considered_3000_images.csv')\n",
    "mask = packages.image.isin(candidates_3000.image)\n",
    "packages = packages[mask]\n",
    "packages['base'] = packages['base'].replace(d)\n",
    "len(packages)"
   ]
  },
  {
   "cell_type": "markdown",
   "metadata": {},
   "source": [
    "#### Some packages come with the base images, let's remove them!"
   ]
  },
  {
   "cell_type": "code",
   "execution_count": 28,
   "metadata": {},
   "outputs": [],
   "source": [
    "# Remove duplicates and remove core packages\n",
    "packages.drop_duplicates(inplace=True)\n",
    "added_package = packages.query('core == False')"
   ]
  },
  {
   "cell_type": "markdown",
   "metadata": {},
   "source": [
    "## Analysis"
   ]
  },
  {
   "cell_type": "code",
   "execution_count": 65,
   "metadata": {},
   "outputs": [
    {
     "data": {
      "image/png": "[encoded data removed]",
      "text/plain": [
       "<Figure size 648x198.72 with 1 Axes>"
      ]
     },
     "metadata": {
      "needs_background": "light"
     },
     "output_type": "display_data"
    }
   ],
   "source": [
    "df_tmp = (added_package\n",
    "          .groupby(['image','base','os'])\n",
    "          .count()[['package']]\n",
    "          .reset_index()\n",
    "         )\n",
    "fig, axes = plt.subplots(1, 1, sharex=True, sharey=True)\n",
    "fig.set_size_inches(9,2.76)\n",
    "ax = sns.violinplot(x=\"base\", \n",
    "                 y=\"package\",\n",
    "                   hue='os',\n",
    "                 order = order,\n",
    "                 data=df_tmp, \n",
    "                 linewidth=1,\n",
    "                    split=True,\n",
    "                  )\n",
    "ax.set(\n",
    "    xlabel='',\n",
    "    ylabel='\\# package releases',\n",
    "    ylim=(-70,401)\n",
    ")\n",
    "\n",
    "ax.legend(loc='upper right')\n",
    "plt.yticks(pd.np.arange(0, 401, 100)) \n"
   ]
  },
  {
   "cell_type": "code",
   "execution_count": 30,
   "metadata": {},
   "outputs": [
    {
     "name": "stdout",
     "output_type": "stream",
     "text": [
      "\\begin{tabular}{lrrrr}\n",
      "\\toprule\n",
      "{} &       mean &  min &   50\\% &    max \\\\\n",
      "base   &            &      &       &        \\\\\n",
      "\\midrule\n",
      "Python &  45.208000 &  1.0 &  17.0 &  939.0 \\\\\n",
      "Ruby   &  44.612613 &  1.0 &  15.0 &  377.0 \\\\\n",
      "node   &  58.642320 &  1.0 &  26.0 &  943.0 \\\\\n",
      "\\bottomrule\n",
      "\\end{tabular}\n",
      "\n"
     ]
    }
   ],
   "source": [
    "print(df_tmp.groupby(['base'])['package'].describe().drop(['std','count','25%', '75%'], axis=1).to_latex())"
   ]
  },
  {
   "cell_type": "code",
   "execution_count": 31,
   "metadata": {},
   "outputs": [
    {
     "data": {
      "text/html": [
       "<div>\n",
       "<style scoped>\n",
       "    .dataframe tbody tr th:only-of-type {\n",
       "        vertical-align: middle;\n",
       "    }\n",
       "\n",
       "    .dataframe tbody tr th {\n",
       "        vertical-align: top;\n",
       "    }\n",
       "\n",
       "    .dataframe thead th {\n",
       "        text-align: right;\n",
       "    }\n",
       "</style>\n",
       "<table border=\"1\" class=\"dataframe\">\n",
       "  <thead>\n",
       "    <tr style=\"text-align: right;\">\n",
       "      <th></th>\n",
       "      <th>count</th>\n",
       "      <th>mean</th>\n",
       "      <th>std</th>\n",
       "      <th>min</th>\n",
       "      <th>25%</th>\n",
       "      <th>50%</th>\n",
       "      <th>75%</th>\n",
       "      <th>max</th>\n",
       "    </tr>\n",
       "    <tr>\n",
       "      <th>base</th>\n",
       "      <th></th>\n",
       "      <th></th>\n",
       "      <th></th>\n",
       "      <th></th>\n",
       "      <th></th>\n",
       "      <th></th>\n",
       "      <th></th>\n",
       "      <th></th>\n",
       "    </tr>\n",
       "  </thead>\n",
       "  <tbody>\n",
       "    <tr>\n",
       "      <td>Python</td>\n",
       "      <td>1000.0</td>\n",
       "      <td>45.208000</td>\n",
       "      <td>109.719210</td>\n",
       "      <td>1.0</td>\n",
       "      <td>9.0</td>\n",
       "      <td>17.0</td>\n",
       "      <td>42.0</td>\n",
       "      <td>939.0</td>\n",
       "    </tr>\n",
       "    <tr>\n",
       "      <td>Ruby</td>\n",
       "      <td>999.0</td>\n",
       "      <td>44.612613</td>\n",
       "      <td>61.754306</td>\n",
       "      <td>1.0</td>\n",
       "      <td>3.0</td>\n",
       "      <td>15.0</td>\n",
       "      <td>67.0</td>\n",
       "      <td>377.0</td>\n",
       "    </tr>\n",
       "    <tr>\n",
       "      <td>node</td>\n",
       "      <td>931.0</td>\n",
       "      <td>58.642320</td>\n",
       "      <td>111.290224</td>\n",
       "      <td>1.0</td>\n",
       "      <td>5.0</td>\n",
       "      <td>26.0</td>\n",
       "      <td>43.0</td>\n",
       "      <td>943.0</td>\n",
       "    </tr>\n",
       "  </tbody>\n",
       "</table>\n",
       "</div>"
      ],
      "text/plain": [
       "         count       mean         std  min  25%   50%   75%    max\n",
       "base                                                              \n",
       "Python  1000.0  45.208000  109.719210  1.0  9.0  17.0  42.0  939.0\n",
       "Ruby     999.0  44.612613   61.754306  1.0  3.0  15.0  67.0  377.0\n",
       "node     931.0  58.642320  111.290224  1.0  5.0  26.0  43.0  943.0"
      ]
     },
     "execution_count": 31,
     "metadata": {},
     "output_type": "execute_result"
    }
   ],
   "source": [
    "df_tmp.groupby(['base'])['package'].describe()"
   ]
  },
  {
   "cell_type": "code",
   "execution_count": 32,
   "metadata": {},
   "outputs": [],
   "source": [
    "if False:\n",
    "    df_tmp = (added_package\n",
    "          [['image','base','os','package']]\n",
    "          .drop_duplicates()\n",
    "          .groupby(['image','base','os'])\n",
    "          .count()[['package']]\n",
    "          .reset_index()\n",
    "         )\n",
    "    df_tmp.groupby(['base'])['package'].describe()"
   ]
  },
  {
   "cell_type": "code",
   "execution_count": 33,
   "metadata": {},
   "outputs": [
    {
     "data": {
      "text/html": [
       "<div>\n",
       "<style scoped>\n",
       "    .dataframe tbody tr th:only-of-type {\n",
       "        vertical-align: middle;\n",
       "    }\n",
       "\n",
       "    .dataframe tbody tr th {\n",
       "        vertical-align: top;\n",
       "    }\n",
       "\n",
       "    .dataframe thead th {\n",
       "        text-align: right;\n",
       "    }\n",
       "</style>\n",
       "<table border=\"1\" class=\"dataframe\">\n",
       "  <thead>\n",
       "    <tr style=\"text-align: right;\">\n",
       "      <th></th>\n",
       "      <th></th>\n",
       "      <th>count</th>\n",
       "      <th>mean</th>\n",
       "      <th>std</th>\n",
       "      <th>min</th>\n",
       "      <th>25%</th>\n",
       "      <th>50%</th>\n",
       "      <th>75%</th>\n",
       "      <th>max</th>\n",
       "    </tr>\n",
       "    <tr>\n",
       "      <th>base</th>\n",
       "      <th>os</th>\n",
       "      <th></th>\n",
       "      <th></th>\n",
       "      <th></th>\n",
       "      <th></th>\n",
       "      <th></th>\n",
       "      <th></th>\n",
       "      <th></th>\n",
       "      <th></th>\n",
       "    </tr>\n",
       "  </thead>\n",
       "  <tbody>\n",
       "    <tr>\n",
       "      <td rowspan=\"2\" valign=\"top\">Python</td>\n",
       "      <td>Alpine</td>\n",
       "      <td>446.0</td>\n",
       "      <td>40.591928</td>\n",
       "      <td>118.647923</td>\n",
       "      <td>1.0</td>\n",
       "      <td>7.25</td>\n",
       "      <td>12.0</td>\n",
       "      <td>31.00</td>\n",
       "      <td>939.0</td>\n",
       "    </tr>\n",
       "    <tr>\n",
       "      <td>Debian</td>\n",
       "      <td>554.0</td>\n",
       "      <td>48.924188</td>\n",
       "      <td>101.922752</td>\n",
       "      <td>1.0</td>\n",
       "      <td>11.00</td>\n",
       "      <td>22.0</td>\n",
       "      <td>52.00</td>\n",
       "      <td>916.0</td>\n",
       "    </tr>\n",
       "    <tr>\n",
       "      <td rowspan=\"2\" valign=\"top\">Ruby</td>\n",
       "      <td>Alpine</td>\n",
       "      <td>251.0</td>\n",
       "      <td>37.175299</td>\n",
       "      <td>47.295509</td>\n",
       "      <td>1.0</td>\n",
       "      <td>3.00</td>\n",
       "      <td>15.0</td>\n",
       "      <td>57.50</td>\n",
       "      <td>238.0</td>\n",
       "    </tr>\n",
       "    <tr>\n",
       "      <td>Debian</td>\n",
       "      <td>748.0</td>\n",
       "      <td>47.108289</td>\n",
       "      <td>65.738603</td>\n",
       "      <td>1.0</td>\n",
       "      <td>2.00</td>\n",
       "      <td>14.0</td>\n",
       "      <td>73.25</td>\n",
       "      <td>377.0</td>\n",
       "    </tr>\n",
       "    <tr>\n",
       "      <td rowspan=\"2\" valign=\"top\">node</td>\n",
       "      <td>Alpine</td>\n",
       "      <td>365.0</td>\n",
       "      <td>55.457534</td>\n",
       "      <td>114.632003</td>\n",
       "      <td>1.0</td>\n",
       "      <td>5.00</td>\n",
       "      <td>24.0</td>\n",
       "      <td>38.00</td>\n",
       "      <td>894.0</td>\n",
       "    </tr>\n",
       "    <tr>\n",
       "      <td>Debian</td>\n",
       "      <td>566.0</td>\n",
       "      <td>60.696113</td>\n",
       "      <td>109.134144</td>\n",
       "      <td>1.0</td>\n",
       "      <td>5.00</td>\n",
       "      <td>29.0</td>\n",
       "      <td>51.00</td>\n",
       "      <td>943.0</td>\n",
       "    </tr>\n",
       "  </tbody>\n",
       "</table>\n",
       "</div>"
      ],
      "text/plain": [
       "               count       mean         std  min    25%   50%    75%    max\n",
       "base   os                                                                  \n",
       "Python Alpine  446.0  40.591928  118.647923  1.0   7.25  12.0  31.00  939.0\n",
       "       Debian  554.0  48.924188  101.922752  1.0  11.00  22.0  52.00  916.0\n",
       "Ruby   Alpine  251.0  37.175299   47.295509  1.0   3.00  15.0  57.50  238.0\n",
       "       Debian  748.0  47.108289   65.738603  1.0   2.00  14.0  73.25  377.0\n",
       "node   Alpine  365.0  55.457534  114.632003  1.0   5.00  24.0  38.00  894.0\n",
       "       Debian  566.0  60.696113  109.134144  1.0   5.00  29.0  51.00  943.0"
      ]
     },
     "execution_count": 33,
     "metadata": {},
     "output_type": "execute_result"
    }
   ],
   "source": [
    "df_tmp.groupby(['base','os'])['package'].describe()"
   ]
  },
  {
   "cell_type": "code",
   "execution_count": 34,
   "metadata": {},
   "outputs": [
    {
     "name": "stdout",
     "output_type": "stream",
     "text": [
      "['node', 'Ruby'] MannwhitneyuResult(statistic=375521.5, pvalue=1.1504837921374184e-13)\n",
      "['node', 'Python'] MannwhitneyuResult(statistic=433419.5, pvalue=0.004351596387186694)\n",
      "['Python', 'Ruby'] MannwhitneyuResult(statistic=437663.5, pvalue=8.086881569433275e-07)\n"
     ]
    }
   ],
   "source": [
    "# Mann-whitney u test\n",
    "for base in [['node','Ruby'], ['node','Python'], ['Python','Ruby']]:\n",
    "    print(base,scipy.stats.mannwhitneyu(df_tmp.query('base ==\"'+base[0]+'\"').package,\n",
    "                                        df_tmp.query('base ==\"'+base[1]+'\"').package))"
   ]
  },
  {
   "cell_type": "code",
   "execution_count": 35,
   "metadata": {},
   "outputs": [
    {
     "name": "stdout",
     "output_type": "stream",
     "text": [
      "d=0.19248679399055338\n",
      "['node', 'Ruby'] True\n",
      "d=0.06891621911922664\n",
      "['node', 'Python'] False\n",
      "d=0.1237967967967968\n",
      "['Python', 'Ruby'] False\n"
     ]
    }
   ],
   "source": [
    "# Effect size\n",
    "for base in [['node','Ruby'], ['node','Python'], ['Python','Ruby']]:\n",
    "    print(base,effect_size.cliffsDelta(df_tmp.query('base ==\"'+base[0]+'\"').package,\n",
    "                                        df_tmp.query('base ==\"'+base[1]+'\"').package))"
   ]
  },
  {
   "cell_type": "code",
   "execution_count": 36,
   "metadata": {},
   "outputs": [
    {
     "data": {
      "text/html": [
       "<div>\n",
       "<style scoped>\n",
       "    .dataframe tbody tr th:only-of-type {\n",
       "        vertical-align: middle;\n",
       "    }\n",
       "\n",
       "    .dataframe tbody tr th {\n",
       "        vertical-align: top;\n",
       "    }\n",
       "\n",
       "    .dataframe thead th {\n",
       "        text-align: right;\n",
       "    }\n",
       "</style>\n",
       "<table border=\"1\" class=\"dataframe\">\n",
       "  <thead>\n",
       "    <tr style=\"text-align: right;\">\n",
       "      <th></th>\n",
       "      <th></th>\n",
       "      <th>count</th>\n",
       "      <th>mean</th>\n",
       "      <th>std</th>\n",
       "      <th>min</th>\n",
       "      <th>25%</th>\n",
       "      <th>50%</th>\n",
       "      <th>75%</th>\n",
       "      <th>max</th>\n",
       "    </tr>\n",
       "    <tr>\n",
       "      <th>base</th>\n",
       "      <th>os</th>\n",
       "      <th></th>\n",
       "      <th></th>\n",
       "      <th></th>\n",
       "      <th></th>\n",
       "      <th></th>\n",
       "      <th></th>\n",
       "      <th></th>\n",
       "      <th></th>\n",
       "    </tr>\n",
       "  </thead>\n",
       "  <tbody>\n",
       "    <tr>\n",
       "      <td rowspan=\"2\" valign=\"top\">Ruby</td>\n",
       "      <td>Alpine</td>\n",
       "      <td>252.0</td>\n",
       "      <td>23.642857</td>\n",
       "      <td>13.728421</td>\n",
       "      <td>7.0</td>\n",
       "      <td>12.0</td>\n",
       "      <td>15.0</td>\n",
       "      <td>39.25</td>\n",
       "      <td>48.0</td>\n",
       "    </tr>\n",
       "    <tr>\n",
       "      <td>Debian</td>\n",
       "      <td>748.0</td>\n",
       "      <td>19.847594</td>\n",
       "      <td>12.313542</td>\n",
       "      <td>5.0</td>\n",
       "      <td>11.0</td>\n",
       "      <td>13.0</td>\n",
       "      <td>30.00</td>\n",
       "      <td>55.0</td>\n",
       "    </tr>\n",
       "    <tr>\n",
       "      <td rowspan=\"2\" valign=\"top\">node</td>\n",
       "      <td>Alpine</td>\n",
       "      <td>403.0</td>\n",
       "      <td>343.451613</td>\n",
       "      <td>74.185189</td>\n",
       "      <td>68.0</td>\n",
       "      <td>333.0</td>\n",
       "      <td>372.0</td>\n",
       "      <td>383.00</td>\n",
       "      <td>574.0</td>\n",
       "    </tr>\n",
       "    <tr>\n",
       "      <td>Debian</td>\n",
       "      <td>597.0</td>\n",
       "      <td>301.504188</td>\n",
       "      <td>93.843233</td>\n",
       "      <td>121.0</td>\n",
       "      <td>191.0</td>\n",
       "      <td>342.0</td>\n",
       "      <td>372.00</td>\n",
       "      <td>512.0</td>\n",
       "    </tr>\n",
       "  </tbody>\n",
       "</table>\n",
       "</div>"
      ],
      "text/plain": [
       "             count        mean        std    min    25%    50%     75%    max\n",
       "base os                                                                      \n",
       "Ruby Alpine  252.0   23.642857  13.728421    7.0   12.0   15.0   39.25   48.0\n",
       "     Debian  748.0   19.847594  12.313542    5.0   11.0   13.0   30.00   55.0\n",
       "node Alpine  403.0  343.451613  74.185189   68.0  333.0  372.0  383.00  574.0\n",
       "     Debian  597.0  301.504188  93.843233  121.0  191.0  342.0  372.00  512.0"
      ]
     },
     "execution_count": 36,
     "metadata": {},
     "output_type": "execute_result"
    }
   ],
   "source": [
    "# Distribution of those CORE packages\n",
    "(packages\n",
    " .query('core == True')\n",
    " .groupby(['image','base','os'])\n",
    " .count()[['package']]\n",
    " .reset_index()\n",
    " .groupby(['base','os'])['package'].describe())"
   ]
  },
  {
   "cell_type": "code",
   "execution_count": 37,
   "metadata": {},
   "outputs": [],
   "source": [
    "Set1 = sns.color_palette('Set1', n_colors=12)"
   ]
  },
  {
   "cell_type": "code",
   "execution_count": 63,
   "metadata": {},
   "outputs": [
    {
     "data": {
      "image/png": "[encoded data removed]",
      "text/plain": [
       "<Figure size 648x194.4 with 1 Axes>"
      ]
     },
     "metadata": {
      "needs_background": "light"
     },
     "output_type": "display_data"
    }
   ],
   "source": [
    "# without core packages, by year\n",
    "df_tmp = (added_package\n",
    "          .groupby(['image','base','last_updated','os'])\n",
    "          .count()[['package']]\n",
    "          .reset_index()\n",
    "         )\n",
    "df_tmp['year'] = df_tmp['last_updated'].apply(lambda x: x.year)\n",
    "fig, axes = plt.subplots(1, 1, sharex=True, sharey=True)\n",
    "fig.set_size_inches(9,2.7)\n",
    "ax = sns.boxplot(x=\"year\", \n",
    "                 y=\"package\",\n",
    "                   hue='base',\n",
    "                 hue_order = order,\n",
    "                 data=df_tmp, \n",
    "                 palette=reversed(Set1),\n",
    "                 linewidth=1,\n",
    "                 showfliers= False\n",
    "                  )\n",
    "ax.set(\n",
    "    xlabel='',\n",
    "    ylabel='\\# package releases',\n",
    "    ylim=(0,101)\n",
    ")\n",
    "ax.legend(bbox_to_anchor= (0.7, 0.95), ncol=3)\n",
    "plt.yticks(pd.np.arange(0, 101, 20)) "
   ]
  },
  {
   "cell_type": "code",
   "execution_count": 60,
   "metadata": {},
   "outputs": [
    {
     "data": {
      "image/png": "[encoded data removed]",
      "text/plain": [
       "<Figure size 648x194.4 with 1 Axes>"
      ]
     },
     "metadata": {
      "needs_background": "light"
     },
     "output_type": "display_data"
    }
   ],
   "source": [
    "# without core packages, by year\n",
    "df_tmp = (packages\n",
    "          .groupby(['image','base','last_updated','os'])\n",
    "          .count()[['package']]\n",
    "          .reset_index()\n",
    "         )\n",
    "df_tmp['year'] = df_tmp['last_updated'].apply(lambda x: x.year)\n",
    "fig, axes = plt.subplots(1, 1, sharex=True, sharey=True)\n",
    "fig.set_size_inches(9,2.7)\n",
    "ax = sns.boxplot(x=\"year\", \n",
    "                 y=\"package\",\n",
    "                   hue='base',\n",
    "                 hue_order = order,\n",
    "                 data=df_tmp, \n",
    "                 palette=reversed(Set1),\n",
    "                 linewidth=1,\n",
    "                 showfliers= False\n",
    "                  )\n",
    "ax.set(\n",
    "    xlabel='',\n",
    "    ylabel='\\# libraries',\n",
    "    ylim=(0,401)\n",
    ")\n",
    "#ax.set_yscale('log')\n",
    "ax.legend(bbox_to_anchor= (0.7, 0.96), ncol=3)\n",
    "plt.yticks(pd.np.arange(0, 401, 100)) "
   ]
  },
  {
   "cell_type": "code",
   "execution_count": 192,
   "metadata": {},
   "outputs": [
    {
     "data": {
      "text/html": [
       "<div>\n",
       "<style scoped>\n",
       "    .dataframe tbody tr th:only-of-type {\n",
       "        vertical-align: middle;\n",
       "    }\n",
       "\n",
       "    .dataframe tbody tr th {\n",
       "        vertical-align: top;\n",
       "    }\n",
       "\n",
       "    .dataframe thead th {\n",
       "        text-align: right;\n",
       "    }\n",
       "</style>\n",
       "<table border=\"1\" class=\"dataframe\">\n",
       "  <thead>\n",
       "    <tr style=\"text-align: right;\">\n",
       "      <th></th>\n",
       "      <th></th>\n",
       "      <th>count</th>\n",
       "      <th>mean</th>\n",
       "      <th>std</th>\n",
       "      <th>min</th>\n",
       "      <th>25%</th>\n",
       "      <th>50%</th>\n",
       "      <th>75%</th>\n",
       "      <th>max</th>\n",
       "    </tr>\n",
       "    <tr>\n",
       "      <th>base</th>\n",
       "      <th>year</th>\n",
       "      <th></th>\n",
       "      <th></th>\n",
       "      <th></th>\n",
       "      <th></th>\n",
       "      <th></th>\n",
       "      <th></th>\n",
       "      <th></th>\n",
       "      <th></th>\n",
       "    </tr>\n",
       "  </thead>\n",
       "  <tbody>\n",
       "    <tr>\n",
       "      <td rowspan=\"4\" valign=\"top\">Python</td>\n",
       "      <td>2016</td>\n",
       "      <td>40.0</td>\n",
       "      <td>13.375000</td>\n",
       "      <td>14.391393</td>\n",
       "      <td>1.0</td>\n",
       "      <td>5.75</td>\n",
       "      <td>10.0</td>\n",
       "      <td>14.25</td>\n",
       "      <td>76.0</td>\n",
       "    </tr>\n",
       "    <tr>\n",
       "      <td>2017</td>\n",
       "      <td>129.0</td>\n",
       "      <td>23.085271</td>\n",
       "      <td>25.666135</td>\n",
       "      <td>1.0</td>\n",
       "      <td>8.00</td>\n",
       "      <td>11.0</td>\n",
       "      <td>31.00</td>\n",
       "      <td>112.0</td>\n",
       "    </tr>\n",
       "    <tr>\n",
       "      <td>2018</td>\n",
       "      <td>297.0</td>\n",
       "      <td>25.481481</td>\n",
       "      <td>36.453513</td>\n",
       "      <td>1.0</td>\n",
       "      <td>7.00</td>\n",
       "      <td>12.0</td>\n",
       "      <td>27.00</td>\n",
       "      <td>249.0</td>\n",
       "    </tr>\n",
       "    <tr>\n",
       "      <td>2019</td>\n",
       "      <td>534.0</td>\n",
       "      <td>63.908240</td>\n",
       "      <td>144.534879</td>\n",
       "      <td>1.0</td>\n",
       "      <td>12.00</td>\n",
       "      <td>25.0</td>\n",
       "      <td>60.75</td>\n",
       "      <td>939.0</td>\n",
       "    </tr>\n",
       "    <tr>\n",
       "      <td rowspan=\"4\" valign=\"top\">Ruby</td>\n",
       "      <td>2016</td>\n",
       "      <td>35.0</td>\n",
       "      <td>29.028571</td>\n",
       "      <td>40.128093</td>\n",
       "      <td>2.0</td>\n",
       "      <td>3.00</td>\n",
       "      <td>11.0</td>\n",
       "      <td>32.00</td>\n",
       "      <td>147.0</td>\n",
       "    </tr>\n",
       "    <tr>\n",
       "      <td>2017</td>\n",
       "      <td>178.0</td>\n",
       "      <td>41.938202</td>\n",
       "      <td>56.038441</td>\n",
       "      <td>1.0</td>\n",
       "      <td>3.00</td>\n",
       "      <td>12.0</td>\n",
       "      <td>62.75</td>\n",
       "      <td>271.0</td>\n",
       "    </tr>\n",
       "    <tr>\n",
       "      <td>2018</td>\n",
       "      <td>330.0</td>\n",
       "      <td>41.003030</td>\n",
       "      <td>57.004746</td>\n",
       "      <td>1.0</td>\n",
       "      <td>3.00</td>\n",
       "      <td>14.5</td>\n",
       "      <td>64.00</td>\n",
       "      <td>342.0</td>\n",
       "    </tr>\n",
       "    <tr>\n",
       "      <td>2019</td>\n",
       "      <td>456.0</td>\n",
       "      <td>49.464912</td>\n",
       "      <td>67.960484</td>\n",
       "      <td>1.0</td>\n",
       "      <td>2.00</td>\n",
       "      <td>15.5</td>\n",
       "      <td>74.75</td>\n",
       "      <td>377.0</td>\n",
       "    </tr>\n",
       "    <tr>\n",
       "      <td rowspan=\"4\" valign=\"top\">node</td>\n",
       "      <td>2016</td>\n",
       "      <td>42.0</td>\n",
       "      <td>79.261905</td>\n",
       "      <td>86.193503</td>\n",
       "      <td>38.0</td>\n",
       "      <td>51.00</td>\n",
       "      <td>51.0</td>\n",
       "      <td>59.50</td>\n",
       "      <td>556.0</td>\n",
       "    </tr>\n",
       "    <tr>\n",
       "      <td>2017</td>\n",
       "      <td>202.0</td>\n",
       "      <td>79.306931</td>\n",
       "      <td>133.814957</td>\n",
       "      <td>23.0</td>\n",
       "      <td>29.00</td>\n",
       "      <td>38.0</td>\n",
       "      <td>51.00</td>\n",
       "      <td>943.0</td>\n",
       "    </tr>\n",
       "    <tr>\n",
       "      <td>2018</td>\n",
       "      <td>299.0</td>\n",
       "      <td>53.568562</td>\n",
       "      <td>100.692224</td>\n",
       "      <td>5.0</td>\n",
       "      <td>16.50</td>\n",
       "      <td>24.0</td>\n",
       "      <td>37.00</td>\n",
       "      <td>894.0</td>\n",
       "    </tr>\n",
       "    <tr>\n",
       "      <td>2019</td>\n",
       "      <td>388.0</td>\n",
       "      <td>49.561856</td>\n",
       "      <td>107.226312</td>\n",
       "      <td>1.0</td>\n",
       "      <td>5.00</td>\n",
       "      <td>5.0</td>\n",
       "      <td>33.25</td>\n",
       "      <td>820.0</td>\n",
       "    </tr>\n",
       "  </tbody>\n",
       "</table>\n",
       "</div>"
      ],
      "text/plain": [
       "             count       mean         std   min    25%   50%    75%    max\n",
       "base   year                                                               \n",
       "Python 2016   40.0  13.375000   14.391393   1.0   5.75  10.0  14.25   76.0\n",
       "       2017  129.0  23.085271   25.666135   1.0   8.00  11.0  31.00  112.0\n",
       "       2018  297.0  25.481481   36.453513   1.0   7.00  12.0  27.00  249.0\n",
       "       2019  534.0  63.908240  144.534879   1.0  12.00  25.0  60.75  939.0\n",
       "Ruby   2016   35.0  29.028571   40.128093   2.0   3.00  11.0  32.00  147.0\n",
       "       2017  178.0  41.938202   56.038441   1.0   3.00  12.0  62.75  271.0\n",
       "       2018  330.0  41.003030   57.004746   1.0   3.00  14.5  64.00  342.0\n",
       "       2019  456.0  49.464912   67.960484   1.0   2.00  15.5  74.75  377.0\n",
       "node   2016   42.0  79.261905   86.193503  38.0  51.00  51.0  59.50  556.0\n",
       "       2017  202.0  79.306931  133.814957  23.0  29.00  38.0  51.00  943.0\n",
       "       2018  299.0  53.568562  100.692224   5.0  16.50  24.0  37.00  894.0\n",
       "       2019  388.0  49.561856  107.226312   1.0   5.00   5.0  33.25  820.0"
      ]
     },
     "execution_count": 192,
     "metadata": {},
     "output_type": "execute_result"
    }
   ],
   "source": [
    "df_tmp.groupby(['base','year'])['package'].describe()"
   ]
  },
  {
   "cell_type": "code",
   "execution_count": 195,
   "metadata": {},
   "outputs": [
    {
     "data": {
      "text/html": [
       "<div>\n",
       "<style scoped>\n",
       "    .dataframe tbody tr th:only-of-type {\n",
       "        vertical-align: middle;\n",
       "    }\n",
       "\n",
       "    .dataframe tbody tr th {\n",
       "        vertical-align: top;\n",
       "    }\n",
       "\n",
       "    .dataframe thead th {\n",
       "        text-align: right;\n",
       "    }\n",
       "</style>\n",
       "<table border=\"1\" class=\"dataframe\">\n",
       "  <thead>\n",
       "    <tr style=\"text-align: right;\">\n",
       "      <th></th>\n",
       "      <th>base</th>\n",
       "      <th>package</th>\n",
       "      <th>image</th>\n",
       "    </tr>\n",
       "  </thead>\n",
       "  <tbody>\n",
       "    <tr>\n",
       "      <td>4716</td>\n",
       "      <td>Ruby</td>\n",
       "      <td>did_you_mean</td>\n",
       "      <td>904</td>\n",
       "    </tr>\n",
       "    <tr>\n",
       "      <td>8861</td>\n",
       "      <td>node</td>\n",
       "      <td>fstream</td>\n",
       "      <td>903</td>\n",
       "    </tr>\n",
       "    <tr>\n",
       "      <td>7979</td>\n",
       "      <td>node</td>\n",
       "      <td>block-stream</td>\n",
       "      <td>902</td>\n",
       "    </tr>\n",
       "    <tr>\n",
       "      <td>8055</td>\n",
       "      <td>node</td>\n",
       "      <td>builtin-modules</td>\n",
       "      <td>852</td>\n",
       "    </tr>\n",
       "    <tr>\n",
       "      <td>9268</td>\n",
       "      <td>node</td>\n",
       "      <td>is-builtin-module</td>\n",
       "      <td>851</td>\n",
       "    </tr>\n",
       "    <tr>\n",
       "      <td>6429</td>\n",
       "      <td>Ruby</td>\n",
       "      <td>rubygems-update</td>\n",
       "      <td>848</td>\n",
       "    </tr>\n",
       "    <tr>\n",
       "      <td>10116</td>\n",
       "      <td>node</td>\n",
       "      <td>npm-registry-client</td>\n",
       "      <td>809</td>\n",
       "    </tr>\n",
       "    <tr>\n",
       "      <td>3360</td>\n",
       "      <td>Python</td>\n",
       "      <td>six</td>\n",
       "      <td>733</td>\n",
       "    </tr>\n",
       "    <tr>\n",
       "      <td>3200</td>\n",
       "      <td>Python</td>\n",
       "      <td>requests</td>\n",
       "      <td>631</td>\n",
       "    </tr>\n",
       "    <tr>\n",
       "      <td>3672</td>\n",
       "      <td>Python</td>\n",
       "      <td>urllib3</td>\n",
       "      <td>626</td>\n",
       "    </tr>\n",
       "    <tr>\n",
       "      <td>1948</td>\n",
       "      <td>Python</td>\n",
       "      <td>idna</td>\n",
       "      <td>598</td>\n",
       "    </tr>\n",
       "    <tr>\n",
       "      <td>825</td>\n",
       "      <td>Python</td>\n",
       "      <td>certifi</td>\n",
       "      <td>598</td>\n",
       "    </tr>\n",
       "    <tr>\n",
       "      <td>6096</td>\n",
       "      <td>Ruby</td>\n",
       "      <td>rack</td>\n",
       "      <td>405</td>\n",
       "    </tr>\n",
       "    <tr>\n",
       "      <td>4395</td>\n",
       "      <td>Ruby</td>\n",
       "      <td>bundler</td>\n",
       "      <td>386</td>\n",
       "    </tr>\n",
       "    <tr>\n",
       "      <td>6804</td>\n",
       "      <td>Ruby</td>\n",
       "      <td>thread_safe</td>\n",
       "      <td>378</td>\n",
       "    </tr>\n",
       "  </tbody>\n",
       "</table>\n",
       "</div>"
      ],
      "text/plain": [
       "         base              package  image\n",
       "4716     Ruby         did_you_mean    904\n",
       "8861     node              fstream    903\n",
       "7979     node         block-stream    902\n",
       "8055     node      builtin-modules    852\n",
       "9268     node    is-builtin-module    851\n",
       "6429     Ruby      rubygems-update    848\n",
       "10116    node  npm-registry-client    809\n",
       "3360   Python                  six    733\n",
       "3200   Python             requests    631\n",
       "3672   Python              urllib3    626\n",
       "1948   Python                 idna    598\n",
       "825    Python              certifi    598\n",
       "6096     Ruby                 rack    405\n",
       "4395     Ruby              bundler    386\n",
       "6804     Ruby          thread_safe    378"
      ]
     },
     "execution_count": 195,
     "metadata": {},
     "output_type": "execute_result"
    }
   ],
   "source": [
    "(added_package[['image','package','base']]\n",
    " .drop_duplicates()\n",
    " .groupby(['base','package'])\n",
    " .count()\n",
    " .reset_index()\n",
    " .sort_values('image', ascending=False)\n",
    " .groupby(['base'])\n",
    " .head(5)\n",
    ")"
   ]
  },
  {
   "cell_type": "markdown",
   "metadata": {},
   "source": [
    "## Now check the dependency between the packages \n",
    "### (all packages are included in the dataset package_dependencies.csv)"
   ]
  },
  {
   "cell_type": "code",
   "execution_count": 6,
   "metadata": {},
   "outputs": [],
   "source": [
    "deps  = pd.read_csv('../data/package_dependencies.csv')\n",
    "deps = deps.query('package!=dependency')\n",
    "deps['base'] = deps['base'].replace(d)\n",
    "deps.drop('docker', axis=1, inplace=True)"
   ]
  },
  {
   "cell_type": "code",
   "execution_count": 8,
   "metadata": {},
   "outputs": [
    {
     "data": {
      "application/vnd.jupyter.widget-view+json": {
       "model_id": "ca7be27878544e79a6ef1f2e642d3ee1",
       "version_major": 2,
       "version_minor": 0
      },
      "text/plain": [
       "HBox(children=(IntProgress(value=0, max=2930), HTML(value='')))"
      ]
     },
     "metadata": {},
     "output_type": "display_data"
    },
    {
     "name": "stdout",
     "output_type": "stream",
     "text": [
      "\n"
     ]
    }
   ],
   "source": [
    "packs = added_package[['image','base','package']].drop_duplicates()\n",
    "taille = added_package[['image','base']].drop_duplicates()\n",
    "packs.set_index('image', inplace=True)\n",
    "results2 = []\n",
    "for row in tqdm(added_package[['image','base']].drop_duplicates().iterrows(), total=len(taille)):\n",
    "    image = row[1]['image']\n",
    "    base = row[1]['base']\n",
    "    list_packs = packs.loc[image].package\n",
    "    \n",
    "    try:\n",
    "        deps_tmp = deps[deps.package.isin(list_packs)]\n",
    "        deps_tmp = deps_tmp[deps_tmp.dependency.isin(list_packs)]\n",
    "    except:\n",
    "        deps_tmp = deps[deps.package.isin([list_packs])]\n",
    "        deps_tmp = deps_tmp[deps_tmp.dependency.isin([list_packs])]\n",
    "        \n",
    "    deps_tmp['image'] = image\n",
    "    deps_tmp['base'] = base\n",
    "    \n",
    "    try:\n",
    "        list_packs = packs.loc[image][~packs.loc[image].package.isin(deps_tmp.package.tolist()+deps_tmp.dependency.tolist())]\n",
    "        list_packs = list_packs.package.unique().tolist()\n",
    "    except:\n",
    "        if list_packs not in deps_tmp.package.tolist()+deps_tmp.dependency.tolist():\n",
    "            list_packs = [list_packs]\n",
    "\n",
    "    deps_tmp = deps_tmp[~deps_tmp.package.isin(deps_tmp.dependency)]\n",
    "    results2.append(deps_tmp)\n",
    "    \n",
    "    df = pd.DataFrame({'base':base, 'package':list_packs, 'dependency':'undefined', 'image':image})\n",
    "    results2.append(df)\n",
    "results2 = pd.concat(results2)"
   ]
  },
  {
   "cell_type": "code",
   "execution_count": 9,
   "metadata": {},
   "outputs": [
    {
     "data": {
      "text/plain": [
       "(87130, 144372)"
      ]
     },
     "execution_count": 9,
     "metadata": {},
     "output_type": "execute_result"
    }
   ],
   "source": [
    "len(results2), len(added_package)"
   ]
  },
  {
   "cell_type": "code",
   "execution_count": 148,
   "metadata": {},
   "outputs": [
    {
     "data": {
      "text/plain": [
       "11607"
      ]
     },
     "execution_count": 148,
     "metadata": {},
     "output_type": "execute_result"
    }
   ],
   "source": [
    "added_package.package.unique().size"
   ]
  },
  {
   "cell_type": "code",
   "execution_count": 149,
   "metadata": {},
   "outputs": [
    {
     "data": {
      "text/plain": [
       "5495"
      ]
     },
     "execution_count": 149,
     "metadata": {},
     "output_type": "execute_result"
    }
   ],
   "source": [
    "results2.package.unique().size"
   ]
  },
  {
   "cell_type": "code",
   "execution_count": 11,
   "metadata": {},
   "outputs": [
    {
     "data": {
      "text/html": [
       "<div>\n",
       "<style scoped>\n",
       "    .dataframe tbody tr th:only-of-type {\n",
       "        vertical-align: middle;\n",
       "    }\n",
       "\n",
       "    .dataframe tbody tr th {\n",
       "        vertical-align: top;\n",
       "    }\n",
       "\n",
       "    .dataframe thead th {\n",
       "        text-align: right;\n",
       "    }\n",
       "</style>\n",
       "<table border=\"1\" class=\"dataframe\">\n",
       "  <thead>\n",
       "    <tr style=\"text-align: right;\">\n",
       "      <th></th>\n",
       "      <th>count</th>\n",
       "      <th>mean</th>\n",
       "      <th>std</th>\n",
       "      <th>min</th>\n",
       "      <th>25%</th>\n",
       "      <th>50%</th>\n",
       "      <th>75%</th>\n",
       "      <th>max</th>\n",
       "    </tr>\n",
       "    <tr>\n",
       "      <th>base</th>\n",
       "      <th></th>\n",
       "      <th></th>\n",
       "      <th></th>\n",
       "      <th></th>\n",
       "      <th></th>\n",
       "      <th></th>\n",
       "      <th></th>\n",
       "      <th></th>\n",
       "    </tr>\n",
       "  </thead>\n",
       "  <tbody>\n",
       "    <tr>\n",
       "      <td>Python</td>\n",
       "      <td>1000.0</td>\n",
       "      <td>26.653000</td>\n",
       "      <td>81.480118</td>\n",
       "      <td>1.0</td>\n",
       "      <td>5.0</td>\n",
       "      <td>8.0</td>\n",
       "      <td>21.0</td>\n",
       "      <td>710.0</td>\n",
       "    </tr>\n",
       "    <tr>\n",
       "      <td>Ruby</td>\n",
       "      <td>999.0</td>\n",
       "      <td>13.039039</td>\n",
       "      <td>16.872488</td>\n",
       "      <td>1.0</td>\n",
       "      <td>2.0</td>\n",
       "      <td>4.0</td>\n",
       "      <td>18.0</td>\n",
       "      <td>101.0</td>\n",
       "    </tr>\n",
       "    <tr>\n",
       "      <td>node</td>\n",
       "      <td>931.0</td>\n",
       "      <td>10.823845</td>\n",
       "      <td>7.302460</td>\n",
       "      <td>1.0</td>\n",
       "      <td>4.0</td>\n",
       "      <td>9.0</td>\n",
       "      <td>15.0</td>\n",
       "      <td>45.0</td>\n",
       "    </tr>\n",
       "  </tbody>\n",
       "</table>\n",
       "</div>"
      ],
      "text/plain": [
       "         count       mean        std  min  25%  50%   75%    max\n",
       "base                                                            \n",
       "Python  1000.0  26.653000  81.480118  1.0  5.0  8.0  21.0  710.0\n",
       "Ruby     999.0  13.039039  16.872488  1.0  2.0  4.0  18.0  101.0\n",
       "node     931.0  10.823845   7.302460  1.0  4.0  9.0  15.0   45.0"
      ]
     },
     "execution_count": 11,
     "metadata": {},
     "output_type": "execute_result"
    }
   ],
   "source": [
    "(results2[['image','package','base']]\n",
    " .drop_duplicates()\n",
    " .groupby(['image','base'])\n",
    " .count()\n",
    " .reset_index()\n",
    " .groupby(['base'])['package']\n",
    " .describe()\n",
    ")"
   ]
  },
  {
   "cell_type": "code",
   "execution_count": 13,
   "metadata": {},
   "outputs": [],
   "source": [
    "#results2[['package','base','image']].drop_duplicates().to_csv('../data/top_packages.csv', index=False)"
   ]
  },
  {
   "cell_type": "markdown",
   "metadata": {},
   "source": [
    "# Let's extract Dockerfiles of DockerHube images"
   ]
  },
  {
   "cell_type": "code",
   "execution_count": 11,
   "metadata": {},
   "outputs": [],
   "source": [
    "import re\n",
    "import json\n",
    "import requests\n",
    "from tqdm import tqdm\n",
    "import pandas as pd\n",
    "import multiprocessing as mp\n",
    "\n",
    "# This script inspects an image in DockerHub and gets its Dockerfile commands with other information like the layers SHA\n",
    "\n",
    "def download_url(url):\n",
    "    ''' Download an url and returns the content'''\n",
    "    \n",
    "    response = requests.get(url)\n",
    "    webContent  = response.json()\n",
    "    return webContent\n",
    "\n",
    "def image_metadata(url, source):\n",
    "    ''' Parse a json file from url  '''\n",
    "    \n",
    "    names = []\n",
    "    pops = []\n",
    "    data  = download_url(url)\n",
    "    for element in data['summaries']:\n",
    "        popularity=str(element['popularity'])\n",
    "        if source == \"official\":\n",
    "            name=str(element['slug'])\n",
    "        else:\n",
    "            name=str(element['name'])\n",
    "        names.append(name)\n",
    "        pops.append(popularity)\n",
    "    df = pd.DataFrame({'name': names, 'popularity': pops})\n",
    "    return df\n",
    "\n",
    "\n",
    "def number_images(url):\n",
    "    ''' Returns the number of images returned in a query '''\n",
    "\n",
    "    data=download_url(url)\n",
    "    try:\n",
    "        number = int(data['count'])\n",
    "    except:\n",
    "        return 0\n",
    "    return number\n",
    "\n",
    "def official_images():\n",
    "    ''' Extract the names of official images  '''\n",
    "\n",
    "    df_all = pd.DataFrame()\n",
    "    url_option = 'https://store.docker.com/api/content/v1/products/search/?q=+&type=image&page='\n",
    "    page = 1\n",
    "    while(True):\n",
    "        url = url_option + str(page) + \"&page_size=100\"\n",
    "        try:\n",
    "            df = image_metadata(url, 'official')\n",
    "        except:\n",
    "            break\n",
    "        df_all = pd.concat([df_all,df])\n",
    "        page = page + 1\n",
    "    return df_all\n",
    "\n",
    "def community_helper(string):\n",
    "    ''' This is a helper to the \"community_images()\" function '''\n",
    "\n",
    "    df_all = pd.DataFrame()\n",
    "    url_option = 'https://store.docker.com/api/content/v1/products/search?q='\n",
    "    page = 1\n",
    "    while(True):\n",
    "        url = url_option + string +\"&source=community&type=image&page=\"+str(page)+\"&page_size=100\"\n",
    "        try:\n",
    "            df = image_metadata(url, 'community')\n",
    "        except:\n",
    "            break\n",
    "        df_all = pd.concat([df_all,df])\n",
    "        page = page + 1\n",
    "    return df_all \n",
    "\n",
    "\n",
    "def community_images():\n",
    "    ''' Extract the names of all community images  '''\n",
    "    \n",
    "    df_all = []\n",
    "    url_option = 'https://store.docker.com/api/content/v1/products/search?q='\n",
    "    options = '&source=community&type=image&page=1&page_size=100'\n",
    "    stringer = 'abcdefghijklmnopqrstuvwxyz0123456789'\n",
    "    stringer = 'a'\n",
    "    for c1 in tqdm(stringer):\n",
    "        for c2 in stringer:\n",
    "            url = url_option + c1 + c2 + options\n",
    "            number  = number_images(url)\n",
    "            if number > 10000:\n",
    "                for c3 in stringer:\n",
    "                    url = url_option + c1 + c2 + c3+ options\n",
    "                    df_all.append(community_helper(c1+c2+c3))\n",
    "            else:\n",
    "                df_all.append(community_helper(c1+c2))\n",
    "    df_all = pd.concat(df_all)\n",
    "    df_all.drop_duplicates(inplace=True)\n",
    "    df_all = df_all.groupby(['name']).first().reset_index()\n",
    "    return df_all\n",
    "                           \n",
    "\n",
    "def extract_tags(url):\n",
    "    ''' Returns the tags available for a certain repository '''\n",
    "\n",
    "    data = download_url(url)\n",
    "    tags = []\n",
    "    size = []\n",
    "    date = []\n",
    "    for result in data['results']:\n",
    "        tags.append(str(result['name']))\n",
    "        size.append(str(result['full_size']))\n",
    "        date.append(str(result['last_updated']))\n",
    "    df = pd.DataFrame({'tag': tags, 'full_size': size, 'last_updated': date})\n",
    "    return df\n",
    "\n",
    "def official_tags(name):\n",
    "    ''' Returns the tags available for a certain OFFICIAL repository '''\n",
    "\n",
    "    df_all = pd.DataFrame()\n",
    "    page = 1\n",
    "    while(True):\n",
    "        url=\"https://registry.hub.docker.com/v2/repositories/library/\"+str(name)+\"/tags/?page=\"+str(page)+\"&page_size=100\"\n",
    "        try:\n",
    "            df_all = pd.concat([df_all, extract_tags(url)])\n",
    "        except :\n",
    "            break\n",
    "        page = page +1\n",
    "            \n",
    "    return df_all\n",
    "        \n",
    "\n",
    "def community_tags(name):\n",
    "    ''' Returns the tags available for a certain COMMUNITY repository '''\n",
    "\n",
    "    df_all = pd.DataFrame()\n",
    "    page = 1\n",
    "    while(True):\n",
    "        url=\"https://registry.hub.docker.com/v2/repositories/\"+str(name)+\"/tags/?page=\"+str(page)+\"&page_size=100\"\n",
    "        try:\n",
    "            df_all = pd.concat([df_all, extract_tags(url)])\n",
    "        except:\n",
    "            break\n",
    "        page = page +1\n",
    "    return df_all\n",
    "\n",
    "def get_token(image,tag):\n",
    "    ''' Returns the token needed to inspect the layers of a Docker image'''\n",
    "\n",
    "    url = \"https://auth.docker.io/token?scope=repository:\"+str(image)+\":pull&service=registry.docker.io\"\n",
    "    token = download_url(url)\n",
    "    return token['token']\n",
    "\n",
    "\n",
    "def get_manifest(image,tag,token):\n",
    "    ''' Returns the manifest of an image containing layer ids '''\n",
    "\n",
    "    headers = {'Accept': 'application/vnd.docker.distribution.manifest.v2+json',\n",
    "           'Authorization': 'Bearer '+str(token)}\n",
    "    url = 'https://registry-1.docker.io/v2/'+str(image)+'/manifests/'+str(tag)\n",
    "    \n",
    "    response = requests.get(url, headers=headers)\n",
    "    return response.json()\n",
    "\n",
    "def get_fsLayer(image,tag,token):\n",
    "    ''' Returns the manifest of an image containing layer ids and their commands'''\n",
    "\n",
    "    headers = {'Authorization': 'Bearer '+str(token)}\n",
    "    url = 'https://registry-1.docker.io/v2/'+str(image)+'/manifests/'+str(tag)\n",
    "    \n",
    "    response = requests.get(url, headers=headers)\n",
    "    return response.json()\n",
    "\n",
    "\n",
    "def inspect_dict(name, tag):\n",
    "    ''' Parse the manifest result and return the information needed as a dict variable'''\n",
    "\n",
    "    token = get_token(name,tag)\n",
    "    manifest = get_fsLayer(name,tag,token)\n",
    "    image_layers = {}\n",
    "    image_layers ['name'] = name\n",
    "    image_layers ['tag'] = tag\n",
    "    image_layers ['layers'] = []\n",
    "    for i, blob in enumerate(manifest['fsLayers']):\n",
    "        command = json.loads(manifest['history'][i]['v1Compatibility'])['container_config']['Cmd'][-1]\n",
    "        command = command.replace('/bin/sh -c #(nop) ','').replace('/bin/sh -c','RUN')\n",
    "        if command.lstrip().startswith('set'):\n",
    "            command = 'RUN '+command\n",
    "        layer = {}\n",
    "        layer['blob'] = blob['blobSum'].split(':')[-1]        \n",
    "        layer['order'] = len(manifest['fsLayers']) - i\n",
    "        layer['created'] = json.loads(manifest['history'][i]['v1Compatibility'])['created']\n",
    "        layer['command'] = command\n",
    "        image_layers ['layers'].append(layer)\n",
    "    \n",
    "    return image_layers, token\n",
    "\n",
    "\n",
    "def inspect_df(name, tag):\n",
    "    ''' Parse the manifest result and return the information needed as a dataframe'''\n",
    "\n",
    "    token = get_token(name,tag)\n",
    "    manifest = get_fsLayer(name,tag,token)\n",
    "    blobsums = []\n",
    "    commands = []\n",
    "    creation = []\n",
    "    for i, blob in enumerate(manifest['fsLayers']):\n",
    "        blobsums.append(blob['blobSum'].split(':')[-1])\n",
    "        command = json.loads(manifest['history'][i]['v1Compatibility'])['container_config']['Cmd'][-1]\n",
    "        command = command.replace('/bin/sh -c #(nop) ','').replace('/bin/sh -c','RUN')\n",
    "        if command.lstrip().startswith('set'):\n",
    "            command = 'RUN '+command\n",
    "        commands.append(command)\n",
    "        creation.append(json.loads(manifest['history'][i]['v1Compatibility'])['created'])\n",
    "        \n",
    "    df = pd.DataFrame({'blob':reversed(blobsums), \n",
    "                       'created':reversed(creation), \n",
    "                       'command': reversed(commands)\n",
    "                      })\n",
    "    return df\n",
    "\n",
    "def inspect_image(image):\n",
    "    tag = 'latest'\n",
    "    try: \n",
    "        df = inspect_df(image, tag).assign(image= image)\n",
    "    except: \n",
    "        df = pd.DataFrame()\n",
    "    return df\n"
   ]
  },
  {
   "cell_type": "code",
   "execution_count": 164,
   "metadata": {},
   "outputs": [],
   "source": [
    "# Create tasks\n",
    "images=packages.image.unique().tolist()\n",
    "len(images)\n",
    "\n",
    "# MUlti processing\n",
    "pool= mp.Pool(processes=8)\n",
    "results=pool.imap_unordered(inspect_image, images, 20)\n",
    "\n",
    "# get results\n",
    "tab=[]\n",
    "for df in results:\n",
    "    tab.append(df)\n",
    "tab = pd.concat(tab)\n",
    "\n",
    "# Close\n",
    "pool.close()\n",
    "pool.join()\n"
   ]
  },
  {
   "cell_type": "code",
   "execution_count": 13,
   "metadata": {},
   "outputs": [
    {
     "name": "stderr",
     "output_type": "stream",
     "text": [
      "100%|██████████| 3000/3000 [30:51<00:00,  1.62it/s] \n"
     ]
    }
   ],
   "source": [
    "tab = []\n",
    "images=packages.image.unique().tolist()\n",
    "for image in tqdm(images, total=len(images)):\n",
    "    df = inspect_image(image)\n",
    "    tab.append(df)\n",
    "tab = pd.concat(tab)\n"
   ]
  },
  {
   "cell_type": "code",
   "execution_count": 14,
   "metadata": {},
   "outputs": [
    {
     "data": {
      "text/plain": [
       "1385"
      ]
     },
     "execution_count": 14,
     "metadata": {},
     "output_type": "execute_result"
    }
   ],
   "source": [
    "tab.image.unique().size"
   ]
  },
  {
   "cell_type": "code",
   "execution_count": 167,
   "metadata": {},
   "outputs": [],
   "source": [
    "#tab.to_csv('../data/image_dockerfiles.csv', index=False)"
   ]
  },
  {
   "cell_type": "code",
   "execution_count": 168,
   "metadata": {},
   "outputs": [],
   "source": [
    "tab2 = (tab\n",
    "       .merge(packages[['image','base']].drop_duplicates(),\n",
    "              on='image',\n",
    "              how='left'\n",
    "             )\n",
    "        .dropna()\n",
    "       )"
   ]
  },
  {
   "cell_type": "code",
   "execution_count": 169,
   "metadata": {},
   "outputs": [
    {
     "data": {
      "text/html": [
       "<div>\n",
       "<style scoped>\n",
       "    .dataframe tbody tr th:only-of-type {\n",
       "        vertical-align: middle;\n",
       "    }\n",
       "\n",
       "    .dataframe tbody tr th {\n",
       "        vertical-align: top;\n",
       "    }\n",
       "\n",
       "    .dataframe thead th {\n",
       "        text-align: right;\n",
       "    }\n",
       "</style>\n",
       "<table border=\"1\" class=\"dataframe\">\n",
       "  <thead>\n",
       "    <tr style=\"text-align: right;\">\n",
       "      <th></th>\n",
       "      <th>image</th>\n",
       "    </tr>\n",
       "    <tr>\n",
       "      <th>base</th>\n",
       "      <th></th>\n",
       "    </tr>\n",
       "  </thead>\n",
       "  <tbody>\n",
       "    <tr>\n",
       "      <td>Python</td>\n",
       "      <td>347</td>\n",
       "    </tr>\n",
       "    <tr>\n",
       "      <td>Ruby</td>\n",
       "      <td>516</td>\n",
       "    </tr>\n",
       "    <tr>\n",
       "      <td>node</td>\n",
       "      <td>620</td>\n",
       "    </tr>\n",
       "  </tbody>\n",
       "</table>\n",
       "</div>"
      ],
      "text/plain": [
       "        image\n",
       "base         \n",
       "Python    347\n",
       "Ruby      516\n",
       "node      620"
      ]
     },
     "execution_count": 169,
     "metadata": {},
     "output_type": "execute_result"
    }
   ],
   "source": [
    "tab2[['base','image']].drop_duplicates().groupby('base').count()"
   ]
  },
  {
   "cell_type": "code",
   "execution_count": null,
   "metadata": {},
   "outputs": [],
   "source": [
    "mask = tab2.command.str.contains('pip install')\n",
    "mask2 = tab2.command.str.contains('pip2 install')\n",
    "mask3 = tab2.command.str.contains('pip3 install')\n",
    "\n",
    "tab2[mask+mask2+mask2].image.unique().size"
   ]
  },
  {
   "cell_type": "code",
   "execution_count": 163,
   "metadata": {},
   "outputs": [
    {
     "data": {
      "text/plain": [
       "(0.7606382978723404, 0.884430176565008, 0.8866498740554156)"
      ]
     },
     "execution_count": 163,
     "metadata": {},
     "output_type": "execute_result"
    }
   ],
   "source": [
    "286/376, 551/623, 352/397"
   ]
  }
 ],
 "metadata": {
  "kernelspec": {
   "display_name": "Python 3",
   "language": "python",
   "name": "python3"
  },
  "language_info": {
   "codemirror_mode": {
    "name": "ipython",
    "version": 3
   },
   "file_extension": ".py",
   "mimetype": "text/x-python",
   "name": "python",
   "nbconvert_exporter": "python",
   "pygments_lexer": "ipython3",
   "version": "3.6.9"
  }
 },
 "nbformat": 4,
 "nbformat_minor": 2
}
