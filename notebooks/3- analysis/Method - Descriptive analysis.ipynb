{
 "cells": [
  {
   "cell_type": "code",
   "execution_count": 4,
   "metadata": {},
   "outputs": [],
   "source": [
    "%matplotlib inline\n",
    "from imports import *\n",
    "font = {'family' : 'Times New Roman',\n",
    "        'weight' : 'bold',\n",
    "        'size'   : 16}\n",
    "plt.rc('font', **font)\n",
    "order = ['node','python','ruby']"
   ]
  },
  {
   "cell_type": "markdown",
   "metadata": {},
   "source": [
    "# Work starts here\n",
    "# Load installed packages"
   ]
  },
  {
   "cell_type": "code",
   "execution_count": 5,
   "metadata": {},
   "outputs": [
    {
     "data": {
      "text/plain": [
       "998727"
      ]
     },
     "execution_count": 5,
     "metadata": {},
     "output_type": "execute_result"
    }
   ],
   "source": [
    "packages = pd.read_csv('../data/cleaned_installed_packages.csv')\n",
    "packages.package.fillna('nan', inplace=True)\n",
    "packages.rename(columns = {'operating':'os'}, inplace=True)\n",
    "packages['last_updated'] = pd.to_datetime(packages['last_updated'])\n",
    "len(packages)"
   ]
  },
  {
   "cell_type": "code",
   "execution_count": 6,
   "metadata": {},
   "outputs": [
    {
     "data": {
      "text/html": [
       "<div>\n",
       "<style scoped>\n",
       "    .dataframe tbody tr th:only-of-type {\n",
       "        vertical-align: middle;\n",
       "    }\n",
       "\n",
       "    .dataframe tbody tr th {\n",
       "        vertical-align: top;\n",
       "    }\n",
       "\n",
       "    .dataframe thead th {\n",
       "        text-align: right;\n",
       "    }\n",
       "</style>\n",
       "<table border=\"1\" class=\"dataframe\">\n",
       "  <thead>\n",
       "    <tr style=\"text-align: right;\">\n",
       "      <th></th>\n",
       "      <th>image</th>\n",
       "      <th>base</th>\n",
       "    </tr>\n",
       "  </thead>\n",
       "  <tbody>\n",
       "    <tr>\n",
       "      <th>128890</th>\n",
       "      <td>kalo/frontend-deploy</td>\n",
       "      <td>node</td>\n",
       "    </tr>\n",
       "    <tr>\n",
       "      <th>695142</th>\n",
       "      <td>pelias/elasticsearch-health-logger</td>\n",
       "      <td>node</td>\n",
       "    </tr>\n",
       "    <tr>\n",
       "      <th>698211</th>\n",
       "      <td>eabci/wct-n8</td>\n",
       "      <td>node</td>\n",
       "    </tr>\n",
       "    <tr>\n",
       "      <th>864335</th>\n",
       "      <td>vaporio/synse-server</td>\n",
       "      <td>python</td>\n",
       "    </tr>\n",
       "    <tr>\n",
       "      <th>910439</th>\n",
       "      <td>cfbuildpacks/ci</td>\n",
       "      <td>ruby</td>\n",
       "    </tr>\n",
       "    <tr>\n",
       "      <th>928436</th>\n",
       "      <td>sider/goodcheck</td>\n",
       "      <td>ruby</td>\n",
       "    </tr>\n",
       "    <tr>\n",
       "      <th>932337</th>\n",
       "      <td>frentme/server</td>\n",
       "      <td>ruby</td>\n",
       "    </tr>\n",
       "    <tr>\n",
       "      <th>990035</th>\n",
       "      <td>phanbt95/kbr_server</td>\n",
       "      <td>ruby</td>\n",
       "    </tr>\n",
       "  </tbody>\n",
       "</table>\n",
       "</div>"
      ],
      "text/plain": [
       "                                     image    base\n",
       "128890                kalo/frontend-deploy    node\n",
       "695142  pelias/elasticsearch-health-logger    node\n",
       "698211                        eabci/wct-n8    node\n",
       "864335                vaporio/synse-server  python\n",
       "910439                     cfbuildpacks/ci    ruby\n",
       "928436                     sider/goodcheck    ruby\n",
       "932337                      frentme/server    ruby\n",
       "990035                 phanbt95/kbr_server    ruby"
      ]
     },
     "execution_count": 6,
     "metadata": {},
     "output_type": "execute_result"
    }
   ],
   "source": [
    "packages.query('os == \"Ubuntu\"')[['image','base']].drop_duplicates()"
   ]
  },
  {
   "cell_type": "code",
   "execution_count": 7,
   "metadata": {},
   "outputs": [
    {
     "data": {
      "text/plain": [
       "816429"
      ]
     },
     "execution_count": 7,
     "metadata": {},
     "output_type": "execute_result"
    }
   ],
   "source": [
    "# Filter on 3000 images\n",
    "candidates_3000 = pd.read_csv('../data/considered_3000_images.csv')\n",
    "mask = packages.image.isin(candidates_3000.image)\n",
    "packages = packages[mask]\n",
    "len(packages)"
   ]
  },
  {
   "cell_type": "code",
   "execution_count": 8,
   "metadata": {},
   "outputs": [
    {
     "data": {
      "text/html": [
       "<div>\n",
       "<style scoped>\n",
       "    .dataframe tbody tr th:only-of-type {\n",
       "        vertical-align: middle;\n",
       "    }\n",
       "\n",
       "    .dataframe tbody tr th {\n",
       "        vertical-align: top;\n",
       "    }\n",
       "\n",
       "    .dataframe thead th {\n",
       "        text-align: right;\n",
       "    }\n",
       "</style>\n",
       "<table border=\"1\" class=\"dataframe\">\n",
       "  <thead>\n",
       "    <tr style=\"text-align: right;\">\n",
       "      <th></th>\n",
       "      <th>image</th>\n",
       "      <th>package</th>\n",
       "      <th>version</th>\n",
       "      <th>os</th>\n",
       "      <th>popularity</th>\n",
       "      <th>last_updated</th>\n",
       "      <th>core</th>\n",
       "      <th>version_release</th>\n",
       "      <th>version_today</th>\n",
       "    </tr>\n",
       "    <tr>\n",
       "      <th>base</th>\n",
       "      <th></th>\n",
       "      <th></th>\n",
       "      <th></th>\n",
       "      <th></th>\n",
       "      <th></th>\n",
       "      <th></th>\n",
       "      <th></th>\n",
       "      <th></th>\n",
       "      <th></th>\n",
       "    </tr>\n",
       "  </thead>\n",
       "  <tbody>\n",
       "    <tr>\n",
       "      <th>node</th>\n",
       "      <td>0.864128</td>\n",
       "      <td>0.864128</td>\n",
       "      <td>0.864128</td>\n",
       "      <td>0.864128</td>\n",
       "      <td>0.864128</td>\n",
       "      <td>0.864128</td>\n",
       "      <td>0.864128</td>\n",
       "      <td>0.864128</td>\n",
       "      <td>0.864128</td>\n",
       "    </tr>\n",
       "    <tr>\n",
       "      <th>python</th>\n",
       "      <td>0.055704</td>\n",
       "      <td>0.055704</td>\n",
       "      <td>0.055704</td>\n",
       "      <td>0.055704</td>\n",
       "      <td>0.055704</td>\n",
       "      <td>0.055704</td>\n",
       "      <td>0.055704</td>\n",
       "      <td>0.055704</td>\n",
       "      <td>0.055704</td>\n",
       "    </tr>\n",
       "    <tr>\n",
       "      <th>ruby</th>\n",
       "      <td>0.080169</td>\n",
       "      <td>0.080169</td>\n",
       "      <td>0.080169</td>\n",
       "      <td>0.080169</td>\n",
       "      <td>0.080169</td>\n",
       "      <td>0.080169</td>\n",
       "      <td>0.080169</td>\n",
       "      <td>0.080169</td>\n",
       "      <td>0.080169</td>\n",
       "    </tr>\n",
       "  </tbody>\n",
       "</table>\n",
       "</div>"
      ],
      "text/plain": [
       "           image   package   version        os  popularity  last_updated  \\\n",
       "base                                                                       \n",
       "node    0.864128  0.864128  0.864128  0.864128    0.864128      0.864128   \n",
       "python  0.055704  0.055704  0.055704  0.055704    0.055704      0.055704   \n",
       "ruby    0.080169  0.080169  0.080169  0.080169    0.080169      0.080169   \n",
       "\n",
       "            core  version_release  version_today  \n",
       "base                                              \n",
       "node    0.864128         0.864128       0.864128  \n",
       "python  0.055704         0.055704       0.055704  \n",
       "ruby    0.080169         0.080169       0.080169  "
      ]
     },
     "execution_count": 8,
     "metadata": {},
     "output_type": "execute_result"
    }
   ],
   "source": [
    "packages.groupby('base').count()/816429"
   ]
  },
  {
   "cell_type": "code",
   "execution_count": 9,
   "metadata": {},
   "outputs": [
    {
     "data": {
      "text/plain": [
       "816151"
      ]
     },
     "execution_count": 9,
     "metadata": {},
     "output_type": "execute_result"
    }
   ],
   "source": [
    "# Filter on packages that were coming from npm, PyPI or RubyGems\n",
    "datasets = ['../data/npm_versions.csv',\n",
    "           '../data/pypi_versions.csv',\n",
    "           '../data/ruby_versions.csv']\n",
    "available = pd.concat([pd.read_csv(ds) for ds in datasets])\n",
    "available.package.fillna('nan', inplace=True)\n",
    "packages = packages[packages.package.isin(available.package)]\n",
    "len(packages)"
   ]
  },
  {
   "cell_type": "code",
   "execution_count": 10,
   "metadata": {},
   "outputs": [
    {
     "data": {
      "text/html": [
       "<div>\n",
       "<style scoped>\n",
       "    .dataframe tbody tr th:only-of-type {\n",
       "        vertical-align: middle;\n",
       "    }\n",
       "\n",
       "    .dataframe tbody tr th {\n",
       "        vertical-align: top;\n",
       "    }\n",
       "\n",
       "    .dataframe thead th {\n",
       "        text-align: right;\n",
       "    }\n",
       "</style>\n",
       "<table border=\"1\" class=\"dataframe\">\n",
       "  <thead>\n",
       "    <tr style=\"text-align: right;\">\n",
       "      <th></th>\n",
       "      <th></th>\n",
       "      <th>image</th>\n",
       "    </tr>\n",
       "    <tr>\n",
       "      <th>base</th>\n",
       "      <th>os</th>\n",
       "      <th></th>\n",
       "    </tr>\n",
       "  </thead>\n",
       "  <tbody>\n",
       "    <tr>\n",
       "      <th rowspan=\"2\" valign=\"top\">node</th>\n",
       "      <th>Alpine</th>\n",
       "      <td>403</td>\n",
       "    </tr>\n",
       "    <tr>\n",
       "      <th>Debian</th>\n",
       "      <td>597</td>\n",
       "    </tr>\n",
       "    <tr>\n",
       "      <th rowspan=\"2\" valign=\"top\">python</th>\n",
       "      <th>Alpine</th>\n",
       "      <td>446</td>\n",
       "    </tr>\n",
       "    <tr>\n",
       "      <th>Debian</th>\n",
       "      <td>554</td>\n",
       "    </tr>\n",
       "    <tr>\n",
       "      <th rowspan=\"2\" valign=\"top\">ruby</th>\n",
       "      <th>Alpine</th>\n",
       "      <td>252</td>\n",
       "    </tr>\n",
       "    <tr>\n",
       "      <th>Debian</th>\n",
       "      <td>748</td>\n",
       "    </tr>\n",
       "  </tbody>\n",
       "</table>\n",
       "</div>"
      ],
      "text/plain": [
       "               image\n",
       "base   os           \n",
       "node   Alpine    403\n",
       "       Debian    597\n",
       "python Alpine    446\n",
       "       Debian    554\n",
       "ruby   Alpine    252\n",
       "       Debian    748"
      ]
     },
     "execution_count": 10,
     "metadata": {},
     "output_type": "execute_result"
    }
   ],
   "source": [
    "# Images that we consider for the analysis\n",
    "packages[['image','os','base']].drop_duplicates().groupby(['base','os']).count()"
   ]
  },
  {
   "cell_type": "code",
   "execution_count": 18,
   "metadata": {},
   "outputs": [
    {
     "data": {
      "image/png": "[encoded data removed]",
      "text/plain": [
       "<Figure size 648x194.4 with 1 Axes>"
      ]
     },
     "metadata": {
      "needs_background": "light"
     },
     "output_type": "display_data"
    }
   ],
   "source": [
    "df_tmp=packages[['image','last_updated','base']].drop_duplicates()\n",
    "df_tmp['year'] = df_tmp['last_updated'].apply(lambda d: str(d).split('-')[0])\n",
    "df_tmp = df_tmp.groupby(['base','year']).count().reset_index()\n",
    "d = {'python':'Python','ruby':'Ruby'}\n",
    "df_tmp['base'] = df_tmp['base'].replace(d)\n",
    "ax = sns.barplot(x=\"year\", \n",
    "                 y=\"image\", \n",
    "                 hue=\"base\", \n",
    "                 data=df_tmp, \n",
    "                 palette=reversed(Set1),\n",
    "                 linewidth=1)\n",
    "ax.figure.set_size_inches(9,2.7)\n",
    "ax.set_xlabel(\"\")\n",
    "ax.set_ylabel('\\# images')\n",
    "for patch in ax.patches:\n",
    "    patch.set_edgecolor('black')\n",
    "ax.set_ylim(0,601)\n",
    "plt.yticks(np.arange(0, 601, 100))\n",
    "\n",
    "ax.legend(bbox_to_anchor= (0.9, 1.26),fontsize=17, ncol=3)"
   ]
  },
  {
   "cell_type": "code",
   "execution_count": 12,
   "metadata": {},
   "outputs": [
    {
     "data": {
      "text/plain": [
       "876739651"
      ]
     },
     "execution_count": 12,
     "metadata": {},
     "output_type": "execute_result"
    }
   ],
   "source": [
    "# Number of pulls for all images\n",
    "packages[['image','popularity']].drop_duplicates().popularity.sum()"
   ]
  },
  {
   "cell_type": "code",
   "execution_count": 13,
   "metadata": {},
   "outputs": [
    {
     "data": {
      "text/plain": [
       "12208"
      ]
     },
     "execution_count": 13,
     "metadata": {},
     "output_type": "execute_result"
    }
   ],
   "source": [
    "# Number of unique packages\n",
    "len(packages[['base','package']].drop_duplicates())"
   ]
  },
  {
   "cell_type": "code",
   "execution_count": 14,
   "metadata": {},
   "outputs": [
    {
     "data": {
      "text/plain": [
       "28363"
      ]
     },
     "execution_count": 14,
     "metadata": {},
     "output_type": "execute_result"
    }
   ],
   "source": [
    "# Number of unique packages\n",
    "len(packages[['base','package','version_release']].drop_duplicates())"
   ]
  },
  {
   "cell_type": "code",
   "execution_count": 15,
   "metadata": {},
   "outputs": [
    {
     "data": {
      "text/html": [
       "<div>\n",
       "<style scoped>\n",
       "    .dataframe tbody tr th:only-of-type {\n",
       "        vertical-align: middle;\n",
       "    }\n",
       "\n",
       "    .dataframe tbody tr th {\n",
       "        vertical-align: top;\n",
       "    }\n",
       "\n",
       "    .dataframe thead th {\n",
       "        text-align: right;\n",
       "    }\n",
       "</style>\n",
       "<table border=\"1\" class=\"dataframe\">\n",
       "  <thead>\n",
       "    <tr style=\"text-align: right;\">\n",
       "      <th></th>\n",
       "      <th>package</th>\n",
       "    </tr>\n",
       "    <tr>\n",
       "      <th>base</th>\n",
       "      <th></th>\n",
       "    </tr>\n",
       "  </thead>\n",
       "  <tbody>\n",
       "    <tr>\n",
       "      <th>node</th>\n",
       "      <td>5123</td>\n",
       "    </tr>\n",
       "    <tr>\n",
       "      <th>python</th>\n",
       "      <td>3867</td>\n",
       "    </tr>\n",
       "    <tr>\n",
       "      <th>ruby</th>\n",
       "      <td>3218</td>\n",
       "    </tr>\n",
       "  </tbody>\n",
       "</table>\n",
       "</div>"
      ],
      "text/plain": [
       "        package\n",
       "base           \n",
       "node       5123\n",
       "python     3867\n",
       "ruby       3218"
      ]
     },
     "execution_count": 15,
     "metadata": {},
     "output_type": "execute_result"
    }
   ],
   "source": [
    "# Number of unique packages found in images\n",
    "packages[['package','base']].drop_duplicates().groupby(['base']).count()"
   ]
  },
  {
   "cell_type": "code",
   "execution_count": 16,
   "metadata": {},
   "outputs": [
    {
     "data": {
      "text/html": [
       "<div>\n",
       "<style scoped>\n",
       "    .dataframe tbody tr th:only-of-type {\n",
       "        vertical-align: middle;\n",
       "    }\n",
       "\n",
       "    .dataframe tbody tr th {\n",
       "        vertical-align: top;\n",
       "    }\n",
       "\n",
       "    .dataframe thead th {\n",
       "        text-align: right;\n",
       "    }\n",
       "</style>\n",
       "<table border=\"1\" class=\"dataframe\">\n",
       "  <thead>\n",
       "    <tr style=\"text-align: right;\">\n",
       "      <th></th>\n",
       "      <th>package</th>\n",
       "      <th>version_release</th>\n",
       "    </tr>\n",
       "    <tr>\n",
       "      <th>base</th>\n",
       "      <th></th>\n",
       "      <th></th>\n",
       "    </tr>\n",
       "  </thead>\n",
       "  <tbody>\n",
       "    <tr>\n",
       "      <th>node</th>\n",
       "      <td>10435</td>\n",
       "      <td>10435</td>\n",
       "    </tr>\n",
       "    <tr>\n",
       "      <th>python</th>\n",
       "      <td>8656</td>\n",
       "      <td>8656</td>\n",
       "    </tr>\n",
       "    <tr>\n",
       "      <th>ruby</th>\n",
       "      <td>9272</td>\n",
       "      <td>9272</td>\n",
       "    </tr>\n",
       "  </tbody>\n",
       "</table>\n",
       "</div>"
      ],
      "text/plain": [
       "        package  version_release\n",
       "base                            \n",
       "node      10435            10435\n",
       "python     8656             8656\n",
       "ruby       9272             9272"
      ]
     },
     "execution_count": 16,
     "metadata": {},
     "output_type": "execute_result"
    }
   ],
   "source": [
    "# Number of unique package release found in images\n",
    "packages[['package','base','version_release']].drop_duplicates().groupby(['base']).count()"
   ]
  },
  {
   "cell_type": "code",
   "execution_count": 17,
   "metadata": {},
   "outputs": [
    {
     "data": {
      "text/plain": [
       "<pandas.core.groupby.generic.DataFrameGroupBy object at 0x7f987349e828>"
      ]
     },
     "execution_count": 17,
     "metadata": {},
     "output_type": "execute_result"
    }
   ],
   "source": [
    "packages.groupby(['image','base'])"
   ]
  },
  {
   "cell_type": "markdown",
   "metadata": {},
   "source": [
    "## Vulnerabilities"
   ]
  },
  {
   "cell_type": "code",
   "execution_count": 19,
   "metadata": {},
   "outputs": [],
   "source": [
    "vulns = pd.read_csv('../data/vulnerabilities_snyk.csv', dtype=str)\n",
    "# To have this dataset, you have to ask permission from Snyk.io"
   ]
  },
  {
   "cell_type": "code",
   "execution_count": 20,
   "metadata": {},
   "outputs": [
    {
     "data": {
      "text/plain": [
       "3967"
      ]
     },
     "execution_count": 20,
     "metadata": {},
     "output_type": "execute_result"
    }
   ],
   "source": [
    "vulns.id.unique().size"
   ]
  },
  {
   "cell_type": "code",
   "execution_count": 21,
   "metadata": {},
   "outputs": [
    {
     "data": {
      "text/plain": [
       "2527"
      ]
     },
     "execution_count": 21,
     "metadata": {},
     "output_type": "execute_result"
    }
   ],
   "source": [
    "vulns.package.unique().size"
   ]
  },
  {
   "cell_type": "code",
   "execution_count": 22,
   "metadata": {},
   "outputs": [
    {
     "data": {
      "text/plain": [
       "'2020-04-12T14:07:12.088673Z'"
      ]
     },
     "execution_count": 22,
     "metadata": {},
     "output_type": "execute_result"
    }
   ],
   "source": [
    "vulns.published.max()"
   ]
  },
  {
   "cell_type": "code",
   "execution_count": 23,
   "metadata": {},
   "outputs": [
    {
     "data": {
      "text/html": [
       "<div>\n",
       "<style scoped>\n",
       "    .dataframe tbody tr th:only-of-type {\n",
       "        vertical-align: middle;\n",
       "    }\n",
       "\n",
       "    .dataframe tbody tr th {\n",
       "        vertical-align: top;\n",
       "    }\n",
       "\n",
       "    .dataframe thead th {\n",
       "        text-align: right;\n",
       "    }\n",
       "</style>\n",
       "<table border=\"1\" class=\"dataframe\">\n",
       "  <thead>\n",
       "    <tr style=\"text-align: right;\">\n",
       "      <th></th>\n",
       "      <th>id</th>\n",
       "    </tr>\n",
       "    <tr>\n",
       "      <th>base</th>\n",
       "      <th></th>\n",
       "    </tr>\n",
       "  </thead>\n",
       "  <tbody>\n",
       "    <tr>\n",
       "      <th>js</th>\n",
       "      <td>0.556088</td>\n",
       "    </tr>\n",
       "    <tr>\n",
       "      <th>python</th>\n",
       "      <td>0.270481</td>\n",
       "    </tr>\n",
       "    <tr>\n",
       "      <th>ruby</th>\n",
       "      <td>0.173431</td>\n",
       "    </tr>\n",
       "  </tbody>\n",
       "</table>\n",
       "</div>"
      ],
      "text/plain": [
       "              id\n",
       "base            \n",
       "js      0.556088\n",
       "python  0.270481\n",
       "ruby    0.173431"
      ]
     },
     "execution_count": 23,
     "metadata": {},
     "output_type": "execute_result"
    }
   ],
   "source": [
    "vulns[['id','base']].drop_duplicates().groupby(['base']).count()/3967"
   ]
  },
  {
   "cell_type": "code",
   "execution_count": 24,
   "metadata": {},
   "outputs": [
    {
     "data": {
      "text/plain": [
       "(42504, 16)"
      ]
     },
     "execution_count": 24,
     "metadata": {},
     "output_type": "execute_result"
    }
   ],
   "source": [
    "affected = pd.read_csv('../data/vulnerable_packages_today.csv')\n",
    "# To have this dataset, you have to ask permission from Snyk.io\n",
    "affected.package.fillna('nan', inplace=True)\n",
    "affected['last_updated'] = pd.to_datetime(affected['last_updated'])\n",
    "\n",
    "mask  = affected.image.isin(candidates_3000.image)\n",
    "affected = affected[mask]\n",
    "affected.drop_duplicates(inplace=True)\n",
    "\n",
    "affected.shape"
   ]
  },
  {
   "cell_type": "code",
   "execution_count": 25,
   "metadata": {},
   "outputs": [
    {
     "data": {
      "text/plain": [
       "632"
      ]
     },
     "execution_count": 25,
     "metadata": {},
     "output_type": "execute_result"
    }
   ],
   "source": [
    "affected.id.unique().size"
   ]
  },
  {
   "cell_type": "code",
   "execution_count": 26,
   "metadata": {},
   "outputs": [
    {
     "data": {
      "text/html": [
       "<div>\n",
       "<style scoped>\n",
       "    .dataframe tbody tr th:only-of-type {\n",
       "        vertical-align: middle;\n",
       "    }\n",
       "\n",
       "    .dataframe tbody tr th {\n",
       "        vertical-align: top;\n",
       "    }\n",
       "\n",
       "    .dataframe thead th {\n",
       "        text-align: right;\n",
       "    }\n",
       "</style>\n",
       "<table border=\"1\" class=\"dataframe\">\n",
       "  <thead>\n",
       "    <tr style=\"text-align: right;\">\n",
       "      <th></th>\n",
       "      <th>id</th>\n",
       "    </tr>\n",
       "    <tr>\n",
       "      <th>base</th>\n",
       "      <th></th>\n",
       "    </tr>\n",
       "  </thead>\n",
       "  <tbody>\n",
       "    <tr>\n",
       "      <th>node</th>\n",
       "      <td>272</td>\n",
       "    </tr>\n",
       "    <tr>\n",
       "      <th>python</th>\n",
       "      <td>152</td>\n",
       "    </tr>\n",
       "    <tr>\n",
       "      <th>ruby</th>\n",
       "      <td>208</td>\n",
       "    </tr>\n",
       "  </tbody>\n",
       "</table>\n",
       "</div>"
      ],
      "text/plain": [
       "         id\n",
       "base       \n",
       "node    272\n",
       "python  152\n",
       "ruby    208"
      ]
     },
     "execution_count": 26,
     "metadata": {},
     "output_type": "execute_result"
    }
   ],
   "source": [
    "affected[['id','base']].drop_duplicates().groupby(['base']).count()"
   ]
  },
  {
   "cell_type": "code",
   "execution_count": 27,
   "metadata": {},
   "outputs": [
    {
     "data": {
      "text/html": [
       "<div>\n",
       "<style scoped>\n",
       "    .dataframe tbody tr th:only-of-type {\n",
       "        vertical-align: middle;\n",
       "    }\n",
       "\n",
       "    .dataframe tbody tr th {\n",
       "        vertical-align: top;\n",
       "    }\n",
       "\n",
       "    .dataframe thead th {\n",
       "        text-align: right;\n",
       "    }\n",
       "</style>\n",
       "<table border=\"1\" class=\"dataframe\">\n",
       "  <thead>\n",
       "    <tr style=\"text-align: right;\">\n",
       "      <th></th>\n",
       "      <th>package</th>\n",
       "      <th>version_today</th>\n",
       "    </tr>\n",
       "    <tr>\n",
       "      <th>base</th>\n",
       "      <th></th>\n",
       "      <th></th>\n",
       "    </tr>\n",
       "  </thead>\n",
       "  <tbody>\n",
       "    <tr>\n",
       "      <th>node</th>\n",
       "      <td>5.391922</td>\n",
       "      <td>5.391922</td>\n",
       "    </tr>\n",
       "    <tr>\n",
       "      <th>python</th>\n",
       "      <td>3.754621</td>\n",
       "      <td>3.754621</td>\n",
       "    </tr>\n",
       "    <tr>\n",
       "      <th>ruby</th>\n",
       "      <td>5.985764</td>\n",
       "      <td>5.985764</td>\n",
       "    </tr>\n",
       "  </tbody>\n",
       "</table>\n",
       "</div>"
      ],
      "text/plain": [
       "         package  version_today\n",
       "base                           \n",
       "node    5.391922       5.391922\n",
       "python  3.754621       3.754621\n",
       "ruby    5.985764       5.985764"
      ]
     },
     "execution_count": 27,
     "metadata": {},
     "output_type": "execute_result"
    }
   ],
   "source": [
    "(affected[['base','package','version_today']]\n",
    " .drop_duplicates()\n",
    " .groupby('base')\n",
    " .count()*100/packages[['base','package','version_today']]\n",
    " .drop_duplicates()\n",
    " .groupby('base')\n",
    " .count())"
   ]
  },
  {
   "cell_type": "code",
   "execution_count": 28,
   "metadata": {},
   "outputs": [
    {
     "data": {
      "text/html": [
       "<div>\n",
       "<style scoped>\n",
       "    .dataframe tbody tr th:only-of-type {\n",
       "        vertical-align: middle;\n",
       "    }\n",
       "\n",
       "    .dataframe tbody tr th {\n",
       "        vertical-align: top;\n",
       "    }\n",
       "\n",
       "    .dataframe thead th {\n",
       "        text-align: right;\n",
       "    }\n",
       "</style>\n",
       "<table border=\"1\" class=\"dataframe\">\n",
       "  <thead>\n",
       "    <tr style=\"text-align: right;\">\n",
       "      <th></th>\n",
       "      <th>package</th>\n",
       "    </tr>\n",
       "    <tr>\n",
       "      <th>base</th>\n",
       "      <th></th>\n",
       "    </tr>\n",
       "  </thead>\n",
       "  <tbody>\n",
       "    <tr>\n",
       "      <th>node</th>\n",
       "      <td>158</td>\n",
       "    </tr>\n",
       "    <tr>\n",
       "      <th>python</th>\n",
       "      <td>65</td>\n",
       "    </tr>\n",
       "    <tr>\n",
       "      <th>ruby</th>\n",
       "      <td>94</td>\n",
       "    </tr>\n",
       "  </tbody>\n",
       "</table>\n",
       "</div>"
      ],
      "text/plain": [
       "        package\n",
       "base           \n",
       "node        158\n",
       "python       65\n",
       "ruby         94"
      ]
     },
     "execution_count": 28,
     "metadata": {},
     "output_type": "execute_result"
    }
   ],
   "source": [
    "(affected[['base','package']]\n",
    " .drop_duplicates()\n",
    " .groupby('base')\n",
    " .count())"
   ]
  },
  {
   "cell_type": "code",
   "execution_count": 29,
   "metadata": {},
   "outputs": [
    {
     "data": {
      "text/html": [
       "<div>\n",
       "<style scoped>\n",
       "    .dataframe tbody tr th:only-of-type {\n",
       "        vertical-align: middle;\n",
       "    }\n",
       "\n",
       "    .dataframe tbody tr th {\n",
       "        vertical-align: top;\n",
       "    }\n",
       "\n",
       "    .dataframe thead th {\n",
       "        text-align: right;\n",
       "    }\n",
       "</style>\n",
       "<table border=\"1\" class=\"dataframe\">\n",
       "  <thead>\n",
       "    <tr style=\"text-align: right;\">\n",
       "      <th></th>\n",
       "      <th>image</th>\n",
       "      <th>package</th>\n",
       "      <th>base</th>\n",
       "      <th>operating</th>\n",
       "      <th>popularity</th>\n",
       "      <th>last_updated</th>\n",
       "      <th>core</th>\n",
       "      <th>version_today</th>\n",
       "      <th>id</th>\n",
       "      <th>affecting</th>\n",
       "      <th>published</th>\n",
       "      <th>disclosed</th>\n",
       "      <th>severity</th>\n",
       "      <th>vuln_name</th>\n",
       "      <th>affected</th>\n",
       "      <th>need_update</th>\n",
       "    </tr>\n",
       "  </thead>\n",
       "  <tbody>\n",
       "    <tr>\n",
       "      <th>0</th>\n",
       "      <td>centralci/alpine-node</td>\n",
       "      <td>kind-of</td>\n",
       "      <td>node</td>\n",
       "      <td>Alpine</td>\n",
       "      <td>406310</td>\n",
       "      <td>2019-10-28</td>\n",
       "      <td>False</td>\n",
       "      <td>6.0.2</td>\n",
       "      <td>SNYK-JS-KINDOF-537849</td>\n",
       "      <td>&gt;=6.0.0 &lt;6.0.3</td>\n",
       "      <td>2019-12-16</td>\n",
       "      <td>2019-12-16</td>\n",
       "      <td>low</td>\n",
       "      <td>Information Exposure</td>\n",
       "      <td>True</td>\n",
       "      <td>False</td>\n",
       "    </tr>\n",
       "    <tr>\n",
       "      <th>1</th>\n",
       "      <td>centralci/alpine-node</td>\n",
       "      <td>yargs-parser</td>\n",
       "      <td>node</td>\n",
       "      <td>Alpine</td>\n",
       "      <td>406310</td>\n",
       "      <td>2019-10-28</td>\n",
       "      <td>True</td>\n",
       "      <td>5.0.0</td>\n",
       "      <td>SNYK-JS-YARGSPARSER-560381</td>\n",
       "      <td>&lt;13.1.2||&gt;=14.0.0 &lt;15.0.1||&gt;=16.0.0 &lt;18.1.1</td>\n",
       "      <td>2020-03-16</td>\n",
       "      <td>2020-03-16</td>\n",
       "      <td>medium</td>\n",
       "      <td>Prototype Pollution</td>\n",
       "      <td>True</td>\n",
       "      <td>False</td>\n",
       "    </tr>\n",
       "    <tr>\n",
       "      <th>2</th>\n",
       "      <td>centralci/alpine-node</td>\n",
       "      <td>npm</td>\n",
       "      <td>node</td>\n",
       "      <td>Alpine</td>\n",
       "      <td>406310</td>\n",
       "      <td>2019-10-28</td>\n",
       "      <td>True</td>\n",
       "      <td>6.7.0</td>\n",
       "      <td>SNYK-JS-NPM-537606</td>\n",
       "      <td>&lt;6.13.3</td>\n",
       "      <td>2019-12-12</td>\n",
       "      <td>2019-12-11</td>\n",
       "      <td>high</td>\n",
       "      <td>Arbitrary File Write</td>\n",
       "      <td>True</td>\n",
       "      <td>True</td>\n",
       "    </tr>\n",
       "    <tr>\n",
       "      <th>3</th>\n",
       "      <td>centralci/alpine-node</td>\n",
       "      <td>npm</td>\n",
       "      <td>node</td>\n",
       "      <td>Alpine</td>\n",
       "      <td>406310</td>\n",
       "      <td>2019-10-28</td>\n",
       "      <td>True</td>\n",
       "      <td>6.7.0</td>\n",
       "      <td>SNYK-JS-NPM-537604</td>\n",
       "      <td>&lt;6.13.3</td>\n",
       "      <td>2019-12-12</td>\n",
       "      <td>2019-12-11</td>\n",
       "      <td>low</td>\n",
       "      <td>Unauthorized File Access</td>\n",
       "      <td>True</td>\n",
       "      <td>True</td>\n",
       "    </tr>\n",
       "    <tr>\n",
       "      <th>4</th>\n",
       "      <td>centralci/alpine-node</td>\n",
       "      <td>npm</td>\n",
       "      <td>node</td>\n",
       "      <td>Alpine</td>\n",
       "      <td>406310</td>\n",
       "      <td>2019-10-28</td>\n",
       "      <td>True</td>\n",
       "      <td>6.7.0</td>\n",
       "      <td>SNYK-JS-NPM-537603</td>\n",
       "      <td>&lt;6.13.4</td>\n",
       "      <td>2019-12-12</td>\n",
       "      <td>2019-12-11</td>\n",
       "      <td>high</td>\n",
       "      <td>Arbitrary File Overwrite</td>\n",
       "      <td>True</td>\n",
       "      <td>True</td>\n",
       "    </tr>\n",
       "  </tbody>\n",
       "</table>\n",
       "</div>"
      ],
      "text/plain": [
       "                   image       package  base operating  popularity  \\\n",
       "0  centralci/alpine-node       kind-of  node    Alpine      406310   \n",
       "1  centralci/alpine-node  yargs-parser  node    Alpine      406310   \n",
       "2  centralci/alpine-node           npm  node    Alpine      406310   \n",
       "3  centralci/alpine-node           npm  node    Alpine      406310   \n",
       "4  centralci/alpine-node           npm  node    Alpine      406310   \n",
       "\n",
       "  last_updated   core version_today                          id  \\\n",
       "0   2019-10-28  False         6.0.2       SNYK-JS-KINDOF-537849   \n",
       "1   2019-10-28   True         5.0.0  SNYK-JS-YARGSPARSER-560381   \n",
       "2   2019-10-28   True         6.7.0          SNYK-JS-NPM-537606   \n",
       "3   2019-10-28   True         6.7.0          SNYK-JS-NPM-537604   \n",
       "4   2019-10-28   True         6.7.0          SNYK-JS-NPM-537603   \n",
       "\n",
       "                                     affecting   published   disclosed  \\\n",
       "0                               >=6.0.0 <6.0.3  2019-12-16  2019-12-16   \n",
       "1  <13.1.2||>=14.0.0 <15.0.1||>=16.0.0 <18.1.1  2020-03-16  2020-03-16   \n",
       "2                                      <6.13.3  2019-12-12  2019-12-11   \n",
       "3                                      <6.13.3  2019-12-12  2019-12-11   \n",
       "4                                      <6.13.4  2019-12-12  2019-12-11   \n",
       "\n",
       "  severity                 vuln_name  affected  need_update  \n",
       "0      low      Information Exposure      True        False  \n",
       "1   medium       Prototype Pollution      True        False  \n",
       "2     high      Arbitrary File Write      True         True  \n",
       "3      low  Unauthorized File Access      True         True  \n",
       "4     high  Arbitrary File Overwrite      True         True  "
      ]
     },
     "execution_count": 29,
     "metadata": {},
     "output_type": "execute_result"
    }
   ],
   "source": [
    "affected.head()"
   ]
  },
  {
   "cell_type": "code",
   "execution_count": 30,
   "metadata": {},
   "outputs": [
    {
     "data": {
      "text/plain": [
       "<matplotlib.legend.Legend at 0x7f98c4e547b8>"
      ]
     },
     "execution_count": 30,
     "metadata": {},
     "output_type": "execute_result"
    },
    {
     "data": {
      "image/png": "[encoded data removed]",
      "text/plain": [
       "<Figure size 648x194.4 with 1 Axes>"
      ]
     },
     "metadata": {
      "needs_background": "light"
     },
     "output_type": "display_data"
    }
   ],
   "source": [
    "df_tmp=affected[['id','base','severity']].drop_duplicates().groupby(['severity','base']).count().reset_index()\n",
    "d = {'node':'npm','python':'PyPi','ruby':'RubyGems'}\n",
    "df_tmp['base'] = df_tmp['base'].replace(d)\n",
    "ax = sns.barplot(x=\"severity\", \n",
    "                 y=\"id\", \n",
    "                 hue=\"base\", \n",
    "                 #hue_order = ['open','resolved'],\n",
    "                 order=['low', 'medium', 'high','critical'],\n",
    "                 data=df_tmp, \n",
    "                 palette=flatui, \n",
    "                 linewidth=1)\n",
    "ax.figure.set_size_inches(9,2.7)\n",
    "ax.set_xlabel(\"severity\")\n",
    "ax.set_ylabel('\\# vulnerabilities')\n",
    "for patch in ax.patches:\n",
    "    patch.set_edgecolor('black')\n",
    "ax.set_ylim(0,121)\n",
    "plt.yticks(np.arange(0, 121, 30))\n",
    "\n",
    "ax.legend(bbox_to_anchor= (0.9, 1.26),fontsize=17, ncol=3)"
   ]
  },
  {
   "cell_type": "code",
   "execution_count": 115,
   "metadata": {},
   "outputs": [
    {
     "data": {
      "text/html": [
       "<div>\n",
       "<style scoped>\n",
       "    .dataframe tbody tr th:only-of-type {\n",
       "        vertical-align: middle;\n",
       "    }\n",
       "\n",
       "    .dataframe tbody tr th {\n",
       "        vertical-align: top;\n",
       "    }\n",
       "\n",
       "    .dataframe thead th {\n",
       "        text-align: right;\n",
       "    }\n",
       "</style>\n",
       "<table border=\"1\" class=\"dataframe\">\n",
       "  <thead>\n",
       "    <tr style=\"text-align: right;\">\n",
       "      <th></th>\n",
       "      <th>severity</th>\n",
       "      <th>base</th>\n",
       "      <th>id</th>\n",
       "    </tr>\n",
       "  </thead>\n",
       "  <tbody>\n",
       "    <tr>\n",
       "      <td>0</td>\n",
       "      <td>critical</td>\n",
       "      <td>npm</td>\n",
       "      <td>20</td>\n",
       "    </tr>\n",
       "    <tr>\n",
       "      <td>1</td>\n",
       "      <td>critical</td>\n",
       "      <td>PyPi</td>\n",
       "      <td>13</td>\n",
       "    </tr>\n",
       "    <tr>\n",
       "      <td>2</td>\n",
       "      <td>critical</td>\n",
       "      <td>RubyGems</td>\n",
       "      <td>10</td>\n",
       "    </tr>\n",
       "    <tr>\n",
       "      <td>3</td>\n",
       "      <td>high</td>\n",
       "      <td>npm</td>\n",
       "      <td>110</td>\n",
       "    </tr>\n",
       "    <tr>\n",
       "      <td>4</td>\n",
       "      <td>high</td>\n",
       "      <td>PyPi</td>\n",
       "      <td>57</td>\n",
       "    </tr>\n",
       "    <tr>\n",
       "      <td>5</td>\n",
       "      <td>high</td>\n",
       "      <td>RubyGems</td>\n",
       "      <td>78</td>\n",
       "    </tr>\n",
       "    <tr>\n",
       "      <td>6</td>\n",
       "      <td>low</td>\n",
       "      <td>npm</td>\n",
       "      <td>25</td>\n",
       "    </tr>\n",
       "    <tr>\n",
       "      <td>7</td>\n",
       "      <td>low</td>\n",
       "      <td>PyPi</td>\n",
       "      <td>8</td>\n",
       "    </tr>\n",
       "    <tr>\n",
       "      <td>8</td>\n",
       "      <td>low</td>\n",
       "      <td>RubyGems</td>\n",
       "      <td>6</td>\n",
       "    </tr>\n",
       "    <tr>\n",
       "      <td>9</td>\n",
       "      <td>medium</td>\n",
       "      <td>npm</td>\n",
       "      <td>117</td>\n",
       "    </tr>\n",
       "    <tr>\n",
       "      <td>10</td>\n",
       "      <td>medium</td>\n",
       "      <td>PyPi</td>\n",
       "      <td>74</td>\n",
       "    </tr>\n",
       "    <tr>\n",
       "      <td>11</td>\n",
       "      <td>medium</td>\n",
       "      <td>RubyGems</td>\n",
       "      <td>114</td>\n",
       "    </tr>\n",
       "  </tbody>\n",
       "</table>\n",
       "</div>"
      ],
      "text/plain": [
       "    severity      base   id\n",
       "0   critical       npm   20\n",
       "1   critical      PyPi   13\n",
       "2   critical  RubyGems   10\n",
       "3       high       npm  110\n",
       "4       high      PyPi   57\n",
       "5       high  RubyGems   78\n",
       "6        low       npm   25\n",
       "7        low      PyPi    8\n",
       "8        low  RubyGems    6\n",
       "9     medium       npm  117\n",
       "10    medium      PyPi   74\n",
       "11    medium  RubyGems  114"
      ]
     },
     "execution_count": 115,
     "metadata": {},
     "output_type": "execute_result"
    }
   ],
   "source": [
    "df_tmp"
   ]
  },
  {
   "cell_type": "code",
   "execution_count": 31,
   "metadata": {},
   "outputs": [],
   "source": [
    "tmp = (df_tmp\n",
    "       .reset_index()\n",
    " .pivot_table(index=['base'], columns='severity', values='id')\n",
    " .reset_index()\n",
    " .set_index('base')\n",
    ")\n",
    "tmp = tmp [['low','medium','high','critical']]\n",
    "tmp= tmp.reset_index().sort_values('low', ascending=False).set_index('base')"
   ]
  },
  {
   "cell_type": "code",
   "execution_count": 32,
   "metadata": {},
   "outputs": [
    {
     "name": "stderr",
     "output_type": "stream",
     "text": [
      "/usr/local/lib/python3.6/dist-packages/ipykernel_launcher.py:9: FutureWarning: The pandas.np module is deprecated and will be removed from pandas in a future version. Import numpy directly instead\n",
      "  if __name__ == '__main__':\n"
     ]
    },
    {
     "data": {
      "text/plain": [
       "(array([0, 1, 2]),\n",
       " [Text(0, 0, 'npm'), Text(1, 0, 'PyPi'), Text(2, 0, 'RubyGems')])"
      ]
     },
     "execution_count": 32,
     "metadata": {},
     "output_type": "execute_result"
    },
    {
     "data": {
      "image/png": "[encoded data removed]",
      "text/plain": [
       "<Figure size 648x216 with 1 Axes>"
      ]
     },
     "metadata": {
      "needs_background": "light"
     },
     "output_type": "display_data"
    }
   ],
   "source": [
    "#Which packages are more vulnerable\n",
    "\n",
    "ax = tmp.plot.bar(stacked=True,  color = [colors[r] for r in ['up-to-date','patch','minor','major']],)\n",
    "ax.set(\n",
    "    xlabel='',\n",
    "    ylabel = '\\# vulnerabilities',\n",
    "    ylim=(0,301)\n",
    ")\n",
    "plt.yticks(pd.np.arange(0, 301, 50)) \n",
    "ax.legend(loc ='upper center', ncol=2)\n",
    "ax.figure.set_size_inches(9,3)\n",
    "plt.xticks(rotation=0)"
   ]
  },
  {
   "cell_type": "markdown",
   "metadata": {},
   "source": [
    "## Popularity"
   ]
  },
  {
   "cell_type": "code",
   "execution_count": 86,
   "metadata": {},
   "outputs": [],
   "source": [
    "all_candidates = pd.read_csv('../data/all_thirdParty_images.csv')\n",
    "pop = pd.read_csv('../data/community_images.csv')"
   ]
  },
  {
   "cell_type": "code",
   "execution_count": 88,
   "metadata": {},
   "outputs": [
    {
     "data": {
      "text/html": [
       "<div>\n",
       "<style scoped>\n",
       "    .dataframe tbody tr th:only-of-type {\n",
       "        vertical-align: middle;\n",
       "    }\n",
       "\n",
       "    .dataframe tbody tr th {\n",
       "        vertical-align: top;\n",
       "    }\n",
       "\n",
       "    .dataframe thead th {\n",
       "        text-align: right;\n",
       "    }\n",
       "</style>\n",
       "<table border=\"1\" class=\"dataframe\">\n",
       "  <thead>\n",
       "    <tr style=\"text-align: right;\">\n",
       "      <th></th>\n",
       "      <th>image</th>\n",
       "      <th>base</th>\n",
       "    </tr>\n",
       "  </thead>\n",
       "  <tbody>\n",
       "    <tr>\n",
       "      <td>63826</td>\n",
       "      <td>albinos:docker-pypi_server:latest</td>\n",
       "      <td>python</td>\n",
       "    </tr>\n",
       "  </tbody>\n",
       "</table>\n",
       "</div>"
      ],
      "text/plain": [
       "                                   image    base\n",
       "63826  albinos:docker-pypi_server:latest  python"
      ]
     },
     "execution_count": 88,
     "metadata": {},
     "output_type": "execute_result"
    }
   ],
   "source": [
    "all_candidates.sample()"
   ]
  },
  {
   "cell_type": "code",
   "execution_count": 93,
   "metadata": {},
   "outputs": [
    {
     "data": {
      "text/plain": [
       "86248"
      ]
     },
     "execution_count": 93,
     "metadata": {},
     "output_type": "execute_result"
    }
   ],
   "source": [
    "len(all_candidates)"
   ]
  },
  {
   "cell_type": "code",
   "execution_count": 89,
   "metadata": {},
   "outputs": [
    {
     "data": {
      "text/html": [
       "<div>\n",
       "<style scoped>\n",
       "    .dataframe tbody tr th:only-of-type {\n",
       "        vertical-align: middle;\n",
       "    }\n",
       "\n",
       "    .dataframe tbody tr th {\n",
       "        vertical-align: top;\n",
       "    }\n",
       "\n",
       "    .dataframe thead th {\n",
       "        text-align: right;\n",
       "    }\n",
       "</style>\n",
       "<table border=\"1\" class=\"dataframe\">\n",
       "  <thead>\n",
       "    <tr style=\"text-align: right;\">\n",
       "      <th></th>\n",
       "      <th>slug</th>\n",
       "      <th>popularity</th>\n",
       "    </tr>\n",
       "  </thead>\n",
       "  <tbody>\n",
       "    <tr>\n",
       "      <td>552477</td>\n",
       "      <td>dougr/sinatra</td>\n",
       "      <td>94</td>\n",
       "    </tr>\n",
       "  </tbody>\n",
       "</table>\n",
       "</div>"
      ],
      "text/plain": [
       "                 slug  popularity\n",
       "552477  dougr/sinatra          94"
      ]
     },
     "execution_count": 89,
     "metadata": {},
     "output_type": "execute_result"
    }
   ],
   "source": [
    "pop.sample()"
   ]
  },
  {
   "cell_type": "code",
   "execution_count": 91,
   "metadata": {},
   "outputs": [],
   "source": [
    "all_candidates['slug'] = all_candidates['image'].apply(lambda x: x.split(':')[0]+'/'+x.split(':')[1])"
   ]
  },
  {
   "cell_type": "code",
   "execution_count": 94,
   "metadata": {},
   "outputs": [],
   "source": [
    "all_candidates = (all_candidates\n",
    "                  .merge(pop,\n",
    "                         on ='slug',\n",
    "                         how = 'left'\n",
    "                        )\n",
    "                 )"
   ]
  },
  {
   "cell_type": "code",
   "execution_count": 103,
   "metadata": {},
   "outputs": [
    {
     "data": {
      "text/plain": [
       "base\n",
       "node      0.856939\n",
       "python    0.960029\n",
       "ruby      0.929066\n",
       "Name: popularity, dtype: float64"
      ]
     },
     "execution_count": 103,
     "metadata": {},
     "output_type": "execute_result"
    }
   ],
   "source": [
    "packages[['image','popularity','base']].drop_duplicates().groupby('base').popularity.sum()/all_candidates.groupby('base').popularity.sum()"
   ]
  },
  {
   "cell_type": "code",
   "execution_count": 102,
   "metadata": {},
   "outputs": [
    {
     "data": {
      "text/plain": [
       "base\n",
       "node      442029640\n",
       "python    340401087\n",
       "ruby       94308924\n",
       "Name: popularity, dtype: int64"
      ]
     },
     "execution_count": 102,
     "metadata": {},
     "output_type": "execute_result"
    }
   ],
   "source": []
  },
  {
   "cell_type": "code",
   "execution_count": 100,
   "metadata": {},
   "outputs": [
    {
     "data": {
      "text/plain": [
       "0.9020819817398898"
      ]
     },
     "execution_count": 100,
     "metadata": {},
     "output_type": "execute_result"
    }
   ],
   "source": [
    "876739651/971906843"
   ]
  }
 ],
 "metadata": {
  "kernelspec": {
   "display_name": "Python 3",
   "language": "python",
   "name": "python3"
  },
  "language_info": {
   "codemirror_mode": {
    "name": "ipython",
    "version": 3
   },
   "file_extension": ".py",
   "mimetype": "text/x-python",
   "name": "python",
   "nbconvert_exporter": "python",
   "pygments_lexer": "ipython3",
   "version": "3.6.9"
  }
 },
 "nbformat": 4,
 "nbformat_minor": 2
}
