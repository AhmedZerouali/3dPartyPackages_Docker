{
 "cells": [
  {
   "cell_type": "code",
   "execution_count": 2,
   "metadata": {},
   "outputs": [],
   "source": [
    "%matplotlib inline\n",
    "from imports import *\n",
    "font = {'family' : 'Times New Roman',\n",
    "        'weight' : 'bold',\n",
    "        'size'   : 16}\n",
    "plt.rc('font', **font)\n",
    "order = ['node','Python','Ruby']\n",
    "d = {'python':'Python','ruby':'Ruby'}\n",
    "import effect_size\n",
    "from tqdm.notebook import tqdm\n",
    "hue_order = ['low','medium','high','critical']"
   ]
  },
  {
   "cell_type": "markdown",
   "metadata": {},
   "source": [
    "## Load data and filter on which images to analyze"
   ]
  },
  {
   "cell_type": "code",
   "execution_count": 3,
   "metadata": {},
   "outputs": [],
   "source": [
    "candidates_3000 = pd.read_csv('../data/considered_3000_images.csv')"
   ]
  },
  {
   "cell_type": "code",
   "execution_count": 4,
   "metadata": {},
   "outputs": [
    {
     "data": {
      "text/plain": [
       "(42504, 16)"
      ]
     },
     "execution_count": 4,
     "metadata": {},
     "output_type": "execute_result"
    }
   ],
   "source": [
    "affected = pd.read_csv('../data/vulnerable_packages_release.csv') \n",
    "# Please ask permission from Snyk to have this dataset \n",
    "affected.package.fillna('nan', inplace=True)\n",
    "affected['last_updated'] = pd.to_datetime(affected['last_updated'])\n",
    "affected['disclosed'] = pd.to_datetime(affected['disclosed'])\n",
    "affected['base'] = affected['base'].replace(d)\n",
    "mask  = affected.image.isin(candidates_3000.image)\n",
    "affected = affected[mask]\n",
    "affected.drop_duplicates(inplace=True)\n",
    "\n",
    "affected.shape"
   ]
  },
  {
   "cell_type": "code",
   "execution_count": 5,
   "metadata": {},
   "outputs": [
    {
     "data": {
      "text/plain": [
       "2814"
      ]
     },
     "execution_count": 5,
     "metadata": {},
     "output_type": "execute_result"
    }
   ],
   "source": [
    "affected.image.unique().size"
   ]
  },
  {
   "cell_type": "code",
   "execution_count": 6,
   "metadata": {},
   "outputs": [],
   "source": [
    "# only added packages \n",
    "added_packages = affected.query('core == False')"
   ]
  },
  {
   "cell_type": "markdown",
   "metadata": {},
   "source": [
    "## Let's compare disclosure date with the last_update date"
   ]
  },
  {
   "cell_type": "code",
   "execution_count": 7,
   "metadata": {},
   "outputs": [
    {
     "data": {
      "text/plain": [
       "14260"
      ]
     },
     "execution_count": 7,
     "metadata": {},
     "output_type": "execute_result"
    }
   ],
   "source": [
    "affected = affected.query('last_updated>=disclosed')\n",
    "len(affected)"
   ]
  },
  {
   "cell_type": "markdown",
   "metadata": {},
   "source": [
    "#### basic description"
   ]
  },
  {
   "cell_type": "code",
   "execution_count": 8,
   "metadata": {},
   "outputs": [
    {
     "data": {
      "text/plain": [
       "441"
      ]
     },
     "execution_count": 8,
     "metadata": {},
     "output_type": "execute_result"
    }
   ],
   "source": [
    "affected.id.unique().size"
   ]
  },
  {
   "cell_type": "code",
   "execution_count": 9,
   "metadata": {},
   "outputs": [
    {
     "data": {
      "text/html": [
       "<div>\n",
       "<style scoped>\n",
       "    .dataframe tbody tr th:only-of-type {\n",
       "        vertical-align: middle;\n",
       "    }\n",
       "\n",
       "    .dataframe tbody tr th {\n",
       "        vertical-align: top;\n",
       "    }\n",
       "\n",
       "    .dataframe thead th {\n",
       "        text-align: right;\n",
       "    }\n",
       "</style>\n",
       "<table border=\"1\" class=\"dataframe\">\n",
       "  <thead>\n",
       "    <tr style=\"text-align: right;\">\n",
       "      <th></th>\n",
       "      <th>id</th>\n",
       "    </tr>\n",
       "    <tr>\n",
       "      <th>base</th>\n",
       "      <th></th>\n",
       "    </tr>\n",
       "  </thead>\n",
       "  <tbody>\n",
       "    <tr>\n",
       "      <th>Python</th>\n",
       "      <td>95</td>\n",
       "    </tr>\n",
       "    <tr>\n",
       "      <th>Ruby</th>\n",
       "      <td>181</td>\n",
       "    </tr>\n",
       "    <tr>\n",
       "      <th>node</th>\n",
       "      <td>165</td>\n",
       "    </tr>\n",
       "  </tbody>\n",
       "</table>\n",
       "</div>"
      ],
      "text/plain": [
       "         id\n",
       "base       \n",
       "Python   95\n",
       "Ruby    181\n",
       "node    165"
      ]
     },
     "execution_count": 9,
     "metadata": {},
     "output_type": "execute_result"
    }
   ],
   "source": [
    "affected[['id','base']].drop_duplicates().groupby('base').count()[['id']]"
   ]
  },
  {
   "cell_type": "code",
   "execution_count": 10,
   "metadata": {},
   "outputs": [
    {
     "data": {
      "text/html": [
       "<div>\n",
       "<style scoped>\n",
       "    .dataframe tbody tr th:only-of-type {\n",
       "        vertical-align: middle;\n",
       "    }\n",
       "\n",
       "    .dataframe tbody tr th {\n",
       "        vertical-align: top;\n",
       "    }\n",
       "\n",
       "    .dataframe thead th {\n",
       "        text-align: right;\n",
       "    }\n",
       "</style>\n",
       "<table border=\"1\" class=\"dataframe\">\n",
       "  <thead>\n",
       "    <tr style=\"text-align: right;\">\n",
       "      <th></th>\n",
       "      <th>id</th>\n",
       "    </tr>\n",
       "    <tr>\n",
       "      <th>severity</th>\n",
       "      <th></th>\n",
       "    </tr>\n",
       "  </thead>\n",
       "  <tbody>\n",
       "    <tr>\n",
       "      <th>critical</th>\n",
       "      <td>29</td>\n",
       "    </tr>\n",
       "    <tr>\n",
       "      <th>high</th>\n",
       "      <td>166</td>\n",
       "    </tr>\n",
       "    <tr>\n",
       "      <th>low</th>\n",
       "      <td>30</td>\n",
       "    </tr>\n",
       "    <tr>\n",
       "      <th>medium</th>\n",
       "      <td>216</td>\n",
       "    </tr>\n",
       "  </tbody>\n",
       "</table>\n",
       "</div>"
      ],
      "text/plain": [
       "           id\n",
       "severity     \n",
       "critical   29\n",
       "high      166\n",
       "low        30\n",
       "medium    216"
      ]
     },
     "execution_count": 10,
     "metadata": {},
     "output_type": "execute_result"
    }
   ],
   "source": [
    "affected[['id','severity']].drop_duplicates().groupby(['severity']).count()[['id']]"
   ]
  },
  {
   "cell_type": "code",
   "execution_count": 11,
   "metadata": {},
   "outputs": [
    {
     "data": {
      "text/plain": [
       "245"
      ]
     },
     "execution_count": 11,
     "metadata": {},
     "output_type": "execute_result"
    }
   ],
   "source": [
    "len(affected[['base','package']].drop_duplicates())"
   ]
  },
  {
   "cell_type": "code",
   "execution_count": 12,
   "metadata": {},
   "outputs": [
    {
     "data": {
      "text/plain": [
       "789"
      ]
     },
     "execution_count": 12,
     "metadata": {},
     "output_type": "execute_result"
    }
   ],
   "source": [
    "len(affected[['base','package','version_release']].drop_duplicates())"
   ]
  },
  {
   "cell_type": "code",
   "execution_count": 13,
   "metadata": {},
   "outputs": [
    {
     "data": {
      "text/html": [
       "<div>\n",
       "<style scoped>\n",
       "    .dataframe tbody tr th:only-of-type {\n",
       "        vertical-align: middle;\n",
       "    }\n",
       "\n",
       "    .dataframe tbody tr th {\n",
       "        vertical-align: top;\n",
       "    }\n",
       "\n",
       "    .dataframe thead th {\n",
       "        text-align: right;\n",
       "    }\n",
       "</style>\n",
       "<table border=\"1\" class=\"dataframe\">\n",
       "  <thead>\n",
       "    <tr style=\"text-align: right;\">\n",
       "      <th></th>\n",
       "      <th>package</th>\n",
       "    </tr>\n",
       "    <tr>\n",
       "      <th>base</th>\n",
       "      <th></th>\n",
       "    </tr>\n",
       "  </thead>\n",
       "  <tbody>\n",
       "    <tr>\n",
       "      <th>Python</th>\n",
       "      <td>49</td>\n",
       "    </tr>\n",
       "    <tr>\n",
       "      <th>Ruby</th>\n",
       "      <td>85</td>\n",
       "    </tr>\n",
       "    <tr>\n",
       "      <th>node</th>\n",
       "      <td>111</td>\n",
       "    </tr>\n",
       "  </tbody>\n",
       "</table>\n",
       "</div>"
      ],
      "text/plain": [
       "        package\n",
       "base           \n",
       "Python       49\n",
       "Ruby         85\n",
       "node        111"
      ]
     },
     "execution_count": 13,
     "metadata": {},
     "output_type": "execute_result"
    }
   ],
   "source": [
    "affected[['base','package']].drop_duplicates().groupby('base').count()[['package']]"
   ]
  },
  {
   "cell_type": "code",
   "execution_count": 14,
   "metadata": {},
   "outputs": [
    {
     "data": {
      "text/plain": [
       "2219"
      ]
     },
     "execution_count": 14,
     "metadata": {},
     "output_type": "execute_result"
    }
   ],
   "source": [
    "affected.image.unique().size"
   ]
  },
  {
   "cell_type": "code",
   "execution_count": 15,
   "metadata": {},
   "outputs": [
    {
     "data": {
      "text/html": [
       "<div>\n",
       "<style scoped>\n",
       "    .dataframe tbody tr th:only-of-type {\n",
       "        vertical-align: middle;\n",
       "    }\n",
       "\n",
       "    .dataframe tbody tr th {\n",
       "        vertical-align: top;\n",
       "    }\n",
       "\n",
       "    .dataframe thead th {\n",
       "        text-align: right;\n",
       "    }\n",
       "</style>\n",
       "<table border=\"1\" class=\"dataframe\">\n",
       "  <thead>\n",
       "    <tr style=\"text-align: right;\">\n",
       "      <th></th>\n",
       "      <th>image</th>\n",
       "    </tr>\n",
       "    <tr>\n",
       "      <th>base</th>\n",
       "      <th></th>\n",
       "    </tr>\n",
       "  </thead>\n",
       "  <tbody>\n",
       "    <tr>\n",
       "      <th>Python</th>\n",
       "      <td>12.167643</td>\n",
       "    </tr>\n",
       "    <tr>\n",
       "      <th>Ruby</th>\n",
       "      <td>45.020279</td>\n",
       "    </tr>\n",
       "    <tr>\n",
       "      <th>node</th>\n",
       "      <td>42.812078</td>\n",
       "    </tr>\n",
       "  </tbody>\n",
       "</table>\n",
       "</div>"
      ],
      "text/plain": [
       "            image\n",
       "base             \n",
       "Python  12.167643\n",
       "Ruby    45.020279\n",
       "node    42.812078"
      ]
     },
     "execution_count": 15,
     "metadata": {},
     "output_type": "execute_result"
    }
   ],
   "source": [
    "affected[['image','base']].drop_duplicates().groupby('base').count()[['image']]*100/2219"
   ]
  },
  {
   "cell_type": "code",
   "execution_count": 16,
   "metadata": {},
   "outputs": [
    {
     "data": {
      "text/plain": [
       "103"
      ]
     },
     "execution_count": 16,
     "metadata": {},
     "output_type": "execute_result"
    }
   ],
   "source": [
    "# Types of vulnerabilities affecting Docker images\n",
    "affected.vuln_name.unique().size"
   ]
  },
  {
   "cell_type": "code",
   "execution_count": 17,
   "metadata": {},
   "outputs": [
    {
     "data": {
      "text/html": [
       "<div>\n",
       "<style scoped>\n",
       "    .dataframe tbody tr th:only-of-type {\n",
       "        vertical-align: middle;\n",
       "    }\n",
       "\n",
       "    .dataframe tbody tr th {\n",
       "        vertical-align: top;\n",
       "    }\n",
       "\n",
       "    .dataframe thead th {\n",
       "        text-align: right;\n",
       "    }\n",
       "</style>\n",
       "<table border=\"1\" class=\"dataframe\">\n",
       "  <thead>\n",
       "    <tr style=\"text-align: right;\">\n",
       "      <th></th>\n",
       "      <th>base</th>\n",
       "      <th>vuln_name</th>\n",
       "      <th>image</th>\n",
       "    </tr>\n",
       "  </thead>\n",
       "  <tbody>\n",
       "    <tr>\n",
       "      <th>0</th>\n",
       "      <td>Python</td>\n",
       "      <td>Access Control Bypass</td>\n",
       "      <td>1</td>\n",
       "    </tr>\n",
       "    <tr>\n",
       "      <th>1</th>\n",
       "      <td>Python</td>\n",
       "      <td>Access Restriction Bypass</td>\n",
       "      <td>1</td>\n",
       "    </tr>\n",
       "    <tr>\n",
       "      <th>2</th>\n",
       "      <td>Python</td>\n",
       "      <td>Arbitrary Code Execution</td>\n",
       "      <td>52</td>\n",
       "    </tr>\n",
       "    <tr>\n",
       "      <th>3</th>\n",
       "      <td>Python</td>\n",
       "      <td>Arbitrary Code Injection</td>\n",
       "      <td>1</td>\n",
       "    </tr>\n",
       "    <tr>\n",
       "      <th>4</th>\n",
       "      <td>Python</td>\n",
       "      <td>Arbitrary Command Execution</td>\n",
       "      <td>2</td>\n",
       "    </tr>\n",
       "    <tr>\n",
       "      <th>...</th>\n",
       "      <td>...</td>\n",
       "      <td>...</td>\n",
       "      <td>...</td>\n",
       "    </tr>\n",
       "    <tr>\n",
       "      <th>134</th>\n",
       "      <td>node</td>\n",
       "      <td>Uninitialized Memory Exposure</td>\n",
       "      <td>380</td>\n",
       "    </tr>\n",
       "    <tr>\n",
       "      <th>135</th>\n",
       "      <td>node</td>\n",
       "      <td>Unsigned Request Headers</td>\n",
       "      <td>1</td>\n",
       "    </tr>\n",
       "    <tr>\n",
       "      <th>136</th>\n",
       "      <td>node</td>\n",
       "      <td>Use After Free</td>\n",
       "      <td>1</td>\n",
       "    </tr>\n",
       "    <tr>\n",
       "      <th>137</th>\n",
       "      <td>node</td>\n",
       "      <td>VBScript Content Injection</td>\n",
       "      <td>1</td>\n",
       "    </tr>\n",
       "    <tr>\n",
       "      <th>138</th>\n",
       "      <td>node</td>\n",
       "      <td>npm Token Leak</td>\n",
       "      <td>1</td>\n",
       "    </tr>\n",
       "  </tbody>\n",
       "</table>\n",
       "<p>139 rows × 3 columns</p>\n",
       "</div>"
      ],
      "text/plain": [
       "       base                      vuln_name  image\n",
       "0    Python          Access Control Bypass      1\n",
       "1    Python      Access Restriction Bypass      1\n",
       "2    Python       Arbitrary Code Execution     52\n",
       "3    Python       Arbitrary Code Injection      1\n",
       "4    Python    Arbitrary Command Execution      2\n",
       "..      ...                            ...    ...\n",
       "134    node  Uninitialized Memory Exposure    380\n",
       "135    node       Unsigned Request Headers      1\n",
       "136    node                 Use After Free      1\n",
       "137    node     VBScript Content Injection      1\n",
       "138    node                 npm Token Leak      1\n",
       "\n",
       "[139 rows x 3 columns]"
      ]
     },
     "execution_count": 17,
     "metadata": {},
     "output_type": "execute_result"
    }
   ],
   "source": [
    "tmp = (affected[['image','base','vuln_name']]\n",
    " .drop_duplicates()\n",
    " .groupby(['base','vuln_name'])\n",
    " .count()\n",
    " .reset_index()\n",
    ")\n",
    "tmp"
   ]
  },
  {
   "cell_type": "code",
   "execution_count": 33,
   "metadata": {},
   "outputs": [
    {
     "data": {
      "text/html": [
       "<div>\n",
       "<style scoped>\n",
       "    .dataframe tbody tr th:only-of-type {\n",
       "        vertical-align: middle;\n",
       "    }\n",
       "\n",
       "    .dataframe tbody tr th {\n",
       "        vertical-align: top;\n",
       "    }\n",
       "\n",
       "    .dataframe thead th {\n",
       "        text-align: right;\n",
       "    }\n",
       "</style>\n",
       "<table border=\"1\" class=\"dataframe\">\n",
       "  <thead>\n",
       "    <tr style=\"text-align: right;\">\n",
       "      <th></th>\n",
       "      <th>base</th>\n",
       "      <th>vuln_name</th>\n",
       "      <th>image</th>\n",
       "    </tr>\n",
       "  </thead>\n",
       "  <tbody>\n",
       "    <tr>\n",
       "      <th>0</th>\n",
       "      <td>Ruby</td>\n",
       "      <td>Arbitrary Code Execution</td>\n",
       "      <td>993</td>\n",
       "    </tr>\n",
       "    <tr>\n",
       "      <th>1</th>\n",
       "      <td>node</td>\n",
       "      <td>Denial of Service (DoS)</td>\n",
       "      <td>647</td>\n",
       "    </tr>\n",
       "    <tr>\n",
       "      <th>2</th>\n",
       "      <td>node</td>\n",
       "      <td>Regular Expression Denial of Service (ReDoS)</td>\n",
       "      <td>542</td>\n",
       "    </tr>\n",
       "    <tr>\n",
       "      <th>3</th>\n",
       "      <td>node</td>\n",
       "      <td>Time of Check Time of Use (TOCTOU)</td>\n",
       "      <td>403</td>\n",
       "    </tr>\n",
       "    <tr>\n",
       "      <th>4</th>\n",
       "      <td>Ruby</td>\n",
       "      <td>Cross-site Scripting (XSS)</td>\n",
       "      <td>392</td>\n",
       "    </tr>\n",
       "    <tr>\n",
       "      <th>5</th>\n",
       "      <td>node</td>\n",
       "      <td>Uninitialized Memory Exposure</td>\n",
       "      <td>380</td>\n",
       "    </tr>\n",
       "    <tr>\n",
       "      <th>6</th>\n",
       "      <td>Ruby</td>\n",
       "      <td>Arbitrary Command Execution</td>\n",
       "      <td>352</td>\n",
       "    </tr>\n",
       "    <tr>\n",
       "      <th>7</th>\n",
       "      <td>Ruby</td>\n",
       "      <td>Directory Hijacking</td>\n",
       "      <td>352</td>\n",
       "    </tr>\n",
       "    <tr>\n",
       "      <th>8</th>\n",
       "      <td>Python</td>\n",
       "      <td>Information Exposure</td>\n",
       "      <td>77</td>\n",
       "    </tr>\n",
       "    <tr>\n",
       "      <th>9</th>\n",
       "      <td>Python</td>\n",
       "      <td>Arbitrary Code Execution</td>\n",
       "      <td>52</td>\n",
       "    </tr>\n",
       "    <tr>\n",
       "      <th>10</th>\n",
       "      <td>Python</td>\n",
       "      <td>Denial of Service (DoS)</td>\n",
       "      <td>48</td>\n",
       "    </tr>\n",
       "    <tr>\n",
       "      <th>11</th>\n",
       "      <td>Python</td>\n",
       "      <td>Cross-site Scripting (XSS)</td>\n",
       "      <td>41</td>\n",
       "    </tr>\n",
       "  </tbody>\n",
       "</table>\n",
       "</div>"
      ],
      "text/plain": [
       "      base                                     vuln_name  image\n",
       "0     Ruby                      Arbitrary Code Execution    993\n",
       "1     node                       Denial of Service (DoS)    647\n",
       "2     node  Regular Expression Denial of Service (ReDoS)    542\n",
       "3     node            Time of Check Time of Use (TOCTOU)    403\n",
       "4     Ruby                    Cross-site Scripting (XSS)    392\n",
       "5     node                 Uninitialized Memory Exposure    380\n",
       "6     Ruby                   Arbitrary Command Execution    352\n",
       "7     Ruby                           Directory Hijacking    352\n",
       "8   Python                          Information Exposure     77\n",
       "9   Python                      Arbitrary Code Execution     52\n",
       "10  Python                       Denial of Service (DoS)     48\n",
       "11  Python                    Cross-site Scripting (XSS)     41"
      ]
     },
     "execution_count": 33,
     "metadata": {},
     "output_type": "execute_result"
    }
   ],
   "source": [
    "# How many images suffering from which packages\n",
    "tmp = (affected[['image','base','vuln_name']]\n",
    " .drop_duplicates()\n",
    " .groupby(['base','vuln_name'])\n",
    " .count()\n",
    " .sort_values('image', ascending=False)\n",
    " .groupby(['base'])\n",
    " .head(4)\n",
    ".reset_index()\n",
    ")\n",
    "tmp"
   ]
  },
  {
   "cell_type": "code",
   "execution_count": 32,
   "metadata": {},
   "outputs": [
    {
     "data": {
      "text/html": [
       "<div>\n",
       "<style scoped>\n",
       "    .dataframe tbody tr th:only-of-type {\n",
       "        vertical-align: middle;\n",
       "    }\n",
       "\n",
       "    .dataframe tbody tr th {\n",
       "        vertical-align: top;\n",
       "    }\n",
       "\n",
       "    .dataframe thead th {\n",
       "        text-align: right;\n",
       "    }\n",
       "</style>\n",
       "<table border=\"1\" class=\"dataframe\">\n",
       "  <thead>\n",
       "    <tr style=\"text-align: right;\">\n",
       "      <th></th>\n",
       "      <th></th>\n",
       "      <th>package</th>\n",
       "    </tr>\n",
       "    <tr>\n",
       "      <th>base</th>\n",
       "      <th>vuln_name</th>\n",
       "      <th></th>\n",
       "    </tr>\n",
       "  </thead>\n",
       "  <tbody>\n",
       "    <tr>\n",
       "      <th>node</th>\n",
       "      <th>Regular Expression Denial of Service (ReDoS)</th>\n",
       "      <td>38</td>\n",
       "    </tr>\n",
       "    <tr>\n",
       "      <th>Ruby</th>\n",
       "      <th>Cross-site Scripting (XSS)</th>\n",
       "      <td>23</td>\n",
       "    </tr>\n",
       "    <tr>\n",
       "      <th>node</th>\n",
       "      <th>Denial of Service (DoS)</th>\n",
       "      <td>11</td>\n",
       "    </tr>\n",
       "    <tr>\n",
       "      <th rowspan=\"2\" valign=\"top\">Ruby</th>\n",
       "      <th>Denial of Service (DoS)</th>\n",
       "      <td>11</td>\n",
       "    </tr>\n",
       "    <tr>\n",
       "      <th>Information Exposure</th>\n",
       "      <td>9</td>\n",
       "    </tr>\n",
       "    <tr>\n",
       "      <th>node</th>\n",
       "      <th>Cross-site Scripting (XSS)</th>\n",
       "      <td>9</td>\n",
       "    </tr>\n",
       "    <tr>\n",
       "      <th rowspan=\"4\" valign=\"top\">Python</th>\n",
       "      <th>Cross-site Scripting (XSS)</th>\n",
       "      <td>8</td>\n",
       "    </tr>\n",
       "    <tr>\n",
       "      <th>Denial of Service (DoS)</th>\n",
       "      <td>8</td>\n",
       "    </tr>\n",
       "    <tr>\n",
       "      <th>Information Exposure</th>\n",
       "      <td>8</td>\n",
       "    </tr>\n",
       "    <tr>\n",
       "      <th>Arbitrary Code Execution</th>\n",
       "      <td>7</td>\n",
       "    </tr>\n",
       "    <tr>\n",
       "      <th>Ruby</th>\n",
       "      <th>Arbitrary Code Execution</th>\n",
       "      <td>5</td>\n",
       "    </tr>\n",
       "    <tr>\n",
       "      <th>node</th>\n",
       "      <th>Arbitrary Code Execution</th>\n",
       "      <td>3</td>\n",
       "    </tr>\n",
       "    <tr>\n",
       "      <th>Ruby</th>\n",
       "      <th>Regular Expression Denial of Service (ReDoS)</th>\n",
       "      <td>2</td>\n",
       "    </tr>\n",
       "    <tr>\n",
       "      <th>node</th>\n",
       "      <th>Information Exposure</th>\n",
       "      <td>2</td>\n",
       "    </tr>\n",
       "    <tr>\n",
       "      <th>Ruby</th>\n",
       "      <th>Time of Check Time of Use (TOCTOU)</th>\n",
       "      <td>1</td>\n",
       "    </tr>\n",
       "    <tr>\n",
       "      <th>Python</th>\n",
       "      <th>Arbitrary Command Execution</th>\n",
       "      <td>1</td>\n",
       "    </tr>\n",
       "    <tr>\n",
       "      <th>Ruby</th>\n",
       "      <th>Arbitrary Command Execution</th>\n",
       "      <td>1</td>\n",
       "    </tr>\n",
       "    <tr>\n",
       "      <th>node</th>\n",
       "      <th>Time of Check Time of Use (TOCTOU)</th>\n",
       "      <td>1</td>\n",
       "    </tr>\n",
       "  </tbody>\n",
       "</table>\n",
       "</div>"
      ],
      "text/plain": [
       "                                                     package\n",
       "base   vuln_name                                            \n",
       "node   Regular Expression Denial of Service (ReDoS)       38\n",
       "Ruby   Cross-site Scripting (XSS)                         23\n",
       "node   Denial of Service (DoS)                            11\n",
       "Ruby   Denial of Service (DoS)                            11\n",
       "       Information Exposure                                9\n",
       "node   Cross-site Scripting (XSS)                          9\n",
       "Python Cross-site Scripting (XSS)                          8\n",
       "       Denial of Service (DoS)                             8\n",
       "       Information Exposure                                8\n",
       "       Arbitrary Code Execution                            7\n",
       "Ruby   Arbitrary Code Execution                            5\n",
       "node   Arbitrary Code Execution                            3\n",
       "Ruby   Regular Expression Denial of Service (ReDoS)        2\n",
       "node   Information Exposure                                2\n",
       "Ruby   Time of Check Time of Use (TOCTOU)                  1\n",
       "Python Arbitrary Command Execution                         1\n",
       "Ruby   Arbitrary Command Execution                         1\n",
       "node   Time of Check Time of Use (TOCTOU)                  1"
      ]
     },
     "execution_count": 32,
     "metadata": {},
     "output_type": "execute_result"
    }
   ],
   "source": [
    "# How many images suffering from which packages\n",
    "(affected[affected.vuln_name.isin(tmp.vuln_name)]\n",
    " [['package','base','vuln_name']]\n",
    " .drop_duplicates()\n",
    " .groupby(['base','vuln_name'])\n",
    " .count()\n",
    " .sort_values('package', ascending=False)\n",
    " .groupby(['base'])\n",
    " .head(10)\n",
    ")"
   ]
  },
  {
   "cell_type": "code",
   "execution_count": 39,
   "metadata": {},
   "outputs": [
    {
     "data": {
      "text/html": [
       "<div>\n",
       "<style scoped>\n",
       "    .dataframe tbody tr th:only-of-type {\n",
       "        vertical-align: middle;\n",
       "    }\n",
       "\n",
       "    .dataframe tbody tr th {\n",
       "        vertical-align: top;\n",
       "    }\n",
       "\n",
       "    .dataframe thead th {\n",
       "        text-align: right;\n",
       "    }\n",
       "</style>\n",
       "<table border=\"1\" class=\"dataframe\">\n",
       "  <thead>\n",
       "    <tr style=\"text-align: right;\">\n",
       "      <th></th>\n",
       "      <th>image</th>\n",
       "      <th>package</th>\n",
       "      <th>base</th>\n",
       "      <th>operating</th>\n",
       "      <th>popularity</th>\n",
       "      <th>last_updated</th>\n",
       "      <th>core</th>\n",
       "      <th>version_release</th>\n",
       "      <th>id</th>\n",
       "      <th>affecting</th>\n",
       "      <th>published</th>\n",
       "      <th>disclosed</th>\n",
       "      <th>severity</th>\n",
       "      <th>vuln_name</th>\n",
       "      <th>affected</th>\n",
       "      <th>need_update</th>\n",
       "    </tr>\n",
       "  </thead>\n",
       "  <tbody>\n",
       "    <tr>\n",
       "      <th>85</th>\n",
       "      <td>pricecomstock/musicmomentumtyper</td>\n",
       "      <td>chownr</td>\n",
       "      <td>node</td>\n",
       "      <td>Alpine</td>\n",
       "      <td>141526</td>\n",
       "      <td>2019-02-07</td>\n",
       "      <td>True</td>\n",
       "      <td>1.0.1</td>\n",
       "      <td>SNYK-JS-CHOWNR-12184</td>\n",
       "      <td>&lt;1.1.0</td>\n",
       "      <td>2018-07-31</td>\n",
       "      <td>2018-07-31</td>\n",
       "      <td>medium</td>\n",
       "      <td>Time of Check Time of Use (TOCTOU)</td>\n",
       "      <td>True</td>\n",
       "      <td>True</td>\n",
       "    </tr>\n",
       "    <tr>\n",
       "      <th>163</th>\n",
       "      <td>alekzonder/puppeteer</td>\n",
       "      <td>chownr</td>\n",
       "      <td>node</td>\n",
       "      <td>Debian</td>\n",
       "      <td>767920</td>\n",
       "      <td>2018-08-15</td>\n",
       "      <td>True</td>\n",
       "      <td>1.0.1</td>\n",
       "      <td>SNYK-JS-CHOWNR-12184</td>\n",
       "      <td>&lt;1.1.0</td>\n",
       "      <td>2018-07-31</td>\n",
       "      <td>2018-07-31</td>\n",
       "      <td>medium</td>\n",
       "      <td>Time of Check Time of Use (TOCTOU)</td>\n",
       "      <td>True</td>\n",
       "      <td>False</td>\n",
       "    </tr>\n",
       "    <tr>\n",
       "      <th>294</th>\n",
       "      <td>scbd/gaia</td>\n",
       "      <td>chownr</td>\n",
       "      <td>node</td>\n",
       "      <td>Debian</td>\n",
       "      <td>765257</td>\n",
       "      <td>2019-12-04</td>\n",
       "      <td>True</td>\n",
       "      <td>1.0.1</td>\n",
       "      <td>SNYK-JS-CHOWNR-12184</td>\n",
       "      <td>&lt;1.1.0</td>\n",
       "      <td>2018-07-31</td>\n",
       "      <td>2018-07-31</td>\n",
       "      <td>medium</td>\n",
       "      <td>Time of Check Time of Use (TOCTOU)</td>\n",
       "      <td>True</td>\n",
       "      <td>True</td>\n",
       "    </tr>\n",
       "    <tr>\n",
       "      <th>320</th>\n",
       "      <td>davidrhyswhite/npm-cache</td>\n",
       "      <td>chownr</td>\n",
       "      <td>node</td>\n",
       "      <td>Alpine</td>\n",
       "      <td>152764</td>\n",
       "      <td>2018-12-05</td>\n",
       "      <td>True</td>\n",
       "      <td>1.0.1</td>\n",
       "      <td>SNYK-JS-CHOWNR-12184</td>\n",
       "      <td>&lt;1.1.0</td>\n",
       "      <td>2018-07-31</td>\n",
       "      <td>2018-07-31</td>\n",
       "      <td>medium</td>\n",
       "      <td>Time of Check Time of Use (TOCTOU)</td>\n",
       "      <td>True</td>\n",
       "      <td>True</td>\n",
       "    </tr>\n",
       "    <tr>\n",
       "      <th>335</th>\n",
       "      <td>acnapi/acnapi-parse-server</td>\n",
       "      <td>chownr</td>\n",
       "      <td>node</td>\n",
       "      <td>Debian</td>\n",
       "      <td>18529</td>\n",
       "      <td>2019-07-10</td>\n",
       "      <td>True</td>\n",
       "      <td>1.0.1</td>\n",
       "      <td>SNYK-JS-CHOWNR-12184</td>\n",
       "      <td>&lt;1.1.0</td>\n",
       "      <td>2018-07-31</td>\n",
       "      <td>2018-07-31</td>\n",
       "      <td>medium</td>\n",
       "      <td>Time of Check Time of Use (TOCTOU)</td>\n",
       "      <td>True</td>\n",
       "      <td>True</td>\n",
       "    </tr>\n",
       "    <tr>\n",
       "      <th>...</th>\n",
       "      <td>...</td>\n",
       "      <td>...</td>\n",
       "      <td>...</td>\n",
       "      <td>...</td>\n",
       "      <td>...</td>\n",
       "      <td>...</td>\n",
       "      <td>...</td>\n",
       "      <td>...</td>\n",
       "      <td>...</td>\n",
       "      <td>...</td>\n",
       "      <td>...</td>\n",
       "      <td>...</td>\n",
       "      <td>...</td>\n",
       "      <td>...</td>\n",
       "      <td>...</td>\n",
       "      <td>...</td>\n",
       "    </tr>\n",
       "    <tr>\n",
       "      <th>27049</th>\n",
       "      <td>bjh101/node-red</td>\n",
       "      <td>chownr</td>\n",
       "      <td>node</td>\n",
       "      <td>Debian</td>\n",
       "      <td>408784</td>\n",
       "      <td>2019-09-10</td>\n",
       "      <td>True</td>\n",
       "      <td>1.0.1</td>\n",
       "      <td>SNYK-JS-CHOWNR-12184</td>\n",
       "      <td>&lt;1.1.0</td>\n",
       "      <td>2018-07-31</td>\n",
       "      <td>2018-07-31</td>\n",
       "      <td>medium</td>\n",
       "      <td>Time of Check Time of Use (TOCTOU)</td>\n",
       "      <td>True</td>\n",
       "      <td>True</td>\n",
       "    </tr>\n",
       "    <tr>\n",
       "      <th>27064</th>\n",
       "      <td>tkw01536/openmath-json-demo</td>\n",
       "      <td>chownr</td>\n",
       "      <td>node</td>\n",
       "      <td>Alpine</td>\n",
       "      <td>71438</td>\n",
       "      <td>2019-07-16</td>\n",
       "      <td>True</td>\n",
       "      <td>1.0.1</td>\n",
       "      <td>SNYK-JS-CHOWNR-12184</td>\n",
       "      <td>&lt;1.1.0</td>\n",
       "      <td>2018-07-31</td>\n",
       "      <td>2018-07-31</td>\n",
       "      <td>medium</td>\n",
       "      <td>Time of Check Time of Use (TOCTOU)</td>\n",
       "      <td>True</td>\n",
       "      <td>True</td>\n",
       "    </tr>\n",
       "    <tr>\n",
       "      <th>27079</th>\n",
       "      <td>cyber4all/library-service</td>\n",
       "      <td>chownr</td>\n",
       "      <td>node</td>\n",
       "      <td>Debian</td>\n",
       "      <td>157444</td>\n",
       "      <td>2019-11-06</td>\n",
       "      <td>True</td>\n",
       "      <td>1.0.1</td>\n",
       "      <td>SNYK-JS-CHOWNR-12184</td>\n",
       "      <td>&lt;1.1.0</td>\n",
       "      <td>2018-07-31</td>\n",
       "      <td>2018-07-31</td>\n",
       "      <td>medium</td>\n",
       "      <td>Time of Check Time of Use (TOCTOU)</td>\n",
       "      <td>True</td>\n",
       "      <td>True</td>\n",
       "    </tr>\n",
       "    <tr>\n",
       "      <th>27195</th>\n",
       "      <td>hassel16/hinvo</td>\n",
       "      <td>chownr</td>\n",
       "      <td>node</td>\n",
       "      <td>Debian</td>\n",
       "      <td>32645</td>\n",
       "      <td>2018-12-18</td>\n",
       "      <td>True</td>\n",
       "      <td>1.0.1</td>\n",
       "      <td>SNYK-JS-CHOWNR-12184</td>\n",
       "      <td>&lt;1.1.0</td>\n",
       "      <td>2018-07-31</td>\n",
       "      <td>2018-07-31</td>\n",
       "      <td>medium</td>\n",
       "      <td>Time of Check Time of Use (TOCTOU)</td>\n",
       "      <td>True</td>\n",
       "      <td>True</td>\n",
       "    </tr>\n",
       "    <tr>\n",
       "      <th>27274</th>\n",
       "      <td>backstopjs/backstopjs</td>\n",
       "      <td>chownr</td>\n",
       "      <td>node</td>\n",
       "      <td>Debian</td>\n",
       "      <td>84652</td>\n",
       "      <td>2019-12-10</td>\n",
       "      <td>True</td>\n",
       "      <td>1.0.1</td>\n",
       "      <td>SNYK-JS-CHOWNR-12184</td>\n",
       "      <td>&lt;1.1.0</td>\n",
       "      <td>2018-07-31</td>\n",
       "      <td>2018-07-31</td>\n",
       "      <td>medium</td>\n",
       "      <td>Time of Check Time of Use (TOCTOU)</td>\n",
       "      <td>True</td>\n",
       "      <td>True</td>\n",
       "    </tr>\n",
       "  </tbody>\n",
       "</table>\n",
       "<p>403 rows × 16 columns</p>\n",
       "</div>"
      ],
      "text/plain": [
       "                                  image package  base operating  popularity  \\\n",
       "85     pricecomstock/musicmomentumtyper  chownr  node    Alpine      141526   \n",
       "163                alekzonder/puppeteer  chownr  node    Debian      767920   \n",
       "294                           scbd/gaia  chownr  node    Debian      765257   \n",
       "320            davidrhyswhite/npm-cache  chownr  node    Alpine      152764   \n",
       "335          acnapi/acnapi-parse-server  chownr  node    Debian       18529   \n",
       "...                                 ...     ...   ...       ...         ...   \n",
       "27049                   bjh101/node-red  chownr  node    Debian      408784   \n",
       "27064       tkw01536/openmath-json-demo  chownr  node    Alpine       71438   \n",
       "27079         cyber4all/library-service  chownr  node    Debian      157444   \n",
       "27195                    hassel16/hinvo  chownr  node    Debian       32645   \n",
       "27274             backstopjs/backstopjs  chownr  node    Debian       84652   \n",
       "\n",
       "      last_updated  core version_release                    id affecting  \\\n",
       "85      2019-02-07  True           1.0.1  SNYK-JS-CHOWNR-12184    <1.1.0   \n",
       "163     2018-08-15  True           1.0.1  SNYK-JS-CHOWNR-12184    <1.1.0   \n",
       "294     2019-12-04  True           1.0.1  SNYK-JS-CHOWNR-12184    <1.1.0   \n",
       "320     2018-12-05  True           1.0.1  SNYK-JS-CHOWNR-12184    <1.1.0   \n",
       "335     2019-07-10  True           1.0.1  SNYK-JS-CHOWNR-12184    <1.1.0   \n",
       "...            ...   ...             ...                   ...       ...   \n",
       "27049   2019-09-10  True           1.0.1  SNYK-JS-CHOWNR-12184    <1.1.0   \n",
       "27064   2019-07-16  True           1.0.1  SNYK-JS-CHOWNR-12184    <1.1.0   \n",
       "27079   2019-11-06  True           1.0.1  SNYK-JS-CHOWNR-12184    <1.1.0   \n",
       "27195   2018-12-18  True           1.0.1  SNYK-JS-CHOWNR-12184    <1.1.0   \n",
       "27274   2019-12-10  True           1.0.1  SNYK-JS-CHOWNR-12184    <1.1.0   \n",
       "\n",
       "        published  disclosed severity                           vuln_name  \\\n",
       "85     2018-07-31 2018-07-31   medium  Time of Check Time of Use (TOCTOU)   \n",
       "163    2018-07-31 2018-07-31   medium  Time of Check Time of Use (TOCTOU)   \n",
       "294    2018-07-31 2018-07-31   medium  Time of Check Time of Use (TOCTOU)   \n",
       "320    2018-07-31 2018-07-31   medium  Time of Check Time of Use (TOCTOU)   \n",
       "335    2018-07-31 2018-07-31   medium  Time of Check Time of Use (TOCTOU)   \n",
       "...           ...        ...      ...                                 ...   \n",
       "27049  2018-07-31 2018-07-31   medium  Time of Check Time of Use (TOCTOU)   \n",
       "27064  2018-07-31 2018-07-31   medium  Time of Check Time of Use (TOCTOU)   \n",
       "27079  2018-07-31 2018-07-31   medium  Time of Check Time of Use (TOCTOU)   \n",
       "27195  2018-07-31 2018-07-31   medium  Time of Check Time of Use (TOCTOU)   \n",
       "27274  2018-07-31 2018-07-31   medium  Time of Check Time of Use (TOCTOU)   \n",
       "\n",
       "       affected  need_update  \n",
       "85         True         True  \n",
       "163        True        False  \n",
       "294        True         True  \n",
       "320        True         True  \n",
       "335        True         True  \n",
       "...         ...          ...  \n",
       "27049      True         True  \n",
       "27064      True         True  \n",
       "27079      True         True  \n",
       "27195      True         True  \n",
       "27274      True         True  \n",
       "\n",
       "[403 rows x 16 columns]"
      ]
     },
     "execution_count": 39,
     "metadata": {},
     "output_type": "execute_result"
    }
   ],
   "source": [
    "affected.query('vuln_name ==\"Time of Check Time of Use (TOCTOU)\" and base==\"node\"')"
   ]
  },
  {
   "cell_type": "code",
   "execution_count": 19,
   "metadata": {},
   "outputs": [
    {
     "name": "stderr",
     "output_type": "stream",
     "text": [
      "/usr/local/lib/python3.6/dist-packages/ipykernel_launcher.py:21: FutureWarning: The pandas.np module is deprecated and will be removed from pandas in a future version. Import numpy directly instead\n"
     ]
    },
    {
     "data": {
      "text/plain": [
       "([<matplotlib.axis.YTick at 0x7f9fc674ec88>,\n",
       "  <matplotlib.axis.YTick at 0x7f9fc674ec18>,\n",
       "  <matplotlib.axis.YTick at 0x7f9fc674ae48>,\n",
       "  <matplotlib.axis.YTick at 0x7f9fc66a7780>,\n",
       "  <matplotlib.axis.YTick at 0x7f9fc66a7c18>,\n",
       "  <matplotlib.axis.YTick at 0x7f9fc66b10f0>,\n",
       "  <matplotlib.axis.YTick at 0x7f9fc66b1588>],\n",
       " [Text(0, 0, ''),\n",
       "  Text(0, 0, ''),\n",
       "  Text(0, 0, ''),\n",
       "  Text(0, 0, ''),\n",
       "  Text(0, 0, ''),\n",
       "  Text(0, 0, ''),\n",
       "  Text(0, 0, '')])"
      ]
     },
     "execution_count": 19,
     "metadata": {},
     "output_type": "execute_result"
    },
    {
     "data": {
      "image/png": "[encoded data removed]",
      "text/plain": [
       "<Figure size 648x187.2 with 1 Axes>"
      ]
     },
     "metadata": {
      "needs_background": "light"
     },
     "output_type": "display_data"
    }
   ],
   "source": [
    "tmp_df = affected.groupby(['image','severity','base']).count()[['package']].reset_index()\n",
    "ax = sns.boxenplot(x=\"base\", \n",
    "                   y=\"package\",\n",
    "                   hue='severity',\n",
    "                   hue_order = reversed(hue_order),\n",
    "                   order = order,\n",
    "                   data=tmp_df,\n",
    "                   palette=[colors[r] for r in reversed(['up-to-date','patch','minor','major'])] , \n",
    "                    linewidth=1,\n",
    "                  )\n",
    "ax.set(\n",
    "    xlabel='',\n",
    "    ylabel='\\# vulnerabilities',\n",
    "    ylim=(0,12),\n",
    ")\n",
    "ax.figure.set_size_inches(9,2.6)\n",
    "ax.legend(ncol=4, prop={'size': 15, 'weight':'bold'}, bbox_to_anchor= (1,1.28))\n",
    "\n",
    "plt.yticks(pd.np.arange(0, 13, 2)) "
   ]
  },
  {
   "cell_type": "code",
   "execution_count": 21,
   "metadata": {},
   "outputs": [
    {
     "data": {
      "text/html": [
       "<div>\n",
       "<style scoped>\n",
       "    .dataframe tbody tr th:only-of-type {\n",
       "        vertical-align: middle;\n",
       "    }\n",
       "\n",
       "    .dataframe tbody tr th {\n",
       "        vertical-align: top;\n",
       "    }\n",
       "\n",
       "    .dataframe thead th {\n",
       "        text-align: right;\n",
       "    }\n",
       "</style>\n",
       "<table border=\"1\" class=\"dataframe\">\n",
       "  <thead>\n",
       "    <tr style=\"text-align: right;\">\n",
       "      <th></th>\n",
       "      <th>count</th>\n",
       "      <th>mean</th>\n",
       "      <th>std</th>\n",
       "      <th>min</th>\n",
       "      <th>25%</th>\n",
       "      <th>50%</th>\n",
       "      <th>75%</th>\n",
       "      <th>max</th>\n",
       "    </tr>\n",
       "    <tr>\n",
       "      <th>base</th>\n",
       "      <th></th>\n",
       "      <th></th>\n",
       "      <th></th>\n",
       "      <th></th>\n",
       "      <th></th>\n",
       "      <th></th>\n",
       "      <th></th>\n",
       "      <th></th>\n",
       "    </tr>\n",
       "  </thead>\n",
       "  <tbody>\n",
       "    <tr>\n",
       "      <th>Python</th>\n",
       "      <td>270.0</td>\n",
       "      <td>1.892593</td>\n",
       "      <td>1.814732</td>\n",
       "      <td>1.0</td>\n",
       "      <td>1.0</td>\n",
       "      <td>1.0</td>\n",
       "      <td>2.0</td>\n",
       "      <td>13.0</td>\n",
       "    </tr>\n",
       "    <tr>\n",
       "      <th>Ruby</th>\n",
       "      <td>999.0</td>\n",
       "      <td>7.139139</td>\n",
       "      <td>5.582112</td>\n",
       "      <td>1.0</td>\n",
       "      <td>4.0</td>\n",
       "      <td>6.0</td>\n",
       "      <td>9.0</td>\n",
       "      <td>42.0</td>\n",
       "    </tr>\n",
       "    <tr>\n",
       "      <th>node</th>\n",
       "      <td>950.0</td>\n",
       "      <td>6.965263</td>\n",
       "      <td>6.350149</td>\n",
       "      <td>1.0</td>\n",
       "      <td>2.0</td>\n",
       "      <td>4.0</td>\n",
       "      <td>11.0</td>\n",
       "      <td>82.0</td>\n",
       "    </tr>\n",
       "  </tbody>\n",
       "</table>\n",
       "</div>"
      ],
      "text/plain": [
       "        count      mean       std  min  25%  50%   75%   max\n",
       "base                                                        \n",
       "Python  270.0  1.892593  1.814732  1.0  1.0  1.0   2.0  13.0\n",
       "Ruby    999.0  7.139139  5.582112  1.0  4.0  6.0   9.0  42.0\n",
       "node    950.0  6.965263  6.350149  1.0  2.0  4.0  11.0  82.0"
      ]
     },
     "execution_count": 21,
     "metadata": {},
     "output_type": "execute_result"
    }
   ],
   "source": [
    "# Median number of vulnerabilities in images\n",
    "tmp =(affected.groupby(['base','image'])\n",
    " .count()\n",
    " .groupby('base')['package']\n",
    " .describe()\n",
    ")\n",
    "tmp"
   ]
  },
  {
   "cell_type": "code",
   "execution_count": 22,
   "metadata": {},
   "outputs": [
    {
     "name": "stdout",
     "output_type": "stream",
     "text": [
      "MannwhitneyuResult(statistic=442386.5, pvalue=0.004684010417851943)\n",
      "MannwhitneyuResult(statistic=32424.0, pvalue=2.045556099293652e-80)\n",
      "MannwhitneyuResult(statistic=41742.5, pvalue=7.452369972697369e-70)\n"
     ]
    }
   ],
   "source": [
    "# Mann Whitney U test\n",
    "tmp = affected.groupby(['base','image']).count()[['id']].reset_index()\n",
    "print(scipy.stats.mannwhitneyu(tmp.query('base == \"node\"').id, tmp.query('base == \"Ruby\"').id))\n",
    "print(scipy.stats.mannwhitneyu(tmp.query('base == \"node\"').id, tmp.query('base == \"Python\"').id))\n",
    "print(scipy.stats.mannwhitneyu(tmp.query('base == \"Python\"').id, tmp.query('base == \"Ruby\"').id))"
   ]
  },
  {
   "cell_type": "code",
   "execution_count": 23,
   "metadata": {},
   "outputs": [
    {
     "name": "stdout",
     "output_type": "stream",
     "text": [
      "d=-0.06772772772772773\n",
      "False\n",
      "d=0.7471812865497076\n",
      "True\n",
      "d=-0.6904867830793757\n",
      "True\n"
     ]
    }
   ],
   "source": [
    "# Effect size\n",
    "tmp = affected.groupby(['base','image']).count()[['id']].reset_index()\n",
    "print(effect_size.cliffsDelta(tmp.query('base == \"node\"').id, tmp.query('base == \"Ruby\"').id))\n",
    "print(effect_size.cliffsDelta(tmp.query('base == \"node\"').id, tmp.query('base == \"Python\"').id))\n",
    "print(effect_size.cliffsDelta(tmp.query('base == \"Python\"').id, tmp.query('base == \"Ruby\"').id))\n"
   ]
  },
  {
   "cell_type": "markdown",
   "metadata": {},
   "source": [
    "### Let's check whether core packages have less vulnerabilities"
   ]
  },
  {
   "cell_type": "code",
   "execution_count": 24,
   "metadata": {},
   "outputs": [
    {
     "name": "stdout",
     "output_type": "stream",
     "text": [
      "7229 7031\n"
     ]
    },
    {
     "data": {
      "text/html": [
       "<div>\n",
       "<style scoped>\n",
       "    .dataframe tbody tr th:only-of-type {\n",
       "        vertical-align: middle;\n",
       "    }\n",
       "\n",
       "    .dataframe tbody tr th {\n",
       "        vertical-align: top;\n",
       "    }\n",
       "\n",
       "    .dataframe thead th {\n",
       "        text-align: right;\n",
       "    }\n",
       "</style>\n",
       "<table border=\"1\" class=\"dataframe\">\n",
       "  <thead>\n",
       "    <tr style=\"text-align: right;\">\n",
       "      <th></th>\n",
       "      <th></th>\n",
       "      <th>id</th>\n",
       "    </tr>\n",
       "    <tr>\n",
       "      <th>base</th>\n",
       "      <th>core</th>\n",
       "      <th></th>\n",
       "    </tr>\n",
       "  </thead>\n",
       "  <tbody>\n",
       "    <tr>\n",
       "      <th>Python</th>\n",
       "      <th>False</th>\n",
       "      <td>95</td>\n",
       "    </tr>\n",
       "    <tr>\n",
       "      <th rowspan=\"2\" valign=\"top\">Ruby</th>\n",
       "      <th>False</th>\n",
       "      <td>180</td>\n",
       "    </tr>\n",
       "    <tr>\n",
       "      <th>True</th>\n",
       "      <td>6</td>\n",
       "    </tr>\n",
       "    <tr>\n",
       "      <th rowspan=\"2\" valign=\"top\">node</th>\n",
       "      <th>False</th>\n",
       "      <td>130</td>\n",
       "    </tr>\n",
       "    <tr>\n",
       "      <th>True</th>\n",
       "      <td>35</td>\n",
       "    </tr>\n",
       "  </tbody>\n",
       "</table>\n",
       "</div>"
      ],
      "text/plain": [
       "               id\n",
       "base   core      \n",
       "Python False   95\n",
       "Ruby   False  180\n",
       "       True     6\n",
       "node   False  130\n",
       "       True    35"
      ]
     },
     "execution_count": 24,
     "metadata": {},
     "output_type": "execute_result"
    }
   ],
   "source": [
    "print(len(affected.query('core==False')), len(affected.query('core==True')))\n",
    "(affected[['base','core','id']]\n",
    " .drop_duplicates()\n",
    " .groupby(['base','core'])\n",
    " .count()\n",
    ")"
   ]
  },
  {
   "cell_type": "code",
   "execution_count": 25,
   "metadata": {},
   "outputs": [
    {
     "name": "stdout",
     "output_type": "stream",
     "text": [
      "221 26\n"
     ]
    },
    {
     "data": {
      "text/html": [
       "<div>\n",
       "<style scoped>\n",
       "    .dataframe tbody tr th:only-of-type {\n",
       "        vertical-align: middle;\n",
       "    }\n",
       "\n",
       "    .dataframe tbody tr th {\n",
       "        vertical-align: top;\n",
       "    }\n",
       "\n",
       "    .dataframe thead th {\n",
       "        text-align: right;\n",
       "    }\n",
       "</style>\n",
       "<table border=\"1\" class=\"dataframe\">\n",
       "  <thead>\n",
       "    <tr style=\"text-align: right;\">\n",
       "      <th></th>\n",
       "      <th></th>\n",
       "      <th>package</th>\n",
       "    </tr>\n",
       "    <tr>\n",
       "      <th>base</th>\n",
       "      <th>core</th>\n",
       "      <th></th>\n",
       "    </tr>\n",
       "  </thead>\n",
       "  <tbody>\n",
       "    <tr>\n",
       "      <th>Python</th>\n",
       "      <th>False</th>\n",
       "      <td>49</td>\n",
       "    </tr>\n",
       "    <tr>\n",
       "      <th rowspan=\"2\" valign=\"top\">Ruby</th>\n",
       "      <th>False</th>\n",
       "      <td>84</td>\n",
       "    </tr>\n",
       "    <tr>\n",
       "      <th>True</th>\n",
       "      <td>3</td>\n",
       "    </tr>\n",
       "    <tr>\n",
       "      <th rowspan=\"2\" valign=\"top\">node</th>\n",
       "      <th>False</th>\n",
       "      <td>88</td>\n",
       "    </tr>\n",
       "    <tr>\n",
       "      <th>True</th>\n",
       "      <td>23</td>\n",
       "    </tr>\n",
       "  </tbody>\n",
       "</table>\n",
       "</div>"
      ],
      "text/plain": [
       "              package\n",
       "base   core          \n",
       "Python False       49\n",
       "Ruby   False       84\n",
       "       True         3\n",
       "node   False       88\n",
       "       True        23"
      ]
     },
     "execution_count": 25,
     "metadata": {},
     "output_type": "execute_result"
    }
   ],
   "source": [
    "print(affected.query('core==False').package.unique().size, affected.query('core==True').package.unique().size)\n",
    "(affected[['base','package','core']]\n",
    " .drop_duplicates()\n",
    " .groupby(['base','core'])\n",
    " .count()\n",
    ")"
   ]
  },
  {
   "cell_type": "code",
   "execution_count": 99,
   "metadata": {},
   "outputs": [
    {
     "data": {
      "text/plain": [
       "(14260, 9966)"
      ]
     },
     "execution_count": 99,
     "metadata": {},
     "output_type": "execute_result"
    }
   ],
   "source": [
    "len(affected), len(affected.query('need_update == True'))"
   ]
  },
  {
   "cell_type": "code",
   "execution_count": 123,
   "metadata": {},
   "outputs": [
    {
     "data": {
      "text/plain": [
       "356"
      ]
     },
     "execution_count": 123,
     "metadata": {},
     "output_type": "execute_result"
    }
   ],
   "source": [
    "affected.query('need_update == True').id.unique().size"
   ]
  },
  {
   "cell_type": "code",
   "execution_count": 124,
   "metadata": {},
   "outputs": [
    {
     "data": {
      "text/plain": [
       "0.6988779803646564"
      ]
     },
     "execution_count": 124,
     "metadata": {},
     "output_type": "execute_result"
    }
   ],
   "source": [
    "9966/14260"
   ]
  }
 ],
 "metadata": {
  "kernelspec": {
   "display_name": "Python 3",
   "language": "python",
   "name": "python3"
  },
  "language_info": {
   "codemirror_mode": {
    "name": "ipython",
    "version": 3
   },
   "file_extension": ".py",
   "mimetype": "text/x-python",
   "name": "python",
   "nbconvert_exporter": "python",
   "pygments_lexer": "ipython3",
   "version": "3.6.9"
  }
 },
 "nbformat": 4,
 "nbformat_minor": 2
}
