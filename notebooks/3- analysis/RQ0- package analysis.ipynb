{
 "cells": [
  {
   "cell_type": "code",
   "execution_count": 2,
   "metadata": {},
   "outputs": [],
   "source": [
    "%matplotlib inline\n",
    "from imports import *\n",
    "font = {'family' : 'Times New Roman',\n",
    "        'weight' : 'bold',\n",
    "        'size'   : 16}\n",
    "plt.rc('font', **font)\n",
    "order = ['node','Python','Ruby']\n",
    "d = {'python':'Python','ruby':'Ruby'}\n",
    "import effect_size"
   ]
  },
  {
   "cell_type": "markdown",
   "metadata": {},
   "source": [
    "## Load installed packages"
   ]
  },
  {
   "cell_type": "code",
   "execution_count": 3,
   "metadata": {},
   "outputs": [
    {
     "data": {
      "text/plain": [
       "998727"
      ]
     },
     "execution_count": 3,
     "metadata": {},
     "output_type": "execute_result"
    }
   ],
   "source": [
    "packages = pd.read_csv('../data/cleaned_installed_packages.csv')\n",
    "packages.package.fillna('nan', inplace=True)\n",
    "packages['last_updated'] = pd.to_datetime(packages['last_updated'])\n",
    "packages.rename(columns = {'operating':'os'}, inplace=True)\n",
    "len(packages)"
   ]
  },
  {
   "cell_type": "code",
   "execution_count": 4,
   "metadata": {},
   "outputs": [
    {
     "data": {
      "text/plain": [
       "20"
      ]
     },
     "execution_count": 4,
     "metadata": {},
     "output_type": "execute_result"
    }
   ],
   "source": [
    "packages.query('package == \"assert\"').image.unique().size"
   ]
  },
  {
   "cell_type": "code",
   "execution_count": 5,
   "metadata": {},
   "outputs": [],
   "source": [
    "npm = pd.read_csv('../data/npm_versions.csv', dtype=str)\n",
    "python = pd.read_csv('../data/pypi_versions.csv', dtype=str)\n",
    "ruby = pd.read_csv('../data/ruby_versions.csv', dtype=str)\n",
    "available = pd.concat([npm, python, ruby])\n",
    "available.package.fillna('nan', inplace=True)\n",
    "\n",
    "packages = packages[packages.package.isin(available.package)]"
   ]
  },
  {
   "cell_type": "code",
   "execution_count": 6,
   "metadata": {},
   "outputs": [
    {
     "data": {
      "text/plain": [
       "816151"
      ]
     },
     "execution_count": 6,
     "metadata": {},
     "output_type": "execute_result"
    }
   ],
   "source": [
    "# Filter on 3000 images\n",
    "candidates_3000 = pd.read_csv('../data/considered_3000_images.csv')\n",
    "mask = packages.image.isin(candidates_3000.image)\n",
    "packages = packages[mask]\n",
    "packages['base'] = packages['base'].replace(d)\n",
    "len(packages)"
   ]
  },
  {
   "cell_type": "markdown",
   "metadata": {},
   "source": [
    "### RQ1_ Filter on which images to analyze (Ignore \"Ubuntu\" images since there are not many)"
   ]
  },
  {
   "cell_type": "code",
   "execution_count": 7,
   "metadata": {},
   "outputs": [
    {
     "name": "stderr",
     "output_type": "stream",
     "text": [
      "/usr/local/lib/python3.6/dist-packages/ipykernel_launcher.py:21: FutureWarning: The pandas.np module is deprecated and will be removed from pandas in a future version. Import numpy directly instead\n"
     ]
    },
    {
     "data": {
      "text/plain": [
       "<matplotlib.legend.Legend at 0x7f02f72d44e0>"
      ]
     },
     "execution_count": 7,
     "metadata": {},
     "output_type": "execute_result"
    },
    {
     "data": {
      "image/png": "[encoded data removed]",
      "text/plain": [
       "<Figure size 648x198.72 with 1 Axes>"
      ]
     },
     "metadata": {
      "needs_background": "light"
     },
     "output_type": "display_data"
    }
   ],
   "source": [
    "# Number of packages installed in an image (all packages, even duplicated)\n",
    "df_tmp = packages.groupby(['image','base','os']).count()[['package']].reset_index()\n",
    "fig, axes = plt.subplots(1, 1, sharex=True, sharey=True)\n",
    "df_tmp['base'] = df_tmp['base'].replace(d)\n",
    "fig.set_size_inches(9,2.76)\n",
    "ax = sns.violinplot(x=\"base\", \n",
    "                 y=\"package\",\n",
    "                   hue='os',\n",
    "                 order = order,\n",
    "                 data=df_tmp, \n",
    "                 linewidth=1,\n",
    "                    split=True,\n",
    "                  )\n",
    "ax.set(\n",
    "    xlabel='',\n",
    "    ylabel='\\# package releases',# releases',\n",
    "    ylim=(-50,1801)\n",
    ")\n",
    "plt.yticks(pd.np.arange(0, 1801, 300)) \n",
    "ax.legend(bbox_to_anchor= (1,0.98))"
   ]
  },
  {
   "cell_type": "code",
   "execution_count": 8,
   "metadata": {},
   "outputs": [
    {
     "name": "stdout",
     "output_type": "stream",
     "text": [
      "\\begin{tabular}{lrrrr}\n",
      "\\toprule\n",
      "{} &     mean &    min &    50\\% &     max \\\\\n",
      "base   &          &        &        &         \\\\\n",
      "\\midrule\n",
      "Python &   45.288 &    1.0 &   17.0 &   939.0 \\\\\n",
      "Ruby   &   65.372 &    7.0 &   42.0 &   410.0 \\\\\n",
      "node   &  705.491 &  127.0 &  717.0 &  5129.0 \\\\\n",
      "\\bottomrule\n",
      "\\end{tabular}\n",
      "\n"
     ]
    }
   ],
   "source": [
    "print(df_tmp.groupby(['base'])['package'].describe().drop(['std','count','25%', '75%'], axis=1).to_latex())"
   ]
  },
  {
   "cell_type": "code",
   "execution_count": 9,
   "metadata": {},
   "outputs": [
    {
     "data": {
      "text/plain": [
       "array(['ataylorme/docker-node-advanced-wordpress-on-pantheon'],\n",
       "      dtype=object)"
      ]
     },
     "execution_count": 9,
     "metadata": {},
     "output_type": "execute_result"
    }
   ],
   "source": [
    "df_tmp.query('package == 5129.0').image.values"
   ]
  },
  {
   "cell_type": "code",
   "execution_count": 10,
   "metadata": {},
   "outputs": [
    {
     "name": "stdout",
     "output_type": "stream",
     "text": [
      "node MannwhitneyuResult(statistic=94253.0, pvalue=2.6497673983403312e-09)\n",
      "Python MannwhitneyuResult(statistic=97125.5, pvalue=2.92981561774232e-09)\n",
      "Ruby MannwhitneyuResult(statistic=89254.5, pvalue=0.10375613952121143)\n"
     ]
    }
   ],
   "source": [
    "# Mann-whitney u test\n",
    "for base in order:\n",
    "    print(base,scipy.stats.mannwhitneyu(df_tmp.query('base ==\"'+base+'\" and os==\"Alpine\"').package,\n",
    "                                  df_tmp.query('base ==\"'+base+'\" and os==\"Debian\"').package))"
   ]
  },
  {
   "cell_type": "code",
   "execution_count": 11,
   "metadata": {},
   "outputs": [
    {
     "name": "stdout",
     "output_type": "stream",
     "text": [
      "d=0.2164877322925629\n",
      "node True\n",
      "d=-0.21382606724838515\n",
      "Python True\n",
      "d=0.05298255665902725\n",
      "Ruby False\n"
     ]
    }
   ],
   "source": [
    "# Effect size\n",
    "for base in order:\n",
    "    print(base, effect_size.cliffsDelta(df_tmp.query('base ==\"'+base+'\" and os==\"Alpine\"').package,\n",
    "                      df_tmp.query('base ==\"'+base+'\" and os==\"Debian\"').package))"
   ]
  },
  {
   "cell_type": "code",
   "execution_count": 12,
   "metadata": {},
   "outputs": [
    {
     "data": {
      "text/plain": [
       "816151"
      ]
     },
     "execution_count": 12,
     "metadata": {},
     "output_type": "execute_result"
    }
   ],
   "source": [
    "len(packages)"
   ]
  },
  {
   "cell_type": "code",
   "execution_count": 13,
   "metadata": {},
   "outputs": [
    {
     "data": {
      "text/plain": [
       "0.5287168794499151"
      ]
     },
     "execution_count": 13,
     "metadata": {},
     "output_type": "execute_result"
    }
   ],
   "source": [
    "# Duplicated package releases\n",
    "len(packages.query('base== \"node\"').drop_duplicates())/len(packages.query('base== \"node\"'))"
   ]
  },
  {
   "cell_type": "code",
   "execution_count": 14,
   "metadata": {},
   "outputs": [
    {
     "data": {
      "text/html": [
       "<div>\n",
       "<style scoped>\n",
       "    .dataframe tbody tr th:only-of-type {\n",
       "        vertical-align: middle;\n",
       "    }\n",
       "\n",
       "    .dataframe tbody tr th {\n",
       "        vertical-align: top;\n",
       "    }\n",
       "\n",
       "    .dataframe thead th {\n",
       "        text-align: right;\n",
       "    }\n",
       "</style>\n",
       "<table border=\"1\" class=\"dataframe\">\n",
       "  <thead>\n",
       "    <tr style=\"text-align: right;\">\n",
       "      <th></th>\n",
       "      <th>image</th>\n",
       "    </tr>\n",
       "    <tr>\n",
       "      <th>package</th>\n",
       "      <th></th>\n",
       "    </tr>\n",
       "  </thead>\n",
       "  <tbody>\n",
       "    <tr>\n",
       "      <th>glob</th>\n",
       "      <td>998</td>\n",
       "    </tr>\n",
       "    <tr>\n",
       "      <th>core-util-is</th>\n",
       "      <td>989</td>\n",
       "    </tr>\n",
       "    <tr>\n",
       "      <th>minimatch</th>\n",
       "      <td>963</td>\n",
       "    </tr>\n",
       "    <tr>\n",
       "      <th>readable-stream</th>\n",
       "      <td>928</td>\n",
       "    </tr>\n",
       "    <tr>\n",
       "      <th>once</th>\n",
       "      <td>855</td>\n",
       "    </tr>\n",
       "    <tr>\n",
       "      <th>is-fullwidth-code-point</th>\n",
       "      <td>850</td>\n",
       "    </tr>\n",
       "    <tr>\n",
       "      <th>string-width</th>\n",
       "      <td>850</td>\n",
       "    </tr>\n",
       "    <tr>\n",
       "      <th>code-point-at</th>\n",
       "      <td>843</td>\n",
       "    </tr>\n",
       "    <tr>\n",
       "      <th>console-control-strings</th>\n",
       "      <td>843</td>\n",
       "    </tr>\n",
       "    <tr>\n",
       "      <th>npmlog</th>\n",
       "      <td>838</td>\n",
       "    </tr>\n",
       "  </tbody>\n",
       "</table>\n",
       "</div>"
      ],
      "text/plain": [
       "                         image\n",
       "package                       \n",
       "glob                       998\n",
       "core-util-is               989\n",
       "minimatch                  963\n",
       "readable-stream            928\n",
       "once                       855\n",
       "is-fullwidth-code-point    850\n",
       "string-width               850\n",
       "code-point-at              843\n",
       "console-control-strings    843\n",
       "npmlog                     838"
      ]
     },
     "execution_count": 14,
     "metadata": {},
     "output_type": "execute_result"
    }
   ],
   "source": [
    "# Top packages that are duplicated\n",
    "(packages.groupby(['image','package','version'])\n",
    " .count()[['version_release']]\n",
    " .query('version_release>1')\n",
    " .reset_index()\n",
    " [['image','package']].drop_duplicates()\n",
    " .groupby(['package'])\n",
    " .count()[['image']]\n",
    " .sort_values('image', ascending=False)\n",
    " .head(10)\n",
    ")"
   ]
  },
  {
   "cell_type": "markdown",
   "metadata": {},
   "source": [
    "## Many packages will have the same dependencies. Let's remove duplicates"
   ]
  },
  {
   "cell_type": "code",
   "execution_count": 15,
   "metadata": {},
   "outputs": [
    {
     "data": {
      "text/plain": [
       "483585"
      ]
     },
     "execution_count": 15,
     "metadata": {},
     "output_type": "execute_result"
    }
   ],
   "source": [
    "packages.drop_duplicates(inplace=True)\n",
    "len(packages)"
   ]
  },
  {
   "cell_type": "code",
   "execution_count": 18,
   "metadata": {},
   "outputs": [
    {
     "name": "stderr",
     "output_type": "stream",
     "text": [
      "/usr/local/lib/python3.6/dist-packages/ipykernel_launcher.py:21: FutureWarning: The pandas.np module is deprecated and will be removed from pandas in a future version. Import numpy directly instead\n"
     ]
    },
    {
     "data": {
      "image/png": "[encoded data removed]",
      "text/plain": [
       "<Figure size 648x216 with 1 Axes>"
      ]
     },
     "metadata": {
      "needs_background": "light"
     },
     "output_type": "display_data"
    }
   ],
   "source": [
    "# Number of packages installed in an image (all packages without duplicated)\n",
    "df_tmp = packages.groupby(['image','base','os']).count()[['package']].reset_index()\n",
    "fig, axes = plt.subplots(1, 1, sharex=True, sharey=True)\n",
    "df_tmp['base'] = df_tmp['base'].replace(d)\n",
    "fig.set_size_inches(9,3)\n",
    "ax = sns.violinplot(x=\"base\", \n",
    "                 y=\"package\",\n",
    "                   hue='os',\n",
    "                 order = order,\n",
    "                 data=df_tmp, \n",
    "                 linewidth=1,\n",
    "                    split=True,\n",
    "                  )\n",
    "ax.set(\n",
    "    xlabel='',\n",
    "    ylabel='number of packages',\n",
    "    ylim=(-50,801)\n",
    ")\n",
    "plt.yticks(pd.np.arange(0, 801, 200)) \n",
    "ax.legend(bbox_to_anchor= (1,0.98))"
   ]
  },
  {
   "cell_type": "code",
   "execution_count": 19,
   "metadata": {},
   "outputs": [
    {
     "name": "stdout",
     "output_type": "stream",
     "text": [
      "\\begin{tabular}{lrrrr}\n",
      "\\toprule\n",
      "{} &     mean &    min &    50\\% &     max \\\\\n",
      "base   &          &        &        &         \\\\\n",
      "\\midrule\n",
      "Python &   45.208 &    1.0 &   17.0 &   939.0 \\\\\n",
      "Ruby   &   65.372 &    7.0 &   42.0 &   410.0 \\\\\n",
      "node   &  373.005 &  101.0 &  377.0 &  1401.0 \\\\\n",
      "\\bottomrule\n",
      "\\end{tabular}\n",
      "\n"
     ]
    }
   ],
   "source": [
    "print(df_tmp.groupby(['base'])['package'].describe().drop(['count','std','25%', '75%'], axis=1).to_latex())"
   ]
  },
  {
   "cell_type": "code",
   "execution_count": 20,
   "metadata": {},
   "outputs": [
    {
     "name": "stdout",
     "output_type": "stream",
     "text": [
      "node MannwhitneyuResult(statistic=96398.0, pvalue=4.232915487513389e-08)\n",
      "Python MannwhitneyuResult(statistic=97135.5, pvalue=2.9686983031743786e-09)\n",
      "Ruby MannwhitneyuResult(statistic=89254.5, pvalue=0.10375613952121143)\n"
     ]
    }
   ],
   "source": [
    "# Mann-whitney u test\n",
    "for base in order:\n",
    "    print(base,scipy.stats.mannwhitneyu(df_tmp.query('base ==\"'+base+'\" and os==\"Alpine\"').package,\n",
    "                                  df_tmp.query('base ==\"'+base+'\" and os==\"Debian\"').package))"
   ]
  },
  {
   "cell_type": "code",
   "execution_count": 21,
   "metadata": {},
   "outputs": [
    {
     "name": "stdout",
     "output_type": "stream",
     "text": [
      "d=0.1986566413539991\n",
      "node True\n",
      "d=-0.2137451231160253\n",
      "Python True\n",
      "d=0.05298255665902725\n",
      "Ruby False\n"
     ]
    }
   ],
   "source": [
    "# Effect size\n",
    "for base in order:\n",
    "    print(base, effect_size.cliffsDelta(df_tmp.query('base ==\"'+base+'\" and os==\"Alpine\"').package,\n",
    "                      df_tmp.query('base ==\"'+base+'\" and os==\"Debian\"').package))"
   ]
  },
  {
   "cell_type": "code",
   "execution_count": 22,
   "metadata": {},
   "outputs": [
    {
     "data": {
      "text/html": [
       "<div>\n",
       "<style scoped>\n",
       "    .dataframe tbody tr th:only-of-type {\n",
       "        vertical-align: middle;\n",
       "    }\n",
       "\n",
       "    .dataframe tbody tr th {\n",
       "        vertical-align: top;\n",
       "    }\n",
       "\n",
       "    .dataframe thead th {\n",
       "        text-align: right;\n",
       "    }\n",
       "</style>\n",
       "<table border=\"1\" class=\"dataframe\">\n",
       "  <thead>\n",
       "    <tr style=\"text-align: right;\">\n",
       "      <th></th>\n",
       "      <th>image</th>\n",
       "      <th>base</th>\n",
       "      <th>package</th>\n",
       "      <th>version</th>\n",
       "    </tr>\n",
       "  </thead>\n",
       "  <tbody>\n",
       "    <tr>\n",
       "      <th>2204</th>\n",
       "      <td>a114m/dihlab-sails</td>\n",
       "      <td>node</td>\n",
       "      <td>lodash</td>\n",
       "      <td>8</td>\n",
       "    </tr>\n",
       "    <tr>\n",
       "      <th>262281</th>\n",
       "      <td>mradochonski/sailsjs</td>\n",
       "      <td>node</td>\n",
       "      <td>async</td>\n",
       "      <td>8</td>\n",
       "    </tr>\n",
       "    <tr>\n",
       "      <th>385304</th>\n",
       "      <td>strongloop/strong-pm</td>\n",
       "      <td>node</td>\n",
       "      <td>debug</td>\n",
       "      <td>8</td>\n",
       "    </tr>\n",
       "    <tr>\n",
       "      <th>414786</th>\n",
       "      <td>ttssdev/strong-confd-parser</td>\n",
       "      <td>node</td>\n",
       "      <td>debug</td>\n",
       "      <td>8</td>\n",
       "    </tr>\n",
       "    <tr>\n",
       "      <th>328864</th>\n",
       "      <td>rethinkdb/horizon</td>\n",
       "      <td>node</td>\n",
       "      <td>glob</td>\n",
       "      <td>8</td>\n",
       "    </tr>\n",
       "    <tr>\n",
       "      <th>83461</th>\n",
       "      <td>cwds/cans</td>\n",
       "      <td>Ruby</td>\n",
       "      <td>rake</td>\n",
       "      <td>3</td>\n",
       "    </tr>\n",
       "    <tr>\n",
       "      <th>372308</th>\n",
       "      <td>snappler/docker-stats-exporter</td>\n",
       "      <td>Ruby</td>\n",
       "      <td>bundler</td>\n",
       "      <td>3</td>\n",
       "    </tr>\n",
       "    <tr>\n",
       "      <th>83455</th>\n",
       "      <td>cwds/cans</td>\n",
       "      <td>Ruby</td>\n",
       "      <td>rails</td>\n",
       "      <td>3</td>\n",
       "    </tr>\n",
       "    <tr>\n",
       "      <th>83459</th>\n",
       "      <td>cwds/cans</td>\n",
       "      <td>Ruby</td>\n",
       "      <td>railties</td>\n",
       "      <td>3</td>\n",
       "    </tr>\n",
       "    <tr>\n",
       "      <th>351433</th>\n",
       "      <td>saorio/circleci_codenize_tools</td>\n",
       "      <td>Ruby</td>\n",
       "      <td>json</td>\n",
       "      <td>3</td>\n",
       "    </tr>\n",
       "    <tr>\n",
       "      <th>359289</th>\n",
       "      <td>sdcplatform/respondent-home-ui</td>\n",
       "      <td>Python</td>\n",
       "      <td>six</td>\n",
       "      <td>2</td>\n",
       "    </tr>\n",
       "    <tr>\n",
       "      <th>359316</th>\n",
       "      <td>sdcplatform/response-operations-ui</td>\n",
       "      <td>Python</td>\n",
       "      <td>cryptography</td>\n",
       "      <td>2</td>\n",
       "    </tr>\n",
       "    <tr>\n",
       "      <th>359226</th>\n",
       "      <td>sdcplatform/rasrm-ops</td>\n",
       "      <td>Python</td>\n",
       "      <td>idna</td>\n",
       "      <td>2</td>\n",
       "    </tr>\n",
       "    <tr>\n",
       "      <th>359200</th>\n",
       "      <td>sdcplatform/ras-party</td>\n",
       "      <td>Python</td>\n",
       "      <td>six</td>\n",
       "      <td>2</td>\n",
       "    </tr>\n",
       "    <tr>\n",
       "      <th>359269</th>\n",
       "      <td>sdcplatform/respondent-home-ui</td>\n",
       "      <td>Python</td>\n",
       "      <td>idna</td>\n",
       "      <td>2</td>\n",
       "    </tr>\n",
       "  </tbody>\n",
       "</table>\n",
       "</div>"
      ],
      "text/plain": [
       "                                     image    base       package  version\n",
       "2204                    a114m/dihlab-sails    node        lodash        8\n",
       "262281                mradochonski/sailsjs    node         async        8\n",
       "385304                strongloop/strong-pm    node         debug        8\n",
       "414786         ttssdev/strong-confd-parser    node         debug        8\n",
       "328864                   rethinkdb/horizon    node          glob        8\n",
       "83461                            cwds/cans    Ruby          rake        3\n",
       "372308      snappler/docker-stats-exporter    Ruby       bundler        3\n",
       "83455                            cwds/cans    Ruby         rails        3\n",
       "83459                            cwds/cans    Ruby      railties        3\n",
       "351433      saorio/circleci_codenize_tools    Ruby          json        3\n",
       "359289      sdcplatform/respondent-home-ui  Python           six        2\n",
       "359316  sdcplatform/response-operations-ui  Python  cryptography        2\n",
       "359226               sdcplatform/rasrm-ops  Python          idna        2\n",
       "359200               sdcplatform/ras-party  Python           six        2\n",
       "359269      sdcplatform/respondent-home-ui  Python          idna        2"
      ]
     },
     "execution_count": 22,
     "metadata": {},
     "output_type": "execute_result"
    }
   ],
   "source": [
    "tmp_df = (packages\n",
    " .groupby(['image','base','package'])\n",
    " .count()[['version']]\n",
    " .reset_index()\n",
    " .sort_values('version', ascending=False)\n",
    " .query('version>1')\n",
    ")\n",
    "tmp_df.groupby('base').head()"
   ]
  },
  {
   "cell_type": "code",
   "execution_count": 23,
   "metadata": {},
   "outputs": [
    {
     "data": {
      "text/html": [
       "<div>\n",
       "<style scoped>\n",
       "    .dataframe tbody tr th:only-of-type {\n",
       "        vertical-align: middle;\n",
       "    }\n",
       "\n",
       "    .dataframe tbody tr th {\n",
       "        vertical-align: top;\n",
       "    }\n",
       "\n",
       "    .dataframe thead th {\n",
       "        text-align: right;\n",
       "    }\n",
       "</style>\n",
       "<table border=\"1\" class=\"dataframe\">\n",
       "  <thead>\n",
       "    <tr style=\"text-align: right;\">\n",
       "      <th></th>\n",
       "      <th>package</th>\n",
       "    </tr>\n",
       "    <tr>\n",
       "      <th>base</th>\n",
       "      <th></th>\n",
       "    </tr>\n",
       "  </thead>\n",
       "  <tbody>\n",
       "    <tr>\n",
       "      <th>Python</th>\n",
       "      <td>15</td>\n",
       "    </tr>\n",
       "    <tr>\n",
       "      <th>Ruby</th>\n",
       "      <td>190</td>\n",
       "    </tr>\n",
       "    <tr>\n",
       "      <th>node</th>\n",
       "      <td>862</td>\n",
       "    </tr>\n",
       "  </tbody>\n",
       "</table>\n",
       "</div>"
      ],
      "text/plain": [
       "        package\n",
       "base           \n",
       "Python       15\n",
       "Ruby        190\n",
       "node        862"
      ]
     },
     "execution_count": 23,
     "metadata": {},
     "output_type": "execute_result"
    }
   ],
   "source": [
    "tmp_df[['package','base']].drop_duplicates().groupby('base').count()"
   ]
  },
  {
   "cell_type": "code",
   "execution_count": 24,
   "metadata": {},
   "outputs": [
    {
     "data": {
      "text/html": [
       "<div>\n",
       "<style scoped>\n",
       "    .dataframe tbody tr th:only-of-type {\n",
       "        vertical-align: middle;\n",
       "    }\n",
       "\n",
       "    .dataframe tbody tr th {\n",
       "        vertical-align: top;\n",
       "    }\n",
       "\n",
       "    .dataframe thead th {\n",
       "        text-align: right;\n",
       "    }\n",
       "</style>\n",
       "<table border=\"1\" class=\"dataframe\">\n",
       "  <thead>\n",
       "    <tr style=\"text-align: right;\">\n",
       "      <th></th>\n",
       "      <th>package</th>\n",
       "    </tr>\n",
       "    <tr>\n",
       "      <th>base</th>\n",
       "      <th></th>\n",
       "    </tr>\n",
       "  </thead>\n",
       "  <tbody>\n",
       "    <tr>\n",
       "      <th>Python</th>\n",
       "      <td>0.003879</td>\n",
       "    </tr>\n",
       "    <tr>\n",
       "      <th>Ruby</th>\n",
       "      <td>0.059043</td>\n",
       "    </tr>\n",
       "    <tr>\n",
       "      <th>node</th>\n",
       "      <td>0.168261</td>\n",
       "    </tr>\n",
       "  </tbody>\n",
       "</table>\n",
       "</div>"
      ],
      "text/plain": [
       "         package\n",
       "base            \n",
       "Python  0.003879\n",
       "Ruby    0.059043\n",
       "node    0.168261"
      ]
     },
     "execution_count": 24,
     "metadata": {},
     "output_type": "execute_result"
    }
   ],
   "source": [
    "tmp_df[['package','base']].drop_duplicates().groupby('base').count()/packages[['package','base']].drop_duplicates().groupby('base').count()"
   ]
  },
  {
   "cell_type": "code",
   "execution_count": 28,
   "metadata": {},
   "outputs": [
    {
     "data": {
      "text/html": [
       "<div>\n",
       "<style scoped>\n",
       "    .dataframe tbody tr th:only-of-type {\n",
       "        vertical-align: middle;\n",
       "    }\n",
       "\n",
       "    .dataframe tbody tr th {\n",
       "        vertical-align: top;\n",
       "    }\n",
       "\n",
       "    .dataframe thead th {\n",
       "        text-align: right;\n",
       "    }\n",
       "</style>\n",
       "<table border=\"1\" class=\"dataframe\">\n",
       "  <thead>\n",
       "    <tr style=\"text-align: right;\">\n",
       "      <th></th>\n",
       "      <th>image</th>\n",
       "    </tr>\n",
       "    <tr>\n",
       "      <th>base</th>\n",
       "      <th></th>\n",
       "    </tr>\n",
       "  </thead>\n",
       "  <tbody>\n",
       "    <tr>\n",
       "      <td>Python</td>\n",
       "      <td>13</td>\n",
       "    </tr>\n",
       "    <tr>\n",
       "      <td>Ruby</td>\n",
       "      <td>521</td>\n",
       "    </tr>\n",
       "    <tr>\n",
       "      <td>node</td>\n",
       "      <td>1000</td>\n",
       "    </tr>\n",
       "  </tbody>\n",
       "</table>\n",
       "</div>"
      ],
      "text/plain": [
       "        image\n",
       "base         \n",
       "Python     13\n",
       "Ruby      521\n",
       "node     1000"
      ]
     },
     "execution_count": 28,
     "metadata": {},
     "output_type": "execute_result"
    }
   ],
   "source": [
    "tmp_df[['image','base']].drop_duplicates().groupby(['base']).count()"
   ]
  },
  {
   "cell_type": "code",
   "execution_count": 32,
   "metadata": {},
   "outputs": [
    {
     "data": {
      "text/html": [
       "<div>\n",
       "<style scoped>\n",
       "    .dataframe tbody tr th:only-of-type {\n",
       "        vertical-align: middle;\n",
       "    }\n",
       "\n",
       "    .dataframe tbody tr th {\n",
       "        vertical-align: top;\n",
       "    }\n",
       "\n",
       "    .dataframe thead th {\n",
       "        text-align: right;\n",
       "    }\n",
       "</style>\n",
       "<table border=\"1\" class=\"dataframe\">\n",
       "  <thead>\n",
       "    <tr style=\"text-align: right;\">\n",
       "      <th></th>\n",
       "      <th></th>\n",
       "      <th></th>\n",
       "      <th>base</th>\n",
       "    </tr>\n",
       "    <tr>\n",
       "      <th>image</th>\n",
       "      <th>package</th>\n",
       "      <th>version</th>\n",
       "      <th></th>\n",
       "    </tr>\n",
       "  </thead>\n",
       "  <tbody>\n",
       "    <tr>\n",
       "      <td>gw20e/jessie-py3.6.0-nodejs</td>\n",
       "      <td>pyasn1</td>\n",
       "      <td>0.1.7</td>\n",
       "      <td>1</td>\n",
       "    </tr>\n",
       "    <tr>\n",
       "      <td>aishwaryashinde/add</td>\n",
       "      <td>pyasn1</td>\n",
       "      <td>0.1.7</td>\n",
       "      <td>1</td>\n",
       "    </tr>\n",
       "    <tr>\n",
       "      <td>chrisramsay/aws-gen</td>\n",
       "      <td>pyasn1</td>\n",
       "      <td>0.1.7</td>\n",
       "      <td>1</td>\n",
       "    </tr>\n",
       "    <tr>\n",
       "      <td>driveclutch/circleci-python</td>\n",
       "      <td>pyasn1</td>\n",
       "      <td>0.1.7</td>\n",
       "      <td>1</td>\n",
       "    </tr>\n",
       "    <tr>\n",
       "      <td>macadmins/crypt-server-saml</td>\n",
       "      <td>pyasn1</td>\n",
       "      <td>0.1.8</td>\n",
       "      <td>1</td>\n",
       "    </tr>\n",
       "    <tr>\n",
       "      <td>...</td>\n",
       "      <td>...</td>\n",
       "      <td>...</td>\n",
       "      <td>...</td>\n",
       "    </tr>\n",
       "    <tr>\n",
       "      <td>kwikee/bapi-be</td>\n",
       "      <td>more-itertools</td>\n",
       "      <td>8.0.2</td>\n",
       "      <td>1</td>\n",
       "    </tr>\n",
       "    <tr>\n",
       "      <td>renku/renku-demo</td>\n",
       "      <td>more-itertools</td>\n",
       "      <td>8.0.2</td>\n",
       "      <td>1</td>\n",
       "    </tr>\n",
       "    <tr>\n",
       "      <td>pretix/standalone</td>\n",
       "      <td>more-itertools</td>\n",
       "      <td>8.0.2</td>\n",
       "      <td>1</td>\n",
       "    </tr>\n",
       "    <tr>\n",
       "      <td>drillinginfo/cloud-custodian</td>\n",
       "      <td>more-itertools</td>\n",
       "      <td>8.0.2</td>\n",
       "      <td>1</td>\n",
       "    </tr>\n",
       "    <tr>\n",
       "      <td>mozilla/addons-server</td>\n",
       "      <td>more-itertools</td>\n",
       "      <td>8.0.2</td>\n",
       "      <td>1</td>\n",
       "    </tr>\n",
       "  </tbody>\n",
       "</table>\n",
       "<p>6169 rows × 1 columns</p>\n",
       "</div>"
      ],
      "text/plain": [
       "                                                     base\n",
       "image                        package        version      \n",
       "gw20e/jessie-py3.6.0-nodejs  pyasn1         0.1.7       1\n",
       "aishwaryashinde/add          pyasn1         0.1.7       1\n",
       "chrisramsay/aws-gen          pyasn1         0.1.7       1\n",
       "driveclutch/circleci-python  pyasn1         0.1.7       1\n",
       "macadmins/crypt-server-saml  pyasn1         0.1.8       1\n",
       "...                                                   ...\n",
       "kwikee/bapi-be               more-itertools 8.0.2       1\n",
       "renku/renku-demo             more-itertools 8.0.2       1\n",
       "pretix/standalone            more-itertools 8.0.2       1\n",
       "drillinginfo/cloud-custodian more-itertools 8.0.2       1\n",
       "mozilla/addons-server        more-itertools 8.0.2       1\n",
       "\n",
       "[6169 rows x 1 columns]"
      ]
     },
     "execution_count": 32,
     "metadata": {},
     "output_type": "execute_result"
    }
   ],
   "source": [
    "df = pd.read_csv('../data/installed_packages.csv')\n",
    "df.drop_duplicates(inplace=True)\n",
    "df ['base2'] = df ['base'].apply(lambda x: 'P'+x[1:-1])\n",
    "mask = (df.base2+df.package).isin(tmp_df.query('base==\"Python\"').base+tmp_df.query('base==\"Python\"').package)\n",
    "df = df[mask]\n",
    "df[['image','package','version','base']].groupby(['image','package','version']).count().sort_values('version')"
   ]
  },
  {
   "cell_type": "code",
   "execution_count": 16,
   "metadata": {},
   "outputs": [
    {
     "data": {
      "text/plain": [
       "181"
      ]
     },
     "execution_count": 16,
     "metadata": {},
     "output_type": "execute_result"
    }
   ],
   "source": [
    "packages[packages.package.str.contains('virtualenv')].image.unique().size"
   ]
  },
  {
   "cell_type": "code",
   "execution_count": 212,
   "metadata": {},
   "outputs": [
    {
     "data": {
      "text/plain": [
       "<matplotlib.legend.Legend at 0x7f463008ecf8>"
      ]
     },
     "execution_count": 212,
     "metadata": {},
     "output_type": "execute_result"
    },
    {
     "data": {
      "image/png": "[encoded data removed]",
      "text/plain": [
       "<Figure size 648x216 with 1 Axes>"
      ]
     },
     "metadata": {
      "needs_background": "light"
     },
     "output_type": "display_data"
    }
   ],
   "source": [
    "# ALL packages, by year\n",
    "df_tmp = (packages\n",
    "          .groupby(['image','base','last_updated','os'])\n",
    "          .count()[['package']]\n",
    "          .reset_index()\n",
    "         )\n",
    "df_tmp['year'] = df_tmp['last_updated'].apply(lambda x: x.year)\n",
    "fig, axes = plt.subplots(1, 1, sharex=True, sharey=True)\n",
    "fig.set_size_inches(9,3)\n",
    "ax = sns.boxplot(x=\"year\", \n",
    "                 y=\"package\",\n",
    "                   hue='base',\n",
    "                 hue_order = order,\n",
    "                 data=df_tmp, \n",
    "                 palette='Set1', \n",
    "                 linewidth=1,\n",
    "                 showfliers= False\n",
    "                  )\n",
    "ax.set(\n",
    "    xlabel='',\n",
    "    ylabel='number of packages',\n",
    "    ylim=(0,451)\n",
    ")\n",
    "#ax.set_yscale('log')\n",
    "ax.legend(bbox_to_anchor= (0.3, 0.96), ncol=3)\n",
    "#plt.yticks(pd.np.arange(0, 301, 60)) \n"
   ]
  }
 ],
 "metadata": {
  "kernelspec": {
   "display_name": "Python 3",
   "language": "python",
   "name": "python3"
  },
  "language_info": {
   "codemirror_mode": {
    "name": "ipython",
    "version": 3
   },
   "file_extension": ".py",
   "mimetype": "text/x-python",
   "name": "python",
   "nbconvert_exporter": "python",
   "pygments_lexer": "ipython3",
   "version": "3.6.9"
  }
 },
 "nbformat": 4,
 "nbformat_minor": 2
}
