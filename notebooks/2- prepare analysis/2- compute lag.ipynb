{
 "cells": [
  {
   "cell_type": "code",
   "execution_count": 43,
   "metadata": {},
   "outputs": [],
   "source": [
    "import pandas as pd\n",
    "import re\n",
    "from tqdm import tqdm_notebook as tqdm\n",
    "import os\n",
    "import subprocess\n",
    "import json as js\n",
    "import concurrent.futures\n",
    "import time\n",
    "import semver"
   ]
  },
  {
   "cell_type": "markdown",
   "metadata": {},
   "source": [
    "# load installed packages"
   ]
  },
  {
   "cell_type": "code",
   "execution_count": 2,
   "metadata": {},
   "outputs": [],
   "source": [
    "packages = pd.read_csv('../data/cleaned_installed_packages.csv', dtype=str)\n",
    "packages.package.fillna('nan', inplace=True)"
   ]
  },
  {
   "cell_type": "code",
   "execution_count": 4,
   "metadata": {},
   "outputs": [
    {
     "data": {
      "text/html": [
       "<div>\n",
       "<style scoped>\n",
       "    .dataframe tbody tr th:only-of-type {\n",
       "        vertical-align: middle;\n",
       "    }\n",
       "\n",
       "    .dataframe tbody tr th {\n",
       "        vertical-align: top;\n",
       "    }\n",
       "\n",
       "    .dataframe thead th {\n",
       "        text-align: right;\n",
       "    }\n",
       "</style>\n",
       "<table border=\"1\" class=\"dataframe\">\n",
       "  <thead>\n",
       "    <tr style=\"text-align: right;\">\n",
       "      <th></th>\n",
       "      <th>image</th>\n",
       "      <th>package</th>\n",
       "      <th>version</th>\n",
       "      <th>base</th>\n",
       "      <th>operating</th>\n",
       "      <th>popularity</th>\n",
       "      <th>last_updated</th>\n",
       "      <th>core</th>\n",
       "      <th>version_release</th>\n",
       "      <th>version_today</th>\n",
       "    </tr>\n",
       "  </thead>\n",
       "  <tbody>\n",
       "    <tr>\n",
       "      <td>481741</td>\n",
       "      <td>ccarney16/pterodactyl-daemon</td>\n",
       "      <td>get-stream</td>\n",
       "      <td>3.0.0</td>\n",
       "      <td>node</td>\n",
       "      <td>Alpine</td>\n",
       "      <td>62339</td>\n",
       "      <td>2019-04-03</td>\n",
       "      <td>True</td>\n",
       "      <td>3.0.0</td>\n",
       "      <td>3.0.0</td>\n",
       "    </tr>\n",
       "  </tbody>\n",
       "</table>\n",
       "</div>"
      ],
      "text/plain": [
       "                               image     package version  base operating  \\\n",
       "481741  ccarney16/pterodactyl-daemon  get-stream   3.0.0  node    Alpine   \n",
       "\n",
       "       popularity last_updated  core version_release version_today  \n",
       "481741      62339   2019-04-03  True           3.0.0         3.0.0  "
      ]
     },
     "execution_count": 4,
     "metadata": {},
     "output_type": "execute_result"
    }
   ],
   "source": [
    "packages.sample()"
   ]
  },
  {
   "cell_type": "markdown",
   "metadata": {},
   "source": [
    "## load available packages"
   ]
  },
  {
   "cell_type": "code",
   "execution_count": 6,
   "metadata": {},
   "outputs": [],
   "source": [
    "available = pd.concat([\n",
    "    pd.read_csv('../data/'+x, dtype=str) \n",
    "    for x in ['npm_versions.csv','pypi_versions.csv','ruby_versions.csv']])\n",
    "available.package.fillna('nan', inplace=True)"
   ]
  },
  {
   "cell_type": "code",
   "execution_count": 9,
   "metadata": {},
   "outputs": [],
   "source": [
    "available = available.query('date < \"2019-12-12\"')"
   ]
  },
  {
   "cell_type": "code",
   "execution_count": null,
   "metadata": {},
   "outputs": [],
   "source": [
    "available['version'] = available['version'].apply(lambda x: x+'.0' if x.count('.')==1\n",
    "                                                 else x)"
   ]
  },
  {
   "cell_type": "code",
   "execution_count": 13,
   "metadata": {},
   "outputs": [],
   "source": [
    "available = pd.concat([available,available.version.str.extract(RE_SEMVER, expand=True)],axis=1)\n",
    "available.fillna('undefined', inplace=True)"
   ]
  },
  {
   "cell_type": "code",
   "execution_count": 14,
   "metadata": {},
   "outputs": [
    {
     "name": "stdout",
     "output_type": "stream",
     "text": [
      "0.0\n",
      "0.018337030437470453\n",
      "0.0039921348984091045\n"
     ]
    }
   ],
   "source": [
    "# versions that we cannot use MAJOR.MINOR.PATCH with them\n",
    "for x in ['node', 'python','ruby']:\n",
    "    print(len(available.query('base == \"'+x+'\"').query('Major == \"undefined\"'))/len(available.query('base == \"'+x+'\"')))"
   ]
  },
  {
   "cell_type": "code",
   "execution_count": 16,
   "metadata": {},
   "outputs": [],
   "source": [
    "# Filter those packages OUT\n",
    "p = available.query('Major == \"undefined\"').package\n",
    "available = available[~available.package.isin(p)]"
   ]
  },
  {
   "cell_type": "code",
   "execution_count": 17,
   "metadata": {},
   "outputs": [],
   "source": [
    "for col in ['Major','Minor','Patch']:\n",
    "    available[col] = available[col].apply(int)"
   ]
  },
  {
   "cell_type": "code",
   "execution_count": 18,
   "metadata": {},
   "outputs": [],
   "source": [
    "available.sort_values(['base','package','Major','Minor','Patch'], inplace=True)"
   ]
  },
  {
   "cell_type": "code",
   "execution_count": 19,
   "metadata": {},
   "outputs": [],
   "source": [
    "available['Major_previous'] = available['Major'].shift(1)\n",
    "available['Minor_previous'] = available['Minor'].shift(1)\n",
    "available['package_previous'] = available['package'].shift(1)"
   ]
  },
  {
   "cell_type": "code",
   "execution_count": 20,
   "metadata": {},
   "outputs": [],
   "source": [
    "available ['release_type'] = available.apply(lambda d: \n",
    "                                                  release_type(d['package'],\n",
    "                                                               d['Major'],\n",
    "                                                               d['Minor'],\n",
    "                                                               d['package_previous'],\n",
    "                                                               d['Major_previous'],\n",
    "                                                               d['Minor_previous']\n",
    "                                                              ), axis=1)"
   ]
  },
  {
   "cell_type": "code",
   "execution_count": 21,
   "metadata": {},
   "outputs": [
    {
     "data": {
      "text/plain": [
       "98.43791146129023"
      ]
     },
     "execution_count": 21,
     "metadata": {},
     "output_type": "execute_result"
    }
   ],
   "source": [
    "l = len(packages)\n",
    "packages = packages[packages.package.isin(available.package)]\n",
    "len(packages)*100/l"
   ]
  },
  {
   "cell_type": "code",
   "execution_count": 24,
   "metadata": {},
   "outputs": [],
   "source": [
    "available.drop(['Major','Minor','Patch','v_misc','package_previous',\n",
    "                'Major_previous','Minor_previous'], axis=1, inplace=True )\n",
    "available.rename(columns = {'version':'version_compare'}, inplace=True)"
   ]
  },
  {
   "cell_type": "code",
   "execution_count": 25,
   "metadata": {},
   "outputs": [
    {
     "data": {
      "text/html": [
       "<div>\n",
       "<style scoped>\n",
       "    .dataframe tbody tr th:only-of-type {\n",
       "        vertical-align: middle;\n",
       "    }\n",
       "\n",
       "    .dataframe tbody tr th {\n",
       "        vertical-align: top;\n",
       "    }\n",
       "\n",
       "    .dataframe thead th {\n",
       "        text-align: right;\n",
       "    }\n",
       "</style>\n",
       "<table border=\"1\" class=\"dataframe\">\n",
       "  <thead>\n",
       "    <tr style=\"text-align: right;\">\n",
       "      <th></th>\n",
       "      <th>package</th>\n",
       "      <th>version_compare</th>\n",
       "      <th>date</th>\n",
       "      <th>base</th>\n",
       "      <th>release_type</th>\n",
       "    </tr>\n",
       "  </thead>\n",
       "  <tbody>\n",
       "    <tr>\n",
       "      <td>65393</td>\n",
       "      <td>7zip-bin</td>\n",
       "      <td>0.0.1</td>\n",
       "      <td>2016-04-08T10:17:02.879Z</td>\n",
       "      <td>node</td>\n",
       "      <td>initial</td>\n",
       "    </tr>\n",
       "    <tr>\n",
       "      <td>65394</td>\n",
       "      <td>7zip-bin</td>\n",
       "      <td>0.0.2</td>\n",
       "      <td>2016-04-08T10:56:33.502Z</td>\n",
       "      <td>node</td>\n",
       "      <td>patch</td>\n",
       "    </tr>\n",
       "  </tbody>\n",
       "</table>\n",
       "</div>"
      ],
      "text/plain": [
       "        package version_compare                      date  base release_type\n",
       "65393  7zip-bin           0.0.1  2016-04-08T10:17:02.879Z  node      initial\n",
       "65394  7zip-bin           0.0.2  2016-04-08T10:56:33.502Z  node        patch"
      ]
     },
     "execution_count": 25,
     "metadata": {},
     "output_type": "execute_result"
    }
   ],
   "source": [
    "available.head(2)"
   ]
  },
  {
   "cell_type": "code",
   "execution_count": 30,
   "metadata": {},
   "outputs": [
    {
     "data": {
      "text/html": [
       "<div>\n",
       "<style scoped>\n",
       "    .dataframe tbody tr th:only-of-type {\n",
       "        vertical-align: middle;\n",
       "    }\n",
       "\n",
       "    .dataframe tbody tr th {\n",
       "        vertical-align: top;\n",
       "    }\n",
       "\n",
       "    .dataframe thead th {\n",
       "        text-align: right;\n",
       "    }\n",
       "</style>\n",
       "<table border=\"1\" class=\"dataframe\">\n",
       "  <thead>\n",
       "    <tr style=\"text-align: right;\">\n",
       "      <th></th>\n",
       "      <th>image</th>\n",
       "      <th>package</th>\n",
       "      <th>version</th>\n",
       "      <th>base</th>\n",
       "      <th>operating</th>\n",
       "      <th>popularity</th>\n",
       "      <th>last_updated</th>\n",
       "      <th>core</th>\n",
       "      <th>version_release</th>\n",
       "      <th>version_today</th>\n",
       "    </tr>\n",
       "  </thead>\n",
       "  <tbody>\n",
       "    <tr>\n",
       "      <td>0</td>\n",
       "      <td>centralci/alpine-node</td>\n",
       "      <td>bower</td>\n",
       "      <td>1.8.8</td>\n",
       "      <td>node</td>\n",
       "      <td>Alpine</td>\n",
       "      <td>406310</td>\n",
       "      <td>2019-10-28</td>\n",
       "      <td>False</td>\n",
       "      <td>1.8.8</td>\n",
       "      <td>1.8.8</td>\n",
       "    </tr>\n",
       "    <tr>\n",
       "      <td>1</td>\n",
       "      <td>centralci/alpine-node</td>\n",
       "      <td>gulp</td>\n",
       "      <td>4.0.2</td>\n",
       "      <td>node</td>\n",
       "      <td>Alpine</td>\n",
       "      <td>406310</td>\n",
       "      <td>2019-10-28</td>\n",
       "      <td>False</td>\n",
       "      <td>4.0.2</td>\n",
       "      <td>4.0.2</td>\n",
       "    </tr>\n",
       "  </tbody>\n",
       "</table>\n",
       "</div>"
      ],
      "text/plain": [
       "                   image package version  base operating popularity  \\\n",
       "0  centralci/alpine-node   bower   1.8.8  node    Alpine     406310   \n",
       "1  centralci/alpine-node    gulp   4.0.2  node    Alpine     406310   \n",
       "\n",
       "  last_updated   core version_release version_today  \n",
       "0   2019-10-28  False           1.8.8         1.8.8  \n",
       "1   2019-10-28  False           4.0.2         4.0.2  "
      ]
     },
     "execution_count": 30,
     "metadata": {},
     "output_type": "execute_result"
    }
   ],
   "source": [
    "packages.head(2)"
   ]
  },
  {
   "cell_type": "markdown",
   "metadata": {},
   "source": [
    "## Compute the technical lag at the analysis date"
   ]
  },
  {
   "cell_type": "code",
   "execution_count": 32,
   "metadata": {},
   "outputs": [],
   "source": [
    "unique_packages = packages[['package','version_today','base']].drop_duplicates()"
   ]
  },
  {
   "cell_type": "code",
   "execution_count": 33,
   "metadata": {},
   "outputs": [
    {
     "data": {
      "text/plain": [
       "(376604, 29932, 983126)"
      ]
     },
     "execution_count": 33,
     "metadata": {},
     "output_type": "execute_result"
    }
   ],
   "source": [
    "len(available), len(unique_packages), len(packages)"
   ]
  },
  {
   "cell_type": "code",
   "execution_count": 34,
   "metadata": {},
   "outputs": [],
   "source": [
    "unique_packages = (available\n",
    "                   .merge(unique_packages,\n",
    "                          on = ['base','package'],\n",
    "                          how = 'left'\n",
    "                         )\n",
    "                   )"
   ]
  },
  {
   "cell_type": "code",
   "execution_count": 47,
   "metadata": {},
   "outputs": [],
   "source": [
    "def compare_semver(version, compare):\n",
    "    version = version.split('-')[0]\n",
    "    compare = compare.split('-')[0]\n",
    "    try:\n",
    "        return semver.compare(version, compare) < 0\n",
    "    except:\n",
    "        try:\n",
    "            version2 = version.split('.')\n",
    "            compare2 = compare.split('.')\n",
    "            if int(version2[0]) < int(compare2[0]):\n",
    "                return True\n",
    "            elif int(version2[0]) > int(compare2[0]):\n",
    "                return False\n",
    "            else:\n",
    "                if int(version2[1]) < int(compare2[1]):\n",
    "                    return True\n",
    "                elif int(version2[1]) > int(compare2[1]):\n",
    "                    return False\n",
    "                else:\n",
    "                    if int(version2[2]) < int(compare2[2]):\n",
    "                        return True\n",
    "                    elif int(version2[2]) > int(compare2[2]):\n",
    "                        return False\n",
    "                    else:\n",
    "                        return  version < compare\n",
    "        except:\n",
    "            return version < compare"
   ]
  },
  {
   "cell_type": "code",
   "execution_count": 56,
   "metadata": {},
   "outputs": [
    {
     "data": {
      "text/html": [
       "<div>\n",
       "<style scoped>\n",
       "    .dataframe tbody tr th:only-of-type {\n",
       "        vertical-align: middle;\n",
       "    }\n",
       "\n",
       "    .dataframe tbody tr th {\n",
       "        vertical-align: top;\n",
       "    }\n",
       "\n",
       "    .dataframe thead th {\n",
       "        text-align: right;\n",
       "    }\n",
       "</style>\n",
       "<table border=\"1\" class=\"dataframe\">\n",
       "  <thead>\n",
       "    <tr style=\"text-align: right;\">\n",
       "      <th></th>\n",
       "      <th>package</th>\n",
       "      <th>version_compare</th>\n",
       "      <th>date</th>\n",
       "      <th>base</th>\n",
       "      <th>release_type</th>\n",
       "      <th>version_today</th>\n",
       "      <th>missed</th>\n",
       "    </tr>\n",
       "  </thead>\n",
       "  <tbody>\n",
       "    <tr>\n",
       "      <td>0</td>\n",
       "      <td>7zip-bin</td>\n",
       "      <td>0.0.1</td>\n",
       "      <td>2016-04-08T10:17:02.879Z</td>\n",
       "      <td>node</td>\n",
       "      <td>initial</td>\n",
       "      <td>4.1.0</td>\n",
       "      <td>False</td>\n",
       "    </tr>\n",
       "    <tr>\n",
       "      <td>1</td>\n",
       "      <td>7zip-bin</td>\n",
       "      <td>0.0.2</td>\n",
       "      <td>2016-04-08T10:56:33.502Z</td>\n",
       "      <td>node</td>\n",
       "      <td>patch</td>\n",
       "      <td>4.1.0</td>\n",
       "      <td>False</td>\n",
       "    </tr>\n",
       "  </tbody>\n",
       "</table>\n",
       "</div>"
      ],
      "text/plain": [
       "    package version_compare                      date  base release_type  \\\n",
       "0  7zip-bin           0.0.1  2016-04-08T10:17:02.879Z  node      initial   \n",
       "1  7zip-bin           0.0.2  2016-04-08T10:56:33.502Z  node        patch   \n",
       "\n",
       "  version_today  missed  \n",
       "0         4.1.0   False  \n",
       "1         4.1.0   False  "
      ]
     },
     "execution_count": 56,
     "metadata": {},
     "output_type": "execute_result"
    }
   ],
   "source": [
    "unique_packages.head(2)"
   ]
  },
  {
   "cell_type": "code",
   "execution_count": 51,
   "metadata": {},
   "outputs": [],
   "source": [
    "unique_packages['missed'] = unique_packages.apply(lambda d: compare_semver(d['version_today'], d['version_compare']), axis=1)"
   ]
  },
  {
   "cell_type": "code",
   "execution_count": 57,
   "metadata": {},
   "outputs": [],
   "source": [
    "lag_today = (unique_packages\n",
    "             .query('missed == True')\n",
    "             .groupby(['package','version_today','release_type','base'])\n",
    "             .count()[['date']]\n",
    "             .rename(columns={'date':'lag'})\n",
    "             .reset_index()\n",
    "            )"
   ]
  },
  {
   "cell_type": "code",
   "execution_count": 59,
   "metadata": {},
   "outputs": [
    {
     "data": {
      "text/html": [
       "<div>\n",
       "<style scoped>\n",
       "    .dataframe tbody tr th:only-of-type {\n",
       "        vertical-align: middle;\n",
       "    }\n",
       "\n",
       "    .dataframe tbody tr th {\n",
       "        vertical-align: top;\n",
       "    }\n",
       "\n",
       "    .dataframe thead th {\n",
       "        text-align: right;\n",
       "    }\n",
       "</style>\n",
       "<table border=\"1\" class=\"dataframe\">\n",
       "  <thead>\n",
       "    <tr style=\"text-align: right;\">\n",
       "      <th></th>\n",
       "      <th>package</th>\n",
       "      <th>version_today</th>\n",
       "      <th>release_type</th>\n",
       "      <th>base</th>\n",
       "      <th>lag</th>\n",
       "    </tr>\n",
       "  </thead>\n",
       "  <tbody>\n",
       "    <tr>\n",
       "      <td>0</td>\n",
       "      <td>7zip-bin</td>\n",
       "      <td>4.1.0</td>\n",
       "      <td>major</td>\n",
       "      <td>node</td>\n",
       "      <td>1</td>\n",
       "    </tr>\n",
       "    <tr>\n",
       "      <td>1</td>\n",
       "      <td>7zip-bin</td>\n",
       "      <td>4.1.0</td>\n",
       "      <td>patch</td>\n",
       "      <td>node</td>\n",
       "      <td>3</td>\n",
       "    </tr>\n",
       "  </tbody>\n",
       "</table>\n",
       "</div>"
      ],
      "text/plain": [
       "    package version_today release_type  base  lag\n",
       "0  7zip-bin         4.1.0        major  node    1\n",
       "1  7zip-bin         4.1.0        patch  node    3"
      ]
     },
     "execution_count": 59,
     "metadata": {},
     "output_type": "execute_result"
    }
   ],
   "source": [
    "lag_today.head(2)"
   ]
  },
  {
   "cell_type": "code",
   "execution_count": 60,
   "metadata": {},
   "outputs": [],
   "source": [
    "lag_today = lag_today.pivot_table(index=['package','version_today','base'], columns='release_type', values='lag').reset_index()"
   ]
  },
  {
   "cell_type": "code",
   "execution_count": 66,
   "metadata": {},
   "outputs": [],
   "source": [
    "lag_today = lag_today.drop('initial', axis=1).fillna(0)"
   ]
  },
  {
   "cell_type": "code",
   "execution_count": 67,
   "metadata": {},
   "outputs": [
    {
     "data": {
      "text/html": [
       "<div>\n",
       "<style scoped>\n",
       "    .dataframe tbody tr th:only-of-type {\n",
       "        vertical-align: middle;\n",
       "    }\n",
       "\n",
       "    .dataframe tbody tr th {\n",
       "        vertical-align: top;\n",
       "    }\n",
       "\n",
       "    .dataframe thead th {\n",
       "        text-align: right;\n",
       "    }\n",
       "</style>\n",
       "<table border=\"1\" class=\"dataframe\">\n",
       "  <thead>\n",
       "    <tr style=\"text-align: right;\">\n",
       "      <th>release_type</th>\n",
       "      <th>package</th>\n",
       "      <th>version_today</th>\n",
       "      <th>base</th>\n",
       "      <th>major</th>\n",
       "      <th>minor</th>\n",
       "      <th>patch</th>\n",
       "    </tr>\n",
       "  </thead>\n",
       "  <tbody>\n",
       "    <tr>\n",
       "      <td>0</td>\n",
       "      <td>7zip-bin</td>\n",
       "      <td>4.1.0</td>\n",
       "      <td>node</td>\n",
       "      <td>1.0</td>\n",
       "      <td>0.0</td>\n",
       "      <td>3.0</td>\n",
       "    </tr>\n",
       "    <tr>\n",
       "      <td>1</td>\n",
       "      <td>@adonisjs/ace</td>\n",
       "      <td>5.0.8</td>\n",
       "      <td>node</td>\n",
       "      <td>1.0</td>\n",
       "      <td>7.0</td>\n",
       "      <td>20.0</td>\n",
       "    </tr>\n",
       "  </tbody>\n",
       "</table>\n",
       "</div>"
      ],
      "text/plain": [
       "release_type        package version_today  base  major  minor  patch\n",
       "0                  7zip-bin         4.1.0  node    1.0    0.0    3.0\n",
       "1             @adonisjs/ace         5.0.8  node    1.0    7.0   20.0"
      ]
     },
     "execution_count": 67,
     "metadata": {},
     "output_type": "execute_result"
    }
   ],
   "source": [
    "lag_today.head(2)"
   ]
  },
  {
   "cell_type": "code",
   "execution_count": null,
   "metadata": {},
   "outputs": [],
   "source": [
    "len(lag_today), len(packages)"
   ]
  },
  {
   "cell_type": "code",
   "execution_count": 70,
   "metadata": {},
   "outputs": [
    {
     "data": {
      "text/plain": [
       "(983126, 13)"
      ]
     },
     "execution_count": 70,
     "metadata": {},
     "output_type": "execute_result"
    }
   ],
   "source": [
    "lag_today = (packages\n",
    "             .merge(lag_today,\n",
    "                    on = ['base','package','version_today'],\n",
    "                    how = 'left'\n",
    "                   )\n",
    "            )\n",
    "lag_today.shape"
   ]
  },
  {
   "cell_type": "code",
   "execution_count": 71,
   "metadata": {},
   "outputs": [],
   "source": [
    "lag_today.fillna(0, inplace=True)"
   ]
  },
  {
   "cell_type": "code",
   "execution_count": 74,
   "metadata": {},
   "outputs": [],
   "source": [
    "lag_today.drop(['version','version_release'], axis=1, inplace=True)"
   ]
  },
  {
   "cell_type": "code",
   "execution_count": 76,
   "metadata": {},
   "outputs": [],
   "source": [
    "lag_today.to_csv('../data/lag_today.csv', index=False)"
   ]
  },
  {
   "cell_type": "markdown",
   "metadata": {},
   "source": [
    "## Compute the technical lag at the release date"
   ]
  },
  {
   "cell_type": "code",
   "execution_count": 77,
   "metadata": {},
   "outputs": [
    {
     "data": {
      "text/html": [
       "<div>\n",
       "<style scoped>\n",
       "    .dataframe tbody tr th:only-of-type {\n",
       "        vertical-align: middle;\n",
       "    }\n",
       "\n",
       "    .dataframe tbody tr th {\n",
       "        vertical-align: top;\n",
       "    }\n",
       "\n",
       "    .dataframe thead th {\n",
       "        text-align: right;\n",
       "    }\n",
       "</style>\n",
       "<table border=\"1\" class=\"dataframe\">\n",
       "  <thead>\n",
       "    <tr style=\"text-align: right;\">\n",
       "      <th></th>\n",
       "      <th>image</th>\n",
       "      <th>package</th>\n",
       "      <th>version</th>\n",
       "      <th>base</th>\n",
       "      <th>operating</th>\n",
       "      <th>popularity</th>\n",
       "      <th>last_updated</th>\n",
       "      <th>core</th>\n",
       "      <th>version_release</th>\n",
       "      <th>version_today</th>\n",
       "    </tr>\n",
       "  </thead>\n",
       "  <tbody>\n",
       "    <tr>\n",
       "      <td>427613</td>\n",
       "      <td>jiphex/homebridge</td>\n",
       "      <td>assert-plus</td>\n",
       "      <td>1.0.0</td>\n",
       "      <td>node</td>\n",
       "      <td>Debian</td>\n",
       "      <td>15773</td>\n",
       "      <td>2019-08-31</td>\n",
       "      <td>True</td>\n",
       "      <td>1.0.0</td>\n",
       "      <td>1.0.0</td>\n",
       "    </tr>\n",
       "  </tbody>\n",
       "</table>\n",
       "</div>"
      ],
      "text/plain": [
       "                    image      package version  base operating popularity  \\\n",
       "427613  jiphex/homebridge  assert-plus   1.0.0  node    Debian      15773   \n",
       "\n",
       "       last_updated  core version_release version_today  \n",
       "427613   2019-08-31  True           1.0.0         1.0.0  "
      ]
     },
     "execution_count": 77,
     "metadata": {},
     "output_type": "execute_result"
    }
   ],
   "source": [
    "packages.sample()"
   ]
  },
  {
   "cell_type": "code",
   "execution_count": 89,
   "metadata": {},
   "outputs": [],
   "source": [
    "unique_packages = packages[['package','version_release','base','last_updated']].drop_duplicates()"
   ]
  },
  {
   "cell_type": "code",
   "execution_count": 90,
   "metadata": {},
   "outputs": [
    {
     "data": {
      "text/plain": [
       "383472"
      ]
     },
     "execution_count": 90,
     "metadata": {},
     "output_type": "execute_result"
    }
   ],
   "source": [
    "len(unique_packages)"
   ]
  },
  {
   "cell_type": "code",
   "execution_count": 91,
   "metadata": {},
   "outputs": [
    {
     "data": {
      "text/plain": [
       "12657107"
      ]
     },
     "execution_count": 91,
     "metadata": {},
     "output_type": "execute_result"
    }
   ],
   "source": [
    "unique_packages = (available\n",
    "                   .merge(unique_packages,\n",
    "                          on = ['base','package'],\n",
    "                          how = 'left'\n",
    "                         )\n",
    "                   )\n",
    "len(unique_packages)"
   ]
  },
  {
   "cell_type": "code",
   "execution_count": 92,
   "metadata": {},
   "outputs": [],
   "source": [
    "unique_packages['date'] = unique_packages['date'].apply(lambda x: x.split('T')[0])"
   ]
  },
  {
   "cell_type": "code",
   "execution_count": 93,
   "metadata": {},
   "outputs": [],
   "source": [
    "unique_packages = unique_packages.query('date <= last_updated')"
   ]
  },
  {
   "cell_type": "code",
   "execution_count": 94,
   "metadata": {},
   "outputs": [
    {
     "data": {
      "text/plain": [
       "11295373"
      ]
     },
     "execution_count": 94,
     "metadata": {},
     "output_type": "execute_result"
    }
   ],
   "source": [
    "len(unique_packages)"
   ]
  },
  {
   "cell_type": "code",
   "execution_count": 95,
   "metadata": {},
   "outputs": [],
   "source": [
    "unique_packages = unique_packages.query('release_type != \"initial\"')"
   ]
  },
  {
   "cell_type": "code",
   "execution_count": 97,
   "metadata": {},
   "outputs": [],
   "source": [
    "unique_packages['missed'] = unique_packages.apply(lambda d: compare_semver(d['version_release'], d['version_compare']), axis=1)"
   ]
  },
  {
   "cell_type": "code",
   "execution_count": 98,
   "metadata": {},
   "outputs": [],
   "source": [
    "lag_release = (unique_packages\n",
    "             .query('missed == True')\n",
    "             .groupby(['package','version_release','release_type','base','last_updated'])\n",
    "             .count()[['date']]\n",
    "             .rename(columns={'date':'lag'})\n",
    "             .reset_index()\n",
    "            )"
   ]
  },
  {
   "cell_type": "code",
   "execution_count": 99,
   "metadata": {},
   "outputs": [],
   "source": [
    "lag_release = lag_release.pivot_table(index=['package','version_release','base','last_updated'], columns='release_type', values='lag').reset_index()"
   ]
  },
  {
   "cell_type": "code",
   "execution_count": 100,
   "metadata": {},
   "outputs": [
    {
     "data": {
      "text/plain": [
       "(983126, 13)"
      ]
     },
     "execution_count": 100,
     "metadata": {},
     "output_type": "execute_result"
    }
   ],
   "source": [
    "lag_release = (packages\n",
    "             .merge(lag_release,\n",
    "                    on = ['base','package','version_release','last_updated'],\n",
    "                    how = 'left'\n",
    "                   )\n",
    "            )\n",
    "lag_release.fillna(0, inplace=True)\n",
    "lag_release.shape"
   ]
  },
  {
   "cell_type": "code",
   "execution_count": 101,
   "metadata": {},
   "outputs": [
    {
     "data": {
      "text/html": [
       "<div>\n",
       "<style scoped>\n",
       "    .dataframe tbody tr th:only-of-type {\n",
       "        vertical-align: middle;\n",
       "    }\n",
       "\n",
       "    .dataframe tbody tr th {\n",
       "        vertical-align: top;\n",
       "    }\n",
       "\n",
       "    .dataframe thead th {\n",
       "        text-align: right;\n",
       "    }\n",
       "</style>\n",
       "<table border=\"1\" class=\"dataframe\">\n",
       "  <thead>\n",
       "    <tr style=\"text-align: right;\">\n",
       "      <th></th>\n",
       "      <th>image</th>\n",
       "      <th>package</th>\n",
       "      <th>version</th>\n",
       "      <th>base</th>\n",
       "      <th>operating</th>\n",
       "      <th>popularity</th>\n",
       "      <th>last_updated</th>\n",
       "      <th>core</th>\n",
       "      <th>version_release</th>\n",
       "      <th>version_today</th>\n",
       "      <th>major</th>\n",
       "      <th>minor</th>\n",
       "      <th>patch</th>\n",
       "    </tr>\n",
       "  </thead>\n",
       "  <tbody>\n",
       "    <tr>\n",
       "      <td>0</td>\n",
       "      <td>centralci/alpine-node</td>\n",
       "      <td>bower</td>\n",
       "      <td>1.8.8</td>\n",
       "      <td>node</td>\n",
       "      <td>Alpine</td>\n",
       "      <td>406310</td>\n",
       "      <td>2019-10-28</td>\n",
       "      <td>False</td>\n",
       "      <td>1.8.8</td>\n",
       "      <td>1.8.8</td>\n",
       "      <td>0.0</td>\n",
       "      <td>0.0</td>\n",
       "      <td>0.0</td>\n",
       "    </tr>\n",
       "    <tr>\n",
       "      <td>1</td>\n",
       "      <td>centralci/alpine-node</td>\n",
       "      <td>gulp</td>\n",
       "      <td>4.0.2</td>\n",
       "      <td>node</td>\n",
       "      <td>Alpine</td>\n",
       "      <td>406310</td>\n",
       "      <td>2019-10-28</td>\n",
       "      <td>False</td>\n",
       "      <td>4.0.2</td>\n",
       "      <td>4.0.2</td>\n",
       "      <td>0.0</td>\n",
       "      <td>0.0</td>\n",
       "      <td>0.0</td>\n",
       "    </tr>\n",
       "  </tbody>\n",
       "</table>\n",
       "</div>"
      ],
      "text/plain": [
       "                   image package version  base operating popularity  \\\n",
       "0  centralci/alpine-node   bower   1.8.8  node    Alpine     406310   \n",
       "1  centralci/alpine-node    gulp   4.0.2  node    Alpine     406310   \n",
       "\n",
       "  last_updated   core version_release version_today  major  minor  patch  \n",
       "0   2019-10-28  False           1.8.8         1.8.8    0.0    0.0    0.0  \n",
       "1   2019-10-28  False           4.0.2         4.0.2    0.0    0.0    0.0  "
      ]
     },
     "execution_count": 101,
     "metadata": {},
     "output_type": "execute_result"
    }
   ],
   "source": [
    "lag_release.head(2)"
   ]
  },
  {
   "cell_type": "code",
   "execution_count": 102,
   "metadata": {},
   "outputs": [],
   "source": [
    "lag_release.drop(['version','version_today'], axis=1, inplace=True)"
   ]
  },
  {
   "cell_type": "code",
   "execution_count": 103,
   "metadata": {},
   "outputs": [],
   "source": [
    "lag_release.to_csv('../data/lag_release.csv', index=False)"
   ]
  },
  {
   "cell_type": "markdown",
   "metadata": {},
   "source": [
    "## Helpers"
   ]
  },
  {
   "cell_type": "code",
   "execution_count": 12,
   "metadata": {},
   "outputs": [],
   "source": [
    "\n",
    "RE_SEMVER = r'^(?:v|V)?(?P<Major>\\d+)\\.(?P<Minor>\\d+)\\.(?P<Patch>\\d+)(?P<v_misc>.*)$'\n",
    "\n",
    "# Version lag function\n",
    "\n",
    "def semver(constraint, versions):\n",
    "    \"\"\"\n",
    "    Return the versions in ``versions'' that satisfy given constraint.\n",
    "    Semantic is provided by the semver tool of nodejs.\n",
    "    \"\"\"\n",
    "    args = ['semver', '-r', constraint] + list(versions)\n",
    "    \n",
    "    completed = subprocess.run(args, stdout=subprocess.PIPE)\n",
    "    if completed.returncode == 0:\n",
    "        return completed.stdout.decode().strip().split('\\n')\n",
    "    else:\n",
    "        return []\n",
    "    \n",
    "def comply_semver(series_of_releases):\n",
    "    extracted = series_of_releases.str.extract(RE_SEMVER, expand=True)\n",
    "    return (\n",
    "        extracted\n",
    "        [['v_major', 'v_minor', 'v_patch']]\n",
    "        .astype('str')\n",
    "        .assign(v_major= lambda d: d['v_major'])\n",
    "        .assign(v_major= lambda d: d['v_minor'])\n",
    "        .assign(v_major= lambda d: d['v_patch'])\n",
    "        #.assign(Semver=lambda d: d['v_major'] + '.' + d['v_minor'] + '.' + d['v_patch'])\n",
    "        #['Semver']\n",
    "    )\n",
    "\n",
    "def release_type(package, major, minor, package_previous, major_previous,minor_previous):\n",
    "    if package != package_previous:\n",
    "        return 'initial'\n",
    "    if major != major_previous:\n",
    "        return 'major'\n",
    "    if minor != minor_previous:\n",
    "        return 'minor'\n",
    "    return 'patch'\n",
    "        \n",
    "def count_versionlag(package,date,date_latest):\n",
    "    if date==date_latest:\n",
    "        return '0,0,0'\n",
    "    tmp=versions.query('package==\"'+package+'\" and date>\"'+date+'\"').query('date<=\"'+date_latest+'\"')\n",
    "\n",
    "    tmp=tmp.groupby('release_type').count()\n",
    "    try:\n",
    "        major=str(tmp.package['major'])\n",
    "    except:\n",
    "        major=\"0\"\n",
    "        \n",
    "    try:\n",
    "        minor=str(tmp.package['minor'])\n",
    "    except:\n",
    "        minor=\"0\"\n",
    "        \n",
    "    try:\n",
    "        patch=str(tmp.package['patch'])\n",
    "    except:\n",
    "        patch=\"0\"\n",
    "        \n",
    "    return major+','+minor+','+patch"
   ]
  },
  {
   "cell_type": "code",
   "execution_count": null,
   "metadata": {},
   "outputs": [],
   "source": []
  }
 ],
 "metadata": {
  "kernelspec": {
   "display_name": "Python 3",
   "language": "python",
   "name": "python3"
  },
  "language_info": {
   "codemirror_mode": {
    "name": "ipython",
    "version": 3
   },
   "file_extension": ".py",
   "mimetype": "text/x-python",
   "name": "python",
   "nbconvert_exporter": "python",
   "pygments_lexer": "ipython3",
   "version": "3.6.9"
  }
 },
 "nbformat": 4,
 "nbformat_minor": 2
}
