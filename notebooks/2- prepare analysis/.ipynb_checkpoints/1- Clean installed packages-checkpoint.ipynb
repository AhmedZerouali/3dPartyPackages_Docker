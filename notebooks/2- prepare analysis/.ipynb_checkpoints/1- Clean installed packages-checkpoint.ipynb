{
 "cells": [
  {
   "cell_type": "code",
   "execution_count": 58,
   "metadata": {},
   "outputs": [],
   "source": [
    "import pandas as pd\n",
    "import re\n",
    "from tqdm import tqdm_notebook as tqdm\n",
    "import os\n",
    "import subprocess\n",
    "import json as js\n",
    "import concurrent.futures\n",
    "import time\n",
    "#import semver"
   ]
  },
  {
   "cell_type": "markdown",
   "metadata": {},
   "source": [
    "# NEED TO CONSIDER THE SEMVER"
   ]
  },
  {
   "cell_type": "code",
   "execution_count": 59,
   "metadata": {},
   "outputs": [],
   "source": [
    "# HELPERS\n",
    "def semver(constraint, versions):\n",
    "    \"\"\"\n",
    "    Return the versions in ``versions'' that satisfy given constraint.\n",
    "    Semantic is provided by the semver tool of nodejs.\n",
    "    \"\"\"\n",
    "    args = ['semver', '-r', constraint] + list(versions)\n",
    "    \n",
    "    completed = subprocess.run(args, stdout=subprocess.PIPE)\n",
    "    if completed.returncode == 0:\n",
    "        return completed.stdout.decode().strip().split('\\n')\n",
    "    else:\n",
    "        return []\n",
    "\n",
    "def check_ruby(v):\n",
    "    s = v.replace(' ','')\n",
    "    new_x = []\n",
    "    for x in s.split(','):\n",
    "        x = '.'.join(x.split('.')[0:3])\n",
    "        new_x.append(x)\n",
    "    x = ' '.join(new_x)\n",
    "    return x\n",
    "\n",
    "def check_node(v):\n",
    "    return v\n",
    "        \n",
    "def check_affect(constraint, versions, base):\n",
    "    if base == \"node\":\n",
    "        constraint = check_node(constraint)\n",
    "    elif base == \"ruby\":\n",
    "        constraint = check_ruby(constraint)\n",
    "    return affected(constraint,versions)\n"
   ]
  },
  {
   "cell_type": "markdown",
   "metadata": {},
   "source": [
    "# load installed packages"
   ]
  },
  {
   "cell_type": "code",
   "execution_count": 60,
   "metadata": {},
   "outputs": [
    {
     "data": {
      "text/plain": [
       "(996617, 7)"
      ]
     },
     "execution_count": 60,
     "metadata": {},
     "output_type": "execute_result"
    }
   ],
   "source": [
    "packages = pd.read_csv('../data/installed_packages.csv', dtype=str)\n",
    "packages.package.fillna('nan', inplace=True)\n",
    "packages['base'] = packages.base.replace({\"python2\":\"python\", \"python3\":\"python\"})\n",
    "packages.shape"
   ]
  },
  {
   "cell_type": "code",
   "execution_count": 68,
   "metadata": {},
   "outputs": [],
   "source": [
    "p_node = packages.query('image == \"library/node\"').package.values\n",
    "def core_packages(base, package, version):\n",
    "    if base == \"ruby\":\n",
    "        if 'default:' in version:\n",
    "            return True\n",
    "    elif base == \"node\":\n",
    "        if package in p_node:\n",
    "            return True\n",
    "    return False"
   ]
  },
  {
   "cell_type": "code",
   "execution_count": 69,
   "metadata": {},
   "outputs": [],
   "source": [
    "packages['core'] = packages.apply(lambda d: core_packages(d['base'],d['package'], d['version']), axis=1)"
   ]
  },
  {
   "cell_type": "code",
   "execution_count": 66,
   "metadata": {},
   "outputs": [],
   "source": [
    "def handle_version(version, base):\n",
    "    if base ==\"ruby\":\n",
    "        version = version.replace('default: ','').split(', ')\n",
    "        version = '||'.join(version)\n",
    "    return version"
   ]
  },
  {
   "cell_type": "code",
   "execution_count": 70,
   "metadata": {},
   "outputs": [],
   "source": [
    "packages['new_version'] = packages.apply(lambda d: handle_version(d['version'],d['base']), axis=1)"
   ]
  },
  {
   "cell_type": "code",
   "execution_count": 71,
   "metadata": {},
   "outputs": [],
   "source": [
    "packages['orr'] = packages['new_version'].apply(lambda x: len(x.split('||')))"
   ]
  },
  {
   "cell_type": "code",
   "execution_count": 72,
   "metadata": {},
   "outputs": [],
   "source": [
    "ruby = packages.query('base == \"ruby\"').query('orr > 1')\n",
    "df = pd.DataFrame()\n",
    "for i in range(0, len(ruby)):\n",
    "    count = ruby.iloc[i]['orr'] - 1\n",
    "    df = df.append([ruby.iloc[i]]*(count), ignore_index=True)\n",
    "packages = packages.append(df)"
   ]
  },
  {
   "cell_type": "code",
   "execution_count": 73,
   "metadata": {},
   "outputs": [],
   "source": [
    "packages['element'] = packages.groupby(['image','package','version']).cumcount()"
   ]
  },
  {
   "cell_type": "code",
   "execution_count": 74,
   "metadata": {},
   "outputs": [],
   "source": [
    "packages['parsed_version'] = packages['version']\n",
    "packages['version'] = packages.apply(lambda d: d['new_version'].split('||')[d['element']] if d['orr']>1\n",
    "                                    else d['new_version'], axis=1)"
   ]
  },
  {
   "cell_type": "code",
   "execution_count": 75,
   "metadata": {},
   "outputs": [],
   "source": [
    "packages.drop(['new_version','orr','element','parsed_version'], axis=1, inplace=True)"
   ]
  },
  {
   "cell_type": "code",
   "execution_count": 76,
   "metadata": {},
   "outputs": [],
   "source": [
    "npm = pd.read_csv('../data/npm_versions.csv', dtype=str)"
   ]
  },
  {
   "cell_type": "code",
   "execution_count": 77,
   "metadata": {},
   "outputs": [],
   "source": [
    "def check_semver(package, version, date):\n",
    "    if not version[0].isdigit():\n",
    "        try:\n",
    "            version = semver(version, npm.query('package ==\"'+package+'\" and date<=\"'+date+'\"').version.unique().tolist())[-1]\n",
    "        except:\n",
    "            pass\n",
    "        return version\n",
    "    else:\n",
    "        return version"
   ]
  },
  {
   "cell_type": "code",
   "execution_count": 78,
   "metadata": {},
   "outputs": [],
   "source": [
    "packages['version_release'] = packages.apply(lambda d: check_semver(d['package'], d['version'], d['last_updated']) if d['base'] == \"node\"\n",
    "                                            else d['version'], axis=1 )"
   ]
  },
  {
   "cell_type": "code",
   "execution_count": 79,
   "metadata": {},
   "outputs": [],
   "source": [
    "packages['version_today'] = packages.apply(lambda d: check_semver(d['package'], d['version'], '2019-12-14') if d['base'] == \"node\"\n",
    "                                            else d['version'], axis=1 )"
   ]
  },
  {
   "cell_type": "code",
   "execution_count": 80,
   "metadata": {},
   "outputs": [],
   "source": [
    "# More core packages from ruby (using bundled packages)\n",
    "gems_bundled = ['rubyminitest','rubynet-telnet','rubypower_assert','rubyrake','rubytest-unit','rubyxmlrpc']\n",
    "mask = (packages.base+packages.package).isin(gems_bundled)\n",
    "packages.loc[mask, 'core'] = True"
   ]
  },
  {
   "cell_type": "code",
   "execution_count": 81,
   "metadata": {},
   "outputs": [],
   "source": [
    "packages.to_csv('../data/cleaned_installed_packages.csv', index=False)"
   ]
  }
 ],
 "metadata": {
  "kernelspec": {
   "display_name": "Python 3",
   "language": "python",
   "name": "python3"
  },
  "language_info": {
   "codemirror_mode": {
    "name": "ipython",
    "version": 3
   },
   "file_extension": ".py",
   "mimetype": "text/x-python",
   "name": "python",
   "nbconvert_exporter": "python",
   "pygments_lexer": "ipython3",
   "version": "3.6.9"
  }
 },
 "nbformat": 4,
 "nbformat_minor": 2
}
